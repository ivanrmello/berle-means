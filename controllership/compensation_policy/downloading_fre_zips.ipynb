{
 "cells": [
  {
   "cell_type": "code",
   "execution_count": 2,
   "source": [
    "import requests, zipfile, io #for reading zip files straight from CVM website\r\n",
    "import pandas as pd #dataframes\r\n",
    "import glob\r\n",
    "import time\r\n",
    "import pyautogui\r\n",
    "from selenium import webdriver\r\n",
    "from selenium.webdriver.common.keys import Keys\r\n",
    "from selenium.webdriver import ActionChains"
   ],
   "outputs": [],
   "metadata": {}
  },
  {
   "cell_type": "code",
   "execution_count": 3,
   "source": [
    "#Importing list of links\r\n",
    "df_links = pd.read_excel(r\"C:\\Users\\ivanr\\Documents\\berle-means\\controllership\\compensation_policy\\fre_cia_aberta.xlsx\", \r\n",
    "sheet_name=\"selected_forms\")"
   ],
   "outputs": [],
   "metadata": {}
  },
  {
   "cell_type": "code",
   "execution_count": 34,
   "source": [
    "df_links.columns"
   ],
   "outputs": [
    {
     "output_type": "execute_result",
     "data": {
      "text/plain": [
       "Index(['LINK_DOC', 'OBSERVAÇÃO', 'LINK_DOC_PDF'], dtype='object')"
      ]
     },
     "metadata": {},
     "execution_count": 34
    }
   ],
   "metadata": {}
  },
  {
   "cell_type": "code",
   "execution_count": 7,
   "source": [
    "df_links.query(\"OBSERVAÇÃO=='recomeçar daqui'\").to_dict()"
   ],
   "outputs": [
    {
     "output_type": "execute_result",
     "data": {
      "text/plain": [
       "{'LINK_DOC': {7603: 'http://www.rad.cvm.gov.br/ENETCONSULTA/frmDownloadDocumento.aspx?CodigoInstituicao=1&NumeroSequencialDocumento=41327'},\n",
       " 'OBSERVAÇÃO': {7603: 'recomeçar daqui'}}"
      ]
     },
     "metadata": {},
     "execution_count": 7
    }
   ],
   "metadata": {}
  },
  {
   "cell_type": "code",
   "execution_count": 14,
   "source": [
    "restart_list = list(df_links['LINK_DOC'].loc[7603:])"
   ],
   "outputs": [],
   "metadata": {}
  },
  {
   "cell_type": "code",
   "execution_count": 16,
   "source": [
    "len(restart_list)"
   ],
   "outputs": [
    {
     "output_type": "execute_result",
     "data": {
      "text/plain": [
       "155"
      ]
     },
     "metadata": {},
     "execution_count": 16
    }
   ],
   "metadata": {}
  },
  {
   "cell_type": "code",
   "execution_count": 17,
   "source": [
    "#### Requests lib didnt worked so i will use selenium\r\n",
    "for link in restart_list:\r\n",
    "    url = link\r\n",
    "    driver = webdriver.Chrome(\"C:\\Program Files\\Google\\Chrome\\Application\\chromedriver.exe\")\r\n",
    "    driver.maximize_window()\r\n",
    "    driver.get(url)\r\n",
    "    time.sleep(12)\r\n",
    "    driver.quit()"
   ],
   "outputs": [],
   "metadata": {}
  },
  {
   "cell_type": "code",
   "execution_count": 19,
   "source": [
    "#Getting a list of bugged files\r\n",
    "path = r'C:\\Users\\ivanr\\Downloads' # use your path\r\n",
    "all_files = glob.glob(path + \"/*.crdownload\")"
   ],
   "outputs": [],
   "metadata": {}
  },
  {
   "cell_type": "code",
   "execution_count": 22,
   "source": [
    "df_bugged_files = pd.DataFrame(all_files, columns=['bugged_file'])"
   ],
   "outputs": [],
   "metadata": {}
  },
  {
   "cell_type": "code",
   "execution_count": 24,
   "source": [
    "df_bugged_files.to_excel(r\"bugged_files.xlsx\", index=False)"
   ],
   "outputs": [],
   "metadata": {}
  },
  {
   "cell_type": "code",
   "execution_count": 26,
   "source": [
    "#Importing list of links for bugged files (we need to wait a little bit longer to download them)\r\n",
    "df_links_bugged_files = pd.read_excel(r\"C:\\Users\\ivanr\\Documents\\berle-means\\controllership\\compensation_policy\\fre_cia_aberta.xlsx\", \r\n",
    "sheet_name=\"bugged_files\")"
   ],
   "outputs": [],
   "metadata": {}
  },
  {
   "cell_type": "code",
   "execution_count": null,
   "source": [
    "#### Requests lib didnt worked so i will use selenium\r\n",
    "for link in df_links_bugged_files['link']:\r\n",
    "    url = link\r\n",
    "    driver = webdriver.Chrome(\"C:\\Program Files\\Google\\Chrome\\Application\\chromedriver.exe\")\r\n",
    "    driver.maximize_window()\r\n",
    "    driver.get(url)\r\n",
    "    time.sleep(20)\r\n",
    "    driver.quit()"
   ],
   "outputs": [],
   "metadata": {}
  },
  {
   "cell_type": "code",
   "execution_count": 68,
   "source": [
    "len(df_links['LINK_DOC_PDF'])"
   ],
   "outputs": [
    {
     "output_type": "execute_result",
     "data": {
      "text/plain": [
       "7758"
      ]
     },
     "metadata": {},
     "execution_count": 68
    }
   ],
   "metadata": {}
  },
  {
   "cell_type": "code",
   "execution_count": null,
   "source": [
    "#### Requests lib didnt worked so i will use selenium\r\n",
    "######this time I've found the link where I can download PDF directly\r\n",
    "number = 0\r\n",
    "for link in df_links['LINK_DOC_PDF']:\r\n",
    "    number = number + 1\r\n",
    "    print(\"processing \" + str(number) + \" from 7758\")\r\n",
    "    time.sleep(2)\r\n",
    "    url = link\r\n",
    "    driver = webdriver.Chrome(\"C:\\Program Files\\Google\\Chrome\\Application\\chromedriver.exe\")\r\n",
    "    driver.maximize_window()\r\n",
    "    driver.get(url)\r\n",
    "    driver.implicitly_wait(10)\r\n",
    "    #PDF Click\r\n",
    "    pdf_click = driver.find_element_by_xpath('//*[@id=\"btnGeraRelatorioPDF\"]')\r\n",
    "    driver.implicitly_wait(10)\r\n",
    "    ActionChains(driver).move_to_element(pdf_click).click(pdf_click).perform()\r\n",
    "    driver.implicitly_wait(10)\r\n",
    "    #Unmarking all sections\r\n",
    "    time.sleep(2)\r\n",
    "    pyautogui.moveTo(392, 283, 1)\r\n",
    "    time.sleep(1)\r\n",
    "    pyautogui.click(392, 283, clicks=1)\r\n",
    "    time.sleep(1)\r\n",
    "    pyautogui.moveTo(972, 299)\r\n",
    "    pyautogui.mouseDown(button='left')\r\n",
    "    pyautogui.moveTo(969, 530, 1)\r\n",
    "    pyautogui.click()\r\n",
    "    time.sleep(1)\r\n",
    "    pyautogui.click(418, 305, clicks=1)\r\n",
    "    time.sleep(1)\r\n",
    "    #PDF export click\r\n",
    "    pyautogui.moveTo(1354, 422)\r\n",
    "    pyautogui.mouseDown(button='left')\r\n",
    "    pyautogui.moveTo(1357, 584, 1)\r\n",
    "    pyautogui.click()\r\n",
    "    pyautogui.moveTo(667, 598)\r\n",
    "    pyautogui.click()\r\n",
    "    time.sleep(8)\r\n",
    "    driver.quit()"
   ],
   "outputs": [],
   "metadata": {}
  },
  {
   "cell_type": "code",
   "execution_count": 3,
   "source": [
    "#Getting a list of downloaded pdf files\r\n",
    "path = r'C:\\Users\\ivanr\\Documents\\berle-means\\controllership\\compensation_policy\\.pdfs' # use your path\r\n",
    "all_files = glob.glob(path + \"/*.pdf\")"
   ],
   "outputs": [],
   "metadata": {}
  },
  {
   "cell_type": "code",
   "execution_count": 6,
   "source": [
    "df_pdf_files = pd.DataFrame(all_files, columns=['pdf_file'])"
   ],
   "outputs": [],
   "metadata": {}
  },
  {
   "cell_type": "code",
   "execution_count": 8,
   "source": [
    "df_pdf_files.to_excel(r\"pdf_files.xlsx\", index=False)"
   ],
   "outputs": [],
   "metadata": {}
  }
 ],
 "metadata": {
  "orig_nbformat": 4,
  "language_info": {
   "name": "python",
   "version": "3.8.8",
   "mimetype": "text/x-python",
   "codemirror_mode": {
    "name": "ipython",
    "version": 3
   },
   "pygments_lexer": "ipython3",
   "nbconvert_exporter": "python",
   "file_extension": ".py"
  },
  "kernelspec": {
   "name": "python3",
   "display_name": "Python 3.8.8 64-bit"
  },
  "interpreter": {
   "hash": "67ec7ba3d9b86346e9fbef625ddb015493eed4412d6f732feacd0f4e49252ef8"
  }
 },
 "nbformat": 4,
 "nbformat_minor": 2
}
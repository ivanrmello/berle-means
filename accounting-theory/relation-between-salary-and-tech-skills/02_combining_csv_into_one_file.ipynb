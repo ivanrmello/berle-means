{
 "cells": [
  {
   "cell_type": "code",
   "execution_count": 1,
   "source": [
    "import pandas as pd\r\n",
    "import glob\r\n",
    "import xlsxwriter"
   ],
   "outputs": [],
   "metadata": {}
  },
  {
   "cell_type": "code",
   "execution_count": 2,
   "source": [
    "path = r'C:\\Users\\ivanr\\Documents\\berle-means\\accounting-theory\\crawled_data\\finance' # use your path\r\n",
    "all_files = glob.glob(path + \"/*.csv\")\r\n",
    "\r\n",
    "li = []\r\n",
    "\r\n",
    "for filename in all_files:\r\n",
    "    df = pd.read_csv(filename, index_col=None, header=0, sep='|', encoding='UTF-16')\r\n",
    "    li.append(df)\r\n",
    "\r\n",
    "frame = pd.concat(li, axis=0, ignore_index=True)\r\n",
    "\r\n",
    "frame.to_excel('combined_finance.xlsx', engine='xlsxwriter', index=False)"
   ],
   "outputs": [],
   "metadata": {}
  },
  {
   "cell_type": "code",
   "execution_count": 9,
   "source": [
    "frame.tail().loc[9499].to_dict()"
   ],
   "outputs": [
    {
     "output_type": "execute_result",
     "data": {
      "text/plain": [
       "{'titulo_vaga': 'Estágio na área Fiscal / Contábil',\n",
       " 'salario_vaga': 'Até R$ 1.000,00',\n",
       " 'localidade_vaga': 'Santos - SP (1)',\n",
       " 'data_da_vaga': 'Atualizada em 25/05',\n",
       " 'descricao_completa_vaga': 'Deverá estar cursando: Ensino Superior a partir do segundo ano na área Fiscal ou Contábil.\\nLançamentos em planilhas, atualizações e controle no sistema.\\nCurso voltado na área.\\nmostrar menos\\ncompartilhar\\nQuero me candidatar\\nBenefícios\\nTíquete Refeição, Vale Transporte\\nDados da Empresa\\nExclusivo para Assinantes\\nJÁ CONTRATOU PELA CATHO\\nUTILIZA A CATHO HÁ 12 ANOS E 6 MESES\\nQuero me candidatar'}"
      ]
     },
     "metadata": {},
     "execution_count": 9
    }
   ],
   "metadata": {}
  }
 ],
 "metadata": {
  "orig_nbformat": 4,
  "language_info": {
   "name": "python"
  }
 },
 "nbformat": 4,
 "nbformat_minor": 2
}
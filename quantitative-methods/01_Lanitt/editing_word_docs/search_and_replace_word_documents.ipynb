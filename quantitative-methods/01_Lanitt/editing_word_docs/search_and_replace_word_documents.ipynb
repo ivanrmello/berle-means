{
 "cells": [
  {
   "cell_type": "code",
   "execution_count": 4,
   "source": [
    "from docx import Document"
   ],
   "outputs": [],
   "metadata": {}
  },
  {
   "cell_type": "code",
   "execution_count": null,
   "source": [
    "document = Document(r'C:\\Users\\ivanr\\Documents\\83 - Mestrado UFG\\Lanitt\\Eixos-Cursos-Planos-Trilhas-Perfis\\Arnaldo e Letícia_ D. Educacional e Social + Inf. e comunicação + P. Cultural e Design_\\Cursos Livres - Educacional\\Educacional\\Inglês Instrumental\\Plano de Curso Capacitação_InglêsInstrumental.docx')\r\n",
    "\r\n",
    "sections = document.sections\r\n",
    "for paragraph in document.paragraphs:\r\n",
    "    print (paragraph.text)"
   ],
   "outputs": [],
   "metadata": {}
  },
  {
   "cell_type": "code",
   "execution_count": 10,
   "source": [
    "for table in document.tables:\r\n",
    "    for row in table.rows:\r\n",
    "        for cell in row.cells:\r\n",
    "            for paragraph in cell.paragraphs:\r\n",
    "                print(paragraph.text)"
   ],
   "outputs": [
    {
     "output_type": "stream",
     "name": "stdout",
     "text": [
      "Nome da Unidade:\n",
      "\n",
      "CNPJ:\n",
      "\n",
      "Ato Normativo\n",
      "\n",
      "Eixo Tecnológico:\n",
      "Desenvolvimento Educacional e Social\n",
      "Curso de Formação Inicial e Continuada:\n",
      "Inglês Instrumental \n",
      "Carga Horária Total:\n",
      "40h\n",
      "Modalidade da Oferta\n",
      "Híbrida - Reanp (Regime Especial de Aulas não Presenciais)\n",
      "Forma de oferta\n",
      "4h/a \n",
      "Número de Turmas\n",
      "\n",
      "Número de vagas por turma\n",
      "\n",
      "Duração do Curso\n",
      "10 dias (segunda a sexta)\n",
      "Disciplina: Inglês Instrumental\n",
      "MÓDULO LIVRE\n",
      "Carga Horária: 40h\n",
      "Ementa: Apresentação geral das técnicas de leitura (2h); Estratégias de leitura: conhecimento prévio; contexto, palavras cognatas (8h); Estratégias de leitura usando informação não-verbal (4h); Estratégias de leitura usando estrutura textual (4h), Palavras-chave (2h); Skimming e Scanning (8h), Grupos Nominais (4h); Verbos (4h) e Uso do dicionário (4h).\n",
      "Ementa: Apresentação geral das técnicas de leitura (2h); Estratégias de leitura: conhecimento prévio; contexto, palavras cognatas (8h); Estratégias de leitura usando informação não-verbal (4h); Estratégias de leitura usando estrutura textual (4h), Palavras-chave (2h); Skimming e Scanning (8h), Grupos Nominais (4h); Verbos (4h) e Uso do dicionário (4h).\n",
      "Ementa: Apresentação geral das técnicas de leitura (2h); Estratégias de leitura: conhecimento prévio; contexto, palavras cognatas (8h); Estratégias de leitura usando informação não-verbal (4h); Estratégias de leitura usando estrutura textual (4h), Palavras-chave (2h); Skimming e Scanning (8h), Grupos Nominais (4h); Verbos (4h) e Uso do dicionário (4h).\n",
      "Habilidades e Competências: Ao final do curso, o discente estará apto a aplicar estratégias de leitura e compreensão de textos em língua inglesa. (aqui não pode descrever o perfil do egresso mas criar no mínimo duas habilidades e duas competências \n",
      "Ex;\n",
      "Competências:\n",
      "1.Compreender textos técnicos da área de informática, através da aplicação de técnicas sensoriais de leitura.\n",
      " 2. Administrar situações onde a necessidade da compreensão de textos técnicos em língua inglesa esteja presente. \n",
      "3. Dominar noções gramaticais que possam interferir na compreensão de textos técnicos\n",
      "\n",
      "Habilidades\n",
      "1. Identificar, de forma geral, a diferença entre os diversos tipos de textos em língua inglesa.\n",
      "\n",
      "Habilidades e Competências: Ao final do curso, o discente estará apto a aplicar estratégias de leitura e compreensão de textos em língua inglesa. (aqui não pode descrever o perfil do egresso mas criar no mínimo duas habilidades e duas competências \n",
      "Ex;\n",
      "Competências:\n",
      "1.Compreender textos técnicos da área de informática, através da aplicação de técnicas sensoriais de leitura.\n",
      " 2. Administrar situações onde a necessidade da compreensão de textos técnicos em língua inglesa esteja presente. \n",
      "3. Dominar noções gramaticais que possam interferir na compreensão de textos técnicos\n",
      "\n",
      "Habilidades\n",
      "1. Identificar, de forma geral, a diferença entre os diversos tipos de textos em língua inglesa.\n",
      "\n",
      "Habilidades e Competências: Ao final do curso, o discente estará apto a aplicar estratégias de leitura e compreensão de textos em língua inglesa. (aqui não pode descrever o perfil do egresso mas criar no mínimo duas habilidades e duas competências \n",
      "Ex;\n",
      "Competências:\n",
      "1.Compreender textos técnicos da área de informática, através da aplicação de técnicas sensoriais de leitura.\n",
      " 2. Administrar situações onde a necessidade da compreensão de textos técnicos em língua inglesa esteja presente. \n",
      "3. Dominar noções gramaticais que possam interferir na compreensão de textos técnicos\n",
      "\n",
      "Habilidades\n",
      "1. Identificar, de forma geral, a diferença entre os diversos tipos de textos em língua inglesa.\n",
      "\n"
     ]
    }
   ],
   "metadata": {}
  }
 ],
 "metadata": {
  "orig_nbformat": 4,
  "language_info": {
   "name": "python"
  }
 },
 "nbformat": 4,
 "nbformat_minor": 2
}
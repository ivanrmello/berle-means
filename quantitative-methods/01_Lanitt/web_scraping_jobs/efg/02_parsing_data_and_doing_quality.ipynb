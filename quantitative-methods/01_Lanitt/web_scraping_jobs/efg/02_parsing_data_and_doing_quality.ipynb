{
 "cells": [
  {
   "cell_type": "code",
   "execution_count": 1,
   "metadata": {},
   "outputs": [],
   "source": [
    "import os\n",
    "import pandas as pd"
   ]
  },
  {
   "cell_type": "code",
   "execution_count": 2,
   "metadata": {},
   "outputs": [],
   "source": [
    "li = []\n",
    "for path, subdirs, files in os.walk(r'C:\\Users\\ivanr\\Documents\\berle-means\\quantitative-methods\\01_Lanitt\\web_scraping_jobs\\efg\\catho_online'):\n",
    "    for name in files:\n",
    "        filename = os.path.join(path, name)\n",
    "        df = pd.read_csv(filename, index_col=None, header=0, sep='|', encoding='UTF-16')\n",
    "        df['palavra-chave'] = filename.split(\"\\\\\")[-2]\n",
    "        li.append(df)\n",
    "df_raw = pd.concat(li, axis=0, ignore_index=True)"
   ]
  },
  {
   "cell_type": "code",
   "execution_count": 3,
   "metadata": {},
   "outputs": [
    {
     "name": "stdout",
     "output_type": "stream",
     "text": [
      "<class 'pandas.core.frame.DataFrame'>\n",
      "RangeIndex: 5820 entries, 0 to 5819\n",
      "Data columns (total 6 columns):\n",
      " #   Column                   Non-Null Count  Dtype \n",
      "---  ------                   --------------  ----- \n",
      " 0   titulo_vaga              5820 non-null   object\n",
      " 1   salario_vaga             5820 non-null   object\n",
      " 2   localidade_vaga          5820 non-null   object\n",
      " 3   data_da_vaga             5820 non-null   object\n",
      " 4   descricao_completa_vaga  5820 non-null   object\n",
      " 5   palavra-chave            5820 non-null   object\n",
      "dtypes: object(6)\n",
      "memory usage: 272.9+ KB\n"
     ]
    }
   ],
   "source": [
    "df_raw.info()"
   ]
  },
  {
   "cell_type": "code",
   "execution_count": 4,
   "metadata": {},
   "outputs": [
    {
     "data": {
      "text/plain": [
       "'Criação de arte gráficas. Domínio em CorelDraw e atendimento ao público. Experiência na área de comunicação visual e gráfica.mostrar menoscompartilharQuero me candidatarBenefíciosRestaurante na empresa, Tíquete Alimentação, Vale TransporteHorárioDe segunda a sexta, das 08h à 18h.Regime de ContrataçãoCLT (Efetivo)Dados da EmpresaExclusivo para AssinantesUTILIZA A CATHO HÁ 1 ANO E 4 MESESQuero me candidatar'"
      ]
     },
     "execution_count": 4,
     "metadata": {},
     "output_type": "execute_result"
    }
   ],
   "source": [
    "df_raw['descricao_completa_vaga'][0]"
   ]
  },
  {
   "cell_type": "code",
   "execution_count": 5,
   "metadata": {},
   "outputs": [],
   "source": [
    "description_list = df_raw['descricao_completa_vaga'].to_list()"
   ]
  },
  {
   "cell_type": "code",
   "execution_count": 6,
   "metadata": {},
   "outputs": [
    {
     "data": {
      "text/plain": [
       "'Diretor de criação que saiba desenvolver layouts, supervisionar e criar rotina ´para a equipe de designer dentro da agência de publicidade. O profissional terá que colocar a mão na massa e executar também o trabalho além de supervisionar.Disponibilidade de horário para trabalho Que tenha conhecimento do pacote adobe Intenda de edição de vídeo e imagensmostrar menoscompartilharQuero me candidatarHorárioSegunda a sexta feira das 08:00hs as 18:00hsRegime de ContrataçãoPrestador de serviços (PJ)Informações AdicionaisQue saiba elaborar projetos de criaçãoDados da EmpresaExclusivo para AssinantesQuero me candidatar'"
      ]
     },
     "execution_count": 6,
     "metadata": {},
     "output_type": "execute_result"
    }
   ],
   "source": [
    "description_list[1]"
   ]
  },
  {
   "cell_type": "code",
   "execution_count": 7,
   "metadata": {},
   "outputs": [],
   "source": [
    "beneficios_list = []\n",
    "logger = 0\n",
    "for desc in description_list:\n",
    "    try:\n",
    "        beneficios = desc[desc.index(\"Benefícios\")+10:desc.index(\"Horário\")]\n",
    "        beneficios_list.append(beneficios.strip().replace(\",\",\";\"))\n",
    "    except:\n",
    "        beneficios_list.append(\"Não Informado\")"
   ]
  },
  {
   "cell_type": "code",
   "execution_count": 8,
   "metadata": {},
   "outputs": [],
   "source": [
    "df_raw['beneficios'] = beneficios_list"
   ]
  },
  {
   "cell_type": "code",
   "execution_count": 9,
   "metadata": {},
   "outputs": [
    {
     "data": {
      "text/plain": [
       "'Diretor de criação que saiba desenvolver layouts, supervisionar e criar rotina ´para a equipe de designer dentro da agência de publicidade. O profissional terá que colocar a mão na massa e executar também o trabalho além de supervisionar.Disponibilidade de horário para trabalho Que tenha conhecimento do pacote adobe Intenda de edição de vídeo e imagensmostrar menoscompartilharQuero me candidatarHorárioSegunda a sexta feira das 08:00hs as 18:00hsRegime de ContrataçãoPrestador de serviços (PJ)Informações AdicionaisQue saiba elaborar projetos de criaçãoDados da EmpresaExclusivo para AssinantesQuero me candidatar'"
      ]
     },
     "execution_count": 9,
     "metadata": {},
     "output_type": "execute_result"
    }
   ],
   "source": [
    "description_list[1]"
   ]
  },
  {
   "cell_type": "code",
   "execution_count": 10,
   "metadata": {},
   "outputs": [],
   "source": [
    "regime_de_contratacao_list = []\n",
    "logger = 0\n",
    "for desc in description_list:\n",
    "    pj = ['pj','auto','autô','auton']\n",
    "    clt = ['clt']\n",
    "    temp = ['temporário','free']\n",
    "    try:\n",
    "        regime_de_contratacao = desc[desc.index(\"Regime de Contratação\")+21:desc.index(\"Informações Adicionais\")]\n",
    "        if any(x in regime_de_contratacao.lower() for x in pj):\n",
    "            regime_de_contratacao_list.append(\"Autônomo / PJ\")\n",
    "        elif any(x in regime_de_contratacao.lower() for x in clt):\n",
    "            regime_de_contratacao_list.append(\"Efetivo / CLT\")\n",
    "        elif any(x in regime_de_contratacao.lower() for x in temp):\n",
    "            regime_de_contratacao_list.append(\"Temporário\")\n",
    "        else:\n",
    "            regime_de_contratacao_list.append(regime_de_contratacao.strip().replace(\",\",\";\"))\n",
    "    except:\n",
    "        regime_de_contratacao_list.append(\"Não Informado\")"
   ]
  },
  {
   "cell_type": "code",
   "execution_count": 11,
   "metadata": {},
   "outputs": [],
   "source": [
    "df_raw['regime_de_contratacao'] = regime_de_contratacao_list"
   ]
  },
  {
   "cell_type": "code",
   "execution_count": 12,
   "metadata": {},
   "outputs": [
    {
     "data": {
      "text/plain": [
       "'Diretor de criação que saiba desenvolver layouts, supervisionar e criar rotina ´para a equipe de designer dentro da agência de publicidade. O profissional terá que colocar a mão na massa e executar também o trabalho além de supervisionar.Disponibilidade de horário para trabalho Que tenha conhecimento do pacote adobe Intenda de edição de vídeo e imagensmostrar menoscompartilharQuero me candidatarHorárioSegunda a sexta feira das 08:00hs as 18:00hsRegime de ContrataçãoPrestador de serviços (PJ)Informações AdicionaisQue saiba elaborar projetos de criaçãoDados da EmpresaExclusivo para AssinantesQuero me candidatar'"
      ]
     },
     "execution_count": 12,
     "metadata": {},
     "output_type": "execute_result"
    }
   ],
   "source": [
    "description_list[1]"
   ]
  },
  {
   "cell_type": "code",
   "execution_count": 13,
   "metadata": {},
   "outputs": [],
   "source": [
    "horario_list = []\n",
    "logger = 0\n",
    "for desc in description_list:\n",
    "    padrao = ['segunda','sexta','8','18','seg','sex','2º a 6º','40']\n",
    "    comercial = ['comercial','peri','integral',\n",
    "                'das 07:30 h às 17:30 h. intervalo de 1h para almoço.',\n",
    "                'das 09:00 às 19:00.',\n",
    "                '7h30 ás 17h.',\n",
    "                '07:30 a 17:00',\n",
    "                'administrativo']\n",
    "    flexivel = ['flexível', 'flexivel', 'livre','flex']\n",
    "    combinar = ['combinar','sábado e feriados ocasionalmente.','disponibilidade para viagem.']\n",
    "    flexivel_combinar = flexivel + combinar\n",
    "    horas_44_semanais = ['44','hor']\n",
    "    comercial_horas_44_semanais = comercial + horas_44_semanais\n",
    "    shopping = ['shopp','shopping','shoping',\n",
    "            '1 folga na semana 1 domingo de folga no mêss',\n",
    "            'de domingo a domingo folga na semana.',\n",
    "            'disponibilidade para trabalhar sábado e domingo com folga durante a semana.',\n",
    "            'terça-feira a sábado']\n",
    "    escala = ['escala','reveza','sistema 5x1.']\n",
    "    escala_shopping = escala + shopping\n",
    "    home_office = ['teletrabalho','home','off']\n",
    "    plantao = ['00:00 ás 06:00','plantão','12 por 36.']\n",
    "    meio_periodo = ['meio','parcial','07h30min às 11h30min / 13h30min às 17h30min',\n",
    "                    '9h às 11h e 13h às 17h']\n",
    "    vespertino = ['das 13:30 às 22:00.','16h às 22h.','13:30h as 22:00h',\n",
    "                    '15:00 ás 23:20h','das 14hs às 22hs']\n",
    "    nao_informado = ['indeterminada.','externo.',';mostrar menoscompartilharquero me candidatar','indefinido']\n",
    "    try:\n",
    "        horario = desc[desc.index(\"Horário\")+7:desc.index(\"Regime de Contratação\")]\n",
    "        if any(x in horario.lower() for x in padrao):\n",
    "            horario_list.append(\"Segunda a Sexta 8h as 18h\")\n",
    "        elif any(x in horario.lower() for x in comercial_horas_44_semanais):\n",
    "            horario_list.append(\"Comercial\")\n",
    "        elif any(x in horario.lower() for x in flexivel_combinar):\n",
    "            horario_list.append(\"A Combinar / Flexível\")\n",
    "        elif any(x in horario.lower() for x in escala_shopping):\n",
    "            horario_list.append(\"Escala / Shopping\")\n",
    "        elif any(x in horario.lower() for x in home_office):\n",
    "            horario_list.append(\"Home Office / Teletrabalho\")\n",
    "        elif any(x in horario.lower() for x in plantao):\n",
    "            horario_list.append(\"Plantão\")\n",
    "        elif any(x in horario.lower() for x in meio_periodo):\n",
    "            horario_list.append(\"Meio Período\")\n",
    "        elif any(x in horario.lower() for x in vespertino):\n",
    "            horario_list.append(\"Vespertino\")\n",
    "        elif any(x in horario.lower() for x in nao_informado):\n",
    "            horario_list.append(\"Não Informado\")\n",
    "        elif (not horario):\n",
    "            horario_list.append(\"Não Informado\")\n",
    "        else:\n",
    "            horario_list.append(horario.strip().replace(\",\",\";\"))\n",
    "    except:\n",
    "        horario_list.append(\"Não Informado\")"
   ]
  },
  {
   "cell_type": "code",
   "execution_count": 14,
   "metadata": {},
   "outputs": [],
   "source": [
    "df_raw['horario'] = horario_list"
   ]
  },
  {
   "cell_type": "code",
   "execution_count": 15,
   "metadata": {},
   "outputs": [
    {
     "name": "stdout",
     "output_type": "stream",
     "text": [
      "<class 'pandas.core.frame.DataFrame'>\n",
      "RangeIndex: 5820 entries, 0 to 5819\n",
      "Data columns (total 9 columns):\n",
      " #   Column                   Non-Null Count  Dtype \n",
      "---  ------                   --------------  ----- \n",
      " 0   titulo_vaga              5820 non-null   object\n",
      " 1   salario_vaga             5820 non-null   object\n",
      " 2   localidade_vaga          5820 non-null   object\n",
      " 3   data_da_vaga             5820 non-null   object\n",
      " 4   descricao_completa_vaga  5820 non-null   object\n",
      " 5   palavra-chave            5820 non-null   object\n",
      " 6   beneficios               5820 non-null   object\n",
      " 7   regime_de_contratacao    5820 non-null   object\n",
      " 8   horario                  5820 non-null   object\n",
      "dtypes: object(9)\n",
      "memory usage: 409.3+ KB\n"
     ]
    }
   ],
   "source": [
    "df_raw.info()"
   ]
  },
  {
   "cell_type": "code",
   "execution_count": 16,
   "metadata": {},
   "outputs": [],
   "source": [
    "df_raw.to_excel(r'C:\\Users\\ivanr\\Documents\\berle-means\\quantitative-methods\\01_Lanitt\\web_scraping_jobs\\efg\\parsed_data.xlsx', index=False)"
   ]
  }
 ],
 "metadata": {
  "interpreter": {
   "hash": "67ec7ba3d9b86346e9fbef625ddb015493eed4412d6f732feacd0f4e49252ef8"
  },
  "kernelspec": {
   "display_name": "Python 3.8.8 64-bit",
   "name": "python3"
  },
  "language_info": {
   "codemirror_mode": {
    "name": "ipython",
    "version": 3
   },
   "file_extension": ".py",
   "mimetype": "text/x-python",
   "name": "python",
   "nbconvert_exporter": "python",
   "pygments_lexer": "ipython3",
   "version": "3.8.8"
  },
  "orig_nbformat": 4
 },
 "nbformat": 4,
 "nbformat_minor": 2
}

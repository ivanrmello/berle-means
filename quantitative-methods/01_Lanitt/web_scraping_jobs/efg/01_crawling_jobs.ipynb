{
 "cells": [
  {
   "cell_type": "code",
   "execution_count": 1,
   "metadata": {},
   "outputs": [],
   "source": [
    "from selenium import webdriver\n",
    "from selenium.webdriver.common.keys import Keys\n",
    "from selenium.webdriver import ActionChains\n",
    "import pandas as pd"
   ]
  },
  {
   "cell_type": "code",
   "execution_count": 2,
   "metadata": {},
   "outputs": [
    {
     "name": "stdout",
     "output_type": "stream",
     "text": [
      "[LOG] Iniciando o crawl da pagina 3 de 3.\n"
     ]
    }
   ],
   "source": [
    "#defina numero de páginas a ser crawleadas\n",
    "paginas_total = 3\n",
    "\n",
    "for pg in range(3,paginas_total + 1):\n",
    "\n",
    "    #fazendo log para o usuário\n",
    "    print(\"[LOG] Iniciando o crawl da pagina {} de {}.\".format(pg,paginas_total))\n",
    "\n",
    "    if pg==1:\n",
    "        url = 'https://www.catho.com.br/vagas/designer/go/?q=designer&estado_id%5B0%5D=9'\n",
    "    else:\n",
    "        url = 'https://www.catho.com.br/vagas/designer/go/?q=designer&page=' + str(pg) + '&estado_id%5B0%5D=9'\n",
    "\n",
    "    try:\n",
    "        driver = webdriver.Chrome(\"C:\\Program Files\\Google\\Chrome\\Application\\chromedriver.exe\")\n",
    "        driver.maximize_window()\n",
    "        driver.get(url)\n",
    "        driver.implicitly_wait(10)\n",
    "        action = ActionChains(driver)\n",
    "    except:\n",
    "        continue\n",
    "\n",
    "    pg=str(pg)\n",
    "\n",
    "    #Criando o dataframe que irá recpecionar os dados\n",
    "    df_jobinfo = pd.DataFrame(columns=['titulo_vaga','salario_vaga','localidade_vaga','data_da_vaga','descricao_completa_vaga'])\n",
    "\n",
    "    #Clica em aceitar cookies, se for necessário\n",
    "    try:\n",
    "        aceitar_cookies = driver.find_element_by_xpath('//*[@id=\"__next\"]/div[5]/section/div/div[3]/div[1]/button')\n",
    "        driver.implicitly_wait(10)\n",
    "        aceitar_cookies.click()\n",
    "    except:\n",
    "        pass\n",
    "\n",
    "    #Clica para expandir os detalhes de todas os vagas\n",
    "    for x in range(1,21):\n",
    "        try:\n",
    "            clicando_no_emprego = driver.find_element_by_xpath(\"/html/body/div[1]/div[4]/main/div[3]/div/div/section/ul/li[\" + str(x) + \"]/article/article/header\")\n",
    "            driver.implicitly_wait(10)\n",
    "            ActionChains(driver).move_to_element(clicando_no_emprego).click(clicando_no_emprego).perform()\n",
    "        except:\n",
    "            pass\n",
    "\n",
    "    #Extrai, de fato, as informações das vagas\n",
    "    for x in range(1,7):\n",
    "\n",
    "        try:\n",
    "            driver.implicitly_wait(10)\n",
    "            titulo_vaga = driver.find_element_by_xpath(\"/html/body/div[1]/div[4]/main/div[3]/div/div/section/ul/li[\" + str(x) + \"]/article/article/header/div/div[1]/h2/a\").text\n",
    "        except:\n",
    "            pass\n",
    "\n",
    "        try:\n",
    "            driver.implicitly_wait(10)\n",
    "            salario_vaga = driver.find_element_by_xpath(\"/html/body/div[1]/div[4]/main/div[3]/div/div/section/ul/li[\" + str(x) + \"]/article/article/header/div/div[2]/div\").text\n",
    "        except:\n",
    "            pass\n",
    "\n",
    "        try:\n",
    "            driver.implicitly_wait(10)\n",
    "            localidade_vaga = driver.find_element_by_xpath(\"/html/body/div[1]/div[4]/main/div[3]/div/div/section/ul/li[\" + str(x) + \"]/article/article/header/div/div[2]/button/a\").text\n",
    "        except:\n",
    "            pass\n",
    "\n",
    "        try:\n",
    "            driver.implicitly_wait(10)\n",
    "            data_da_vaga = driver.find_element_by_xpath(\"/html/body/div[1]/div[4]/main/div[3]/div/div/section/ul/li[\" + str(x) + \"]/article/article/header/div/div[2]/time/span\").text\n",
    "        except:\n",
    "            pass\n",
    "\n",
    "        try:\n",
    "            driver.implicitly_wait(10)\n",
    "            descricao_completa_vaga = driver.find_element_by_xpath(\"/html/body/div[1]/div[4]/main/div[3]/div/div/section/ul/li[\" + str(x) + \"]/article/article/div\").text.replace(\"\\n\",\"\")\n",
    "        except:\n",
    "            pass\n",
    "\n",
    "        #Adding some info to df\n",
    "        df_jobinfo = df_jobinfo.append({\n",
    "                \"titulo_vaga\":titulo_vaga,\n",
    "                \"salario_vaga\":salario_vaga,\n",
    "                \"localidade_vaga\":localidade_vaga,\n",
    "                \"data_da_vaga\":data_da_vaga,\n",
    "                \"descricao_completa_vaga\":descricao_completa_vaga,\n",
    "                }, ignore_index=True)\n",
    "\n",
    "    #Encerra o driver\n",
    "    driver.quit()\n",
    "\n",
    "    #Exporta o dataframe da página, para evitar perder dados\n",
    "    df_jobinfo.to_csv(r'C:\\Users\\ivanr\\Documents\\berle-means\\quantitative-methods\\01_Lanitt\\web_scraping_jobs\\efg\\design\\designer_dframe_pg' + str(pg) + '.csv', sep=\"|\", encoding='UTF-16', index=False)\n",
    "    print(\"[LOG] Finalizando o crawl da pagina {} de {}.\".format(str(pg),paginas_total))\n"
   ]
  }
 ],
 "metadata": {
  "interpreter": {
   "hash": "67ec7ba3d9b86346e9fbef625ddb015493eed4412d6f732feacd0f4e49252ef8"
  },
  "kernelspec": {
   "display_name": "Python 3.8.8 64-bit",
   "name": "python3"
  },
  "language_info": {
   "codemirror_mode": {
    "name": "ipython",
    "version": 3
   },
   "file_extension": ".py",
   "mimetype": "text/x-python",
   "name": "python",
   "nbconvert_exporter": "python",
   "pygments_lexer": "ipython3",
   "version": "3.8.8"
  },
  "orig_nbformat": 4
 },
 "nbformat": 4,
 "nbformat_minor": 2
}

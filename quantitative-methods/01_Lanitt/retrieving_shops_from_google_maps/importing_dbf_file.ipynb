{
 "cells": [
  {
   "cell_type": "code",
   "execution_count": 2,
   "source": [
    "import pandas as pd\r\n",
    "from simpledbf import Dbf5"
   ],
   "outputs": [],
   "metadata": {}
  },
  {
   "cell_type": "code",
   "execution_count": 12,
   "source": [
    "dbf = Dbf5('escolas_publicas_2013.dbf', codec='windows-1252')"
   ],
   "outputs": [],
   "metadata": {}
  },
  {
   "cell_type": "code",
   "execution_count": 13,
   "source": [
    "df = dbf.to_dataframe()"
   ],
   "outputs": [],
   "metadata": {}
  },
  {
   "cell_type": "code",
   "execution_count": 15,
   "source": [
    "df.info()"
   ],
   "outputs": [
    {
     "output_type": "stream",
     "name": "stdout",
     "text": [
      "<class 'pandas.core.frame.DataFrame'>\n",
      "RangeIndex: 3432 entries, 0 to 3431\n",
      "Data columns (total 15 columns):\n",
      " #   Column      Non-Null Count  Dtype  \n",
      "---  ------      --------------  -----  \n",
      " 0   COD_MUNICI  3432 non-null   float64\n",
      " 1   MUNICIPIO   3432 non-null   object \n",
      " 2   REDE        3432 non-null   object \n",
      " 3   ZONA        3432 non-null   object \n",
      " 4   COD_ESC     3432 non-null   float64\n",
      " 5   UNID_ESCOL  3432 non-null   object \n",
      " 6   CEP         3432 non-null   float64\n",
      " 7   ENDERECO    3432 non-null   object \n",
      " 8   NRO         2136 non-null   object \n",
      " 9   COMPL       701 non-null    object \n",
      " 10  BAIRRO      3254 non-null   object \n",
      " 11  LAT         3432 non-null   float64\n",
      " 12  LONG        3432 non-null   float64\n",
      " 13  LOCALIZACA  3432 non-null   object \n",
      " 14  METADADO    3432 non-null   object \n",
      "dtypes: float64(5), object(10)\n",
      "memory usage: 402.3+ KB\n"
     ]
    }
   ],
   "metadata": {}
  }
 ],
 "metadata": {
  "orig_nbformat": 4,
  "language_info": {
   "name": "python",
   "version": "3.8.8",
   "mimetype": "text/x-python",
   "codemirror_mode": {
    "name": "ipython",
    "version": 3
   },
   "pygments_lexer": "ipython3",
   "nbconvert_exporter": "python",
   "file_extension": ".py"
  },
  "kernelspec": {
   "name": "python3",
   "display_name": "Python 3.8.8 64-bit"
  },
  "interpreter": {
   "hash": "67ec7ba3d9b86346e9fbef625ddb015493eed4412d6f732feacd0f4e49252ef8"
  }
 },
 "nbformat": 4,
 "nbformat_minor": 2
}
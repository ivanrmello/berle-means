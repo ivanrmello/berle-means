{
 "cells": [
  {
   "cell_type": "code",
   "execution_count": 3,
   "source": [
    "import sys,os\r\n",
    "import pandas as pd\r\n",
    "\r\n",
    "root = r\"C:\\Users\\ivanr\\Documents\\83 - Mestrado UFG\\Lanitt\\Eixos-Cursos-Planos-Trilhas-Perfis\"\r\n",
    "path = os.path.join(root, \"targetdirectory\")"
   ],
   "outputs": [],
   "metadata": {}
  },
  {
   "cell_type": "code",
   "execution_count": 8,
   "source": [
    "df_files = pd.DataFrame(columns=['file'])\r\n",
    "for path, subdirs, files in os.walk(root):\r\n",
    "    for name in files:\r\n",
    "        df_files = df_files.append({\r\n",
    "                \"file\":os.path.join(path, name)}, ignore_index=True)"
   ],
   "outputs": [],
   "metadata": {}
  },
  {
   "cell_type": "code",
   "execution_count": 11,
   "source": [
    "len(df_files)"
   ],
   "outputs": [
    {
     "output_type": "execute_result",
     "data": {
      "text/plain": [
       "851"
      ]
     },
     "metadata": {},
     "execution_count": 11
    }
   ],
   "metadata": {}
  },
  {
   "cell_type": "code",
   "execution_count": 12,
   "source": [
    "df_files.to_csv('files.csv', encoding=\"UTF-16\", index=False, sep=\"|\")"
   ],
   "outputs": [],
   "metadata": {}
  }
 ],
 "metadata": {
  "orig_nbformat": 4,
  "language_info": {
   "name": "python"
  }
 },
 "nbformat": 4,
 "nbformat_minor": 2
}
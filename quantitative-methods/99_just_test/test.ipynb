{
 "cells": [
  {
   "cell_type": "code",
   "execution_count": 1,
   "metadata": {},
   "outputs": [],
   "source": [
    "import pandas as pd"
   ]
  },
  {
   "cell_type": "code",
   "execution_count": 6,
   "metadata": {},
   "outputs": [],
   "source": [
    "dframe = pd.read_csv(r'C:\\Users\\ivanr\\Documents\\berle-means\\quantitative-methods\\cotec_catho_online_all_cotec_jobs.csv', sep='|')"
   ]
  },
  {
   "cell_type": "code",
   "execution_count": 7,
   "metadata": {},
   "outputs": [
    {
     "data": {
      "text/html": [
       "<div>\n",
       "<style scoped>\n",
       "    .dataframe tbody tr th:only-of-type {\n",
       "        vertical-align: middle;\n",
       "    }\n",
       "\n",
       "    .dataframe tbody tr th {\n",
       "        vertical-align: top;\n",
       "    }\n",
       "\n",
       "    .dataframe thead th {\n",
       "        text-align: right;\n",
       "    }\n",
       "</style>\n",
       "<table border=\"1\" class=\"dataframe\">\n",
       "  <thead>\n",
       "    <tr style=\"text-align: right;\">\n",
       "      <th></th>\n",
       "      <th>job_link</th>\n",
       "      <th>job_city</th>\n",
       "      <th>job_title</th>\n",
       "      <th>job_salary</th>\n",
       "      <th>job_description</th>\n",
       "      <th>job_id</th>\n",
       "      <th>job_date</th>\n",
       "    </tr>\n",
       "  </thead>\n",
       "  <tbody>\n",
       "    <tr>\n",
       "      <th>0</th>\n",
       "      <td>https://www.catho.com.br/vagas/gerente-de-rh/1...</td>\n",
       "      <td>Goiania - GO (1)</td>\n",
       "      <td>Gerente de RH</td>\n",
       "      <td>De R$ 10.001,00 a R$ 15.000,00</td>\n",
       "      <td>Cargos e Salários: gerenciamento do organogram...</td>\n",
       "      <td>18635287</td>\n",
       "      <td>2021-05-13T23:59:59Z</td>\n",
       "    </tr>\n",
       "    <tr>\n",
       "      <th>1</th>\n",
       "      <td>https://www.catho.com.br/vagas/representante-c...</td>\n",
       "      <td>Goiania - GO (25)</td>\n",
       "      <td>Representante Comercial e Marketing</td>\n",
       "      <td>De R$ 6.001,00 a R$ 7.000,00</td>\n",
       "      <td>Atividades a serem desempenhadas: Estratégica ...</td>\n",
       "      <td>18658948</td>\n",
       "      <td>2021-05-13T23:59:59Z</td>\n",
       "    </tr>\n",
       "    <tr>\n",
       "      <th>2</th>\n",
       "      <td>https://www.catho.com.br/vagas/encarregado-con...</td>\n",
       "      <td>Goiania - GO (1)</td>\n",
       "      <td>Encarregado contábil e fiscal</td>\n",
       "      <td>De R$ 4.001,00 a R$ 5.000,00</td>\n",
       "      <td>Apuração de impostos: PIS, COFINS, ICMS, IPI, ...</td>\n",
       "      <td>18658019</td>\n",
       "      <td>2021-05-13T23:59:59Z</td>\n",
       "    </tr>\n",
       "    <tr>\n",
       "      <th>3</th>\n",
       "      <td>https://www.catho.com.br/vagas/analista-comerc...</td>\n",
       "      <td>Goiania - GO (1)</td>\n",
       "      <td>Analista Comercial de Incorporadora</td>\n",
       "      <td>De R$ 4.001,00 a R$ 5.000,00</td>\n",
       "      <td>Esse profissional será um forte braço direito ...</td>\n",
       "      <td>18635977</td>\n",
       "      <td>2021-05-13T23:59:59Z</td>\n",
       "    </tr>\n",
       "    <tr>\n",
       "      <th>4</th>\n",
       "      <td>https://www.catho.com.br/vagas/eletrotecnico/1...</td>\n",
       "      <td>Goiania - GO (1)</td>\n",
       "      <td>Eletrotécnico</td>\n",
       "      <td>De R$ 3.001,00 a R$ 4.000,00</td>\n",
       "      <td>Precisa se de Eletrotecnico com experiencia em...</td>\n",
       "      <td>18654816</td>\n",
       "      <td>2021-05-13T23:59:59Z</td>\n",
       "    </tr>\n",
       "  </tbody>\n",
       "</table>\n",
       "</div>"
      ],
      "text/plain": [
       "                                            job_link           job_city  \\\n",
       "0  https://www.catho.com.br/vagas/gerente-de-rh/1...   Goiania - GO (1)   \n",
       "1  https://www.catho.com.br/vagas/representante-c...  Goiania - GO (25)   \n",
       "2  https://www.catho.com.br/vagas/encarregado-con...   Goiania - GO (1)   \n",
       "3  https://www.catho.com.br/vagas/analista-comerc...   Goiania - GO (1)   \n",
       "4  https://www.catho.com.br/vagas/eletrotecnico/1...   Goiania - GO (1)   \n",
       "\n",
       "                             job_title                      job_salary  \\\n",
       "0                        Gerente de RH  De R$ 10.001,00 a R$ 15.000,00   \n",
       "1  Representante Comercial e Marketing    De R$ 6.001,00 a R$ 7.000,00   \n",
       "2        Encarregado contábil e fiscal    De R$ 4.001,00 a R$ 5.000,00   \n",
       "3  Analista Comercial de Incorporadora    De R$ 4.001,00 a R$ 5.000,00   \n",
       "4                        Eletrotécnico    De R$ 3.001,00 a R$ 4.000,00   \n",
       "\n",
       "                                     job_description    job_id  \\\n",
       "0  Cargos e Salários: gerenciamento do organogram...  18635287   \n",
       "1  Atividades a serem desempenhadas: Estratégica ...  18658948   \n",
       "2  Apuração de impostos: PIS, COFINS, ICMS, IPI, ...  18658019   \n",
       "3  Esse profissional será um forte braço direito ...  18635977   \n",
       "4  Precisa se de Eletrotecnico com experiencia em...  18654816   \n",
       "\n",
       "               job_date  \n",
       "0  2021-05-13T23:59:59Z  \n",
       "1  2021-05-13T23:59:59Z  \n",
       "2  2021-05-13T23:59:59Z  \n",
       "3  2021-05-13T23:59:59Z  \n",
       "4  2021-05-13T23:59:59Z  "
      ]
     },
     "execution_count": 7,
     "metadata": {},
     "output_type": "execute_result"
    }
   ],
   "source": [
    "dframe.head()"
   ]
  }
 ],
 "metadata": {
  "interpreter": {
   "hash": "67ec7ba3d9b86346e9fbef625ddb015493eed4412d6f732feacd0f4e49252ef8"
  },
  "kernelspec": {
   "display_name": "Python 3.8.8 64-bit",
   "name": "python3"
  },
  "language_info": {
   "codemirror_mode": {
    "name": "ipython",
    "version": 3
   },
   "file_extension": ".py",
   "mimetype": "text/x-python",
   "name": "python",
   "nbconvert_exporter": "python",
   "pygments_lexer": "ipython3",
   "version": "3.8.8"
  },
  "orig_nbformat": 4
 },
 "nbformat": 4,
 "nbformat_minor": 2
}
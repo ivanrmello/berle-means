{
  "cells": [
    {
      "cell_type": "markdown",
      "metadata": {
        "id": "l8nEL-_NDqlt"
      },
      "source": [
        "# Authenticating with GDrive"
      ]
    },
    {
      "cell_type": "code",
      "execution_count": null,
      "metadata": {
        "id": "CKi1BjEF6qad"
      },
      "outputs": [],
      "source": [
        "# Importing and installing packages to authenticate with GDrive\n",
        "!pip install -U -q PyDrive\n",
        "from pydrive.auth import GoogleAuth\n",
        "from pydrive.drive import GoogleDrive\n",
        "from google.colab import auth\n",
        "from oauth2client.client import GoogleCredentials\n",
        "\n",
        "# Performing Authentication and creating PyDrive client\n",
        "auth.authenticate_user()\n",
        "gauth = GoogleAuth()\n",
        "gauth.credentials = GoogleCredentials.get_application_default()\n",
        "drive = GoogleDrive(gauth)"
      ]
    },
    {
      "cell_type": "markdown",
      "metadata": {
        "id": "zBzpFwMTDGqV"
      },
      "source": [
        "# Converting .PDF to .TXT"
      ]
    },
    {
      "cell_type": "code",
      "execution_count": null,
      "metadata": {
        "colab": {
          "base_uri": "https://localhost:8080/"
        },
        "id": "7X47wk1kDOjs",
        "outputId": "2870e4c4-1269-43cb-d56d-02bde170f010"
      },
      "outputs": [
        {
          "name": "stdout",
          "output_type": "stream",
          "text": [
            "Collecting pdfminer.six\n",
            "\u001b[?25l  Downloading https://files.pythonhosted.org/packages/93/f3/4fec7dabe8802ebec46141345bf714cd1fc7d93cb74ddde917e4b6d97d88/pdfminer.six-20201018-py3-none-any.whl (5.6MB)\n",
            "\u001b[K     |████████████████████████████████| 5.6MB 5.9MB/s \n",
            "\u001b[?25hRequirement already satisfied: chardet; python_version > \"3.0\" in /usr/local/lib/python3.7/dist-packages (from pdfminer.six) (3.0.4)\n",
            "Collecting cryptography\n",
            "\u001b[?25l  Downloading https://files.pythonhosted.org/packages/b2/26/7af637e6a7e87258b963f1731c5982fb31cd507f0d90d91836e446955d02/cryptography-3.4.7-cp36-abi3-manylinux2014_x86_64.whl (3.2MB)\n",
            "\u001b[K     |████████████████████████████████| 3.2MB 35.8MB/s \n",
            "\u001b[?25hRequirement already satisfied: sortedcontainers in /usr/local/lib/python3.7/dist-packages (from pdfminer.six) (2.3.0)\n",
            "Requirement already satisfied: cffi>=1.12 in /usr/local/lib/python3.7/dist-packages (from cryptography->pdfminer.six) (1.14.5)\n",
            "Requirement already satisfied: pycparser in /usr/local/lib/python3.7/dist-packages (from cffi>=1.12->cryptography->pdfminer.six) (2.20)\n",
            "Installing collected packages: cryptography, pdfminer.six\n",
            "Successfully installed cryptography-3.4.7 pdfminer.six-20201018\n"
          ]
        }
      ],
      "source": [
        "pip install pdfminer.six"
      ]
    },
    {
      "cell_type": "code",
      "execution_count": null,
      "metadata": {
        "id": "_erNVS_YDkTe"
      },
      "outputs": [],
      "source": [
        "from pdfminer.high_level import extract_text"
      ]
    },
    {
      "cell_type": "code",
      "execution_count": null,
      "metadata": {
        "id": "frup1rCTDz-0"
      },
      "outputs": [],
      "source": [
        "# Importing PDF file to the session\n",
        "id = '1eKzLH8aRHUxp4KgKprPuzJ-XvJ05x5NP' \n",
        "downloaded = drive.CreateFile({'id':id}) \n",
        "downloaded.GetContentFile('Introdução a Epistemologia.pdf')"
      ]
    },
    {
      "cell_type": "code",
      "execution_count": null,
      "metadata": {
        "id": "_rjJOmZoEJb8"
      },
      "outputs": [],
      "source": [
        "pdf_text = extract_text(r'/content/Introdução a Epistemologia.pdf')\n",
        "#pdf_text_lines = pdf_text.split('\\n')"
      ]
    },
    {
      "cell_type": "code",
      "execution_count": null,
      "metadata": {
        "id": "qYyM3shHEQnt"
      },
      "outputs": [],
      "source": [
        "text_file = open(\"Introducao_epistemologia.txt\", \"w\")\n",
        "text_file.write(pdf_text)\n",
        "text_file.close()"
      ]
    },
    {
      "cell_type": "code",
      "execution_count": null,
      "metadata": {
        "id": "0M4uRvwwaujv"
      },
      "outputs": [],
      "source": [
        "text_list = pdf_text.split('\\n')"
      ]
    },
    {
      "cell_type": "code",
      "execution_count": null,
      "metadata": {
        "id": "kE7QKD9yoPtn"
      },
      "outputs": [],
      "source": [
        "# removing pagebreaks\n",
        "for ele in text_list:\n",
        "    if ele == ' \\x0c ':\n",
        "        text_list.remove(ele)"
      ]
    },
    {
      "cell_type": "code",
      "execution_count": null,
      "metadata": {
        "id": "GWPE5n02p3G3"
      },
      "outputs": [],
      "source": [
        "# performing strip\n",
        "text_list_stripped = []\n",
        "for ele in text_list:\n",
        "  text_list_stripped.append(ele.strip())"
      ]
    },
    {
      "cell_type": "code",
      "execution_count": null,
      "metadata": {
        "id": "OqnLVlJvqsz2"
      },
      "outputs": [],
      "source": [
        "# removing blank elements\n",
        "text_list_stripped = list(filter(None, text_list_stripped))"
      ]
    },
    {
      "cell_type": "code",
      "execution_count": null,
      "metadata": {
        "colab": {
          "base_uri": "https://localhost:8080/"
        },
        "id": "6MmNzUx5nXsM",
        "outputId": "1911b190-c181-4c8e-f2f0-09a4968049e9"
      },
      "outputs": [
        {
          "data": {
            "text/plain": [
              "9889"
            ]
          },
          "execution_count": 11,
          "metadata": {
            "tags": []
          },
          "output_type": "execute_result"
        }
      ],
      "source": [
        "len(text_list)"
      ]
    },
    {
      "cell_type": "code",
      "execution_count": null,
      "metadata": {
        "colab": {
          "base_uri": "https://localhost:8080/"
        },
        "id": "g9zP_2JwnZR1",
        "outputId": "47feec3f-3ab0-460c-cbe9-f4d68cabd992"
      },
      "outputs": [
        {
          "data": {
            "text/plain": [
              "3875"
            ]
          },
          "execution_count": 12,
          "metadata": {
            "tags": []
          },
          "output_type": "execute_result"
        }
      ],
      "source": [
        "len(text_list_stripped)"
      ]
    },
    {
      "cell_type": "code",
      "execution_count": null,
      "metadata": {
        "colab": {
          "base_uri": "https://localhost:8080/"
        },
        "id": "by7BtRuEqi0t",
        "outputId": "4371ae50-c012-4628-dc1e-6c86116577df"
      },
      "outputs": [
        {
          "data": {
            "text/plain": [
              "['SUMÁRIO',\n",
              " 'Prefácio................................................................................................................................7',\n",
              " 'Alguns instrumentos conceituais........................................................................................13',\n",
              " 'O que é a epistemologia?..................................................................................................21',\n",
              " 'A epistemologia genética de J. Piaget...............................................................................41',\n",
              " 'A epistemologia histórica de G. Bachelard........................................................................61',\n",
              " 'A epistemologia ―racionalista-crítica\" de K. Popper...........................................................83',\n",
              " 'A epistemologia \"arqueológica\" de M. Foucault...............................................................111',\n",
              " 'A epistemologia \"crítica\"...................................................................................................135',\n",
              " 'Para onde vai a filosofia?.................................................................................................159',\n",
              " 'Conclusão: um problema em suspenso...........................................................................185',\n",
              " 'Bibliografia sumária..........................................................................................................195']"
            ]
          },
          "execution_count": 13,
          "metadata": {
            "tags": []
          },
          "output_type": "execute_result"
        }
      ],
      "source": [
        "#Checking summary of the book\n",
        "text_list_stripped[text_list_stripped.index('SUMÁRIO'):text_list_stripped.index('5')]"
      ]
    },
    {
      "cell_type": "code",
      "execution_count": null,
      "metadata": {
        "id": "8yYA4sAQuCSL"
      },
      "outputs": [],
      "source": [
        "dict_final = {}\n",
        "#dict_final[''] = text_list_stripped[text_list_stripped.index(''):text_list_stripped.index('')+1]"
      ]
    },
    {
      "cell_type": "code",
      "execution_count": null,
      "metadata": {
        "id": "CIYH8gcsr2uH"
      },
      "outputs": [],
      "source": [
        "dict_final['prefacio'] = text_list_stripped[text_list_stripped.index('7'):text_list_stripped.index('12')]\n",
        "dict_final['alguns_instrumentos_conceituais'] = text_list_stripped[text_list_stripped.index('13'):text_list_stripped.index('20')]\n",
        "dict_final['o_que_e_epistemologia_intro'] = text_list_stripped[text_list_stripped.index('Devemos dizer, de início, que da epistemologia sabemos muito sobre aquilo que ela não'):text_list_stripped.index('inteligibilidade, constituindo uma abordagem que não se impõe às outras.')+1]\n",
        "dict_final['o_que_e_epistemologia_a_filosofia_das_ciencias'] = text_list_stripped[text_list_stripped.index('No pano de fundo de toda abordagem epistemológica, encontramos toda uma tradição'):text_list_stripped.index('principais da epistemologia.')+1]\n",
        "dict_final['o_que_e_epistemologia_a_historia_das_ciencias'] = text_list_stripped[text_list_stripped.index('Esta disciplina conheceu um grande desenvolvimento no início do século XX. O grande'):text_list_stripped.index('metodologia dos conhecimentos.')+1]\n",
        "dict_final['o_que_e_epistemologia_a_psicologia_das_ciencias'] = text_list_stripped[text_list_stripped.index('Esta disciplina ainda está em seu início. Mas seu campo de pesquisa é vasto. Há muitas'):text_list_stripped.index('psicologia do conhecimento científico em geral.')+1]\n",
        "dict_final['o_que_e_epistemologia_natureza_conclusao1'] = text_list_stripped[text_list_stripped.index('1. O simples fato de ainda hesitarmos entre duas denominações: filosofia das ciências e'):text_list_stripped.index('filosofia.')+1]\n",
        "dict_final['o_que_e_epistemologia_natureza_conclusao2'] = text_list_stripped[text_list_stripped.index('Portanto, o conceito de epistemologia não tem uma significação rigorosa e'):text_list_stripped.index('conceituar sua disciplina.')+1]\n",
        "dict_final['o_que_e_epistemologia_natureza_conclusao3'] = text_list_stripped[text_list_stripped.index('Não é pois inútil que cada especialista se interrogue, antes de tudo, sobre a ideia'):text_list_stripped.index('se, assim, de seu domínio.')+1]\n",
        "dict_final['o_que_e_epistemologia_natureza_conclusao4'] = text_list_stripped[text_list_stripped.index('4. O conceito de epistemologia é, pois, empregado de modo bastante flexível. Segundo'):text_list_stripped.index('instituições científicas, entre as diversas ciências, etc.')+1]"
      ]
    },
    {
      "cell_type": "code",
      "execution_count": null,
      "metadata": {
        "id": "QRNXpAc-0Ghm"
      },
      "outputs": [],
      "source": [
        "dict_final['a_epistemologia_genetica_piaget'] = text_list_stripped[text_list_stripped.index('Como o esforço da epistemologia global, referente às ciências humanas, está em estreita'):text_list_stripped.index('precisões:')+1]\n",
        "dict_final['a_epistemologia_genetica_piaget_precisao1'] = text_list_stripped[text_list_stripped.index('1. Toda a obra de Piaget visa a constituição de uma epistemologia capaz de fazer a'):text_list_stripped.index('algumas colaborações episódicas e sem integração metodológica.')+1]\n",
        "dict_final['a_epistemologia_genetica_piaget_precisao2'] = text_list_stripped[text_list_stripped.index('2. Não sendo completamente hostil à filosofia, pois compreende sua necessidade como'):text_list_stripped.index('secundário) de um empreendimento epistemológico.')+1]\n",
        "dict_final['a_epistemologia_genetica_piaget_precisao3'] = text_list_stripped[text_list_stripped.index('3. O que Piaget prova experimentalmente, é que há dois tipos de abstração bem'):text_list_stripped.index('individuais ou egocêntricos).')+1]\n",
        "dict_final['a_epistemologia_genetica_piaget_precisao4'] = text_list_stripped[text_list_stripped.index('4. Piaget estabelece que o ponto de partida do conhecimento é o conhecimento sensorio-'):text_list_stripped.index('ver no conhecimento, sobretudo, uma construção contínua.')+1]\n",
        "dict_final['a_epistemologia_genetica_piaget_precisao5'] = text_list_stripped[text_list_stripped.index('5. Diferentemente da epistemologia lógica, que utiliza métodos estritamente'):text_list_stripped.index('conceitos que estão na origem dos conhecimentos da física, da matemática, etc.')+1]\n",
        "dict_final['a_epistemologia_genetica_piaget_precisao6'] = text_list_stripped[text_list_stripped.index('6. O que mais poderia ser contestado à epistemologia de Piaget é o fato de ela ser,'):text_list_stripped.index('procura reconhecer-se para definir-se e poder agir.')+1]\n",
        "dict_final['a_epistemologia_genetica_piaget_precisao7'] = text_list_stripped[text_list_stripped.index('7. Apesar do número impressionante das experiências, cada uma sendo convincente,'):text_list_stripped.index('formam, assim, o eixo de nossa modernidade, de nossa racionalidade contemporânea.')+1]\n",
        "dict_final['a_epistemologia_genetica_piaget_precisao8'] = text_list_stripped[text_list_stripped.index('8. Embora a epistemologia de Piaget seja uma tentativa de superar o positivismo sob'):text_list_stripped.index('hoje assim: quem diz? quem demonstra? quem prova? por quê? para quê?')+1]"
      ]
    },
    {
      "cell_type": "code",
      "execution_count": null,
      "metadata": {
        "id": "Y2rj2YY04MLb"
      },
      "outputs": [],
      "source": [
        "dict_final['a_epistemologia_historica_bachelard'] = text_list_stripped[text_list_stripped.index('Para compreendermos o projeto epistemológico de G. Bachelard, é indispensável que'):text_list_stripped.index('comprovadas. Eis, em síntese, os três axiomas:')+1]\n",
        "dict_final['a_epistemologia_historica_bachelard_axioma1_primado_teorico_do_erro'] = text_list_stripped[text_list_stripped.index('O primeiro é relativo ao primado teórico do erro.A objetividade de uma ideia será'):text_list_stripped.index('erros retificados. O ser puro é um ser \"desiludido\".')+1]\n",
        "dict_final['a_epistemologia_historica_bachelard_axioma2_deprec_espec_da_intuicao'] = text_list_stripped[text_list_stripped.index('O segundo é relativo à depreciação especulativa da intuição. \"As intuições são'):text_list_stripped.index('resultado.\"')+1]\n",
        "dict_final['a_epistemologia_historica_bachelard_axioma3_objt_perspect_das_ideias'] = text_list_stripped[text_list_stripped.index('O terceiro é relativo à posição do objeto como perspectiva das ideias. \"Nós'):text_list_stripped.index('científica dos fatos\" e em sua \"imaculada concepção\" (Nietzsche).')+1]"
      ]
    },
    {
      "cell_type": "code",
      "execution_count": null,
      "metadata": {
        "id": "qaRzoVhh67WN"
      },
      "outputs": [],
      "source": [
        "dict_final['a_epistemologia_racionalista_critica_popper'] = text_list_stripped[text_list_stripped.index('Popper elaborou sua epistemologia ou, mais precisamente, sua \"filosofia das ciências\",'):text_list_stripped.index('veremos como ele se opõe às concepções empiristas, sobretudo de R. Carnap.')+1]\n",
        "dict_final['a_epistemologia_racionalista_critica_popper_principio_do_empirismo'] = text_list_stripped[text_list_stripped.index('O \"empirismo lógico\", também chamado de \"Movimento para a unidade da ciência\",'):text_list_stripped.index('considerações sobre o princípio do empirismo:')+1]\n",
        "dict_final['a_epistemologia_racionalista_critica_popper_principio_do_empirismo_consideracao_1'] = text_list_stripped[text_list_stripped.index('1. Este princípio, em seu sentido lato, significa que não podemos dispor de uma'):text_list_stripped.index('experiência sensível.')+1]\n",
        "dict_final['a_epistemologia_racionalista_critica_popper_principio_do_empirismo_consideracao_2'] = text_list_stripped[text_list_stripped.index('A segunda observação diz respeito ao papel da experiência. Há duas maneiras de'):text_list_stripped.index('sensível constitui o que podemos chamar de posição empirista no sentido estrito.')+1]\n",
        "dict_final['a_epistemologia_racionalista_critica_popper_principio_do_empirismo_consideracao_3'] = text_list_stripped[text_list_stripped.index('Outra maneira de concebermos o papel da experiência sensível é através da'):text_list_stripped.index('especificação ulterior da posição conceitualista.')+1]\n",
        "dict_final['a_epistemologia_racionalista_critica_popper_principio_do_empirismo_consideracao_4'] = text_list_stripped[text_list_stripped.index('4. Se não há intuição intelectual, não podemos fazer a economia da percepção. E se o'):text_list_stripped.index('lhe exercer plenamente sua função cognitiva.')+1]\n",
        "dict_final['a_epistemologia_racionalista_critica_popper_principio_do_empirismo_consideracao_5'] = text_list_stripped[text_list_stripped.index('5. É neste contexto que se situa a filosofia das ciências de Karl Popper. No fundo, o que'):text_list_stripped.index('empirismo lógico, notadamente às de Carnap.')+1]\n",
        "dict_final['a_epistemologia_racionalista_critica_popper_principio_da_verificacao_e_da_falsificacao'] = text_list_stripped[text_list_stripped.index('A preocupação epistemológica essencial de Popper diz respeito, como vimos, à'):text_list_stripped.index('conteúdo de falsidade.')+1]\n",
        "dict_final['a_epistemologia_racionalista_critica_popper_conclusao_1'] = text_list_stripped[text_list_stripped.index('O que nos interessou na filosofia das ciências de Popper foi, sobretudo, sua'):text_list_stripped.index('elemento irracional\".')+1]\n",
        "dict_final['a_epistemologia_racionalista_critica_popper_conclusao_2'] = text_list_stripped[text_list_stripped.index('Um segundo elemento da filosofia das ciências de Popper é o seguinte:  apoiando-'):text_list_stripped.index('de controle experimental nas ciências.')+1]\n",
        "dict_final['a_epistemologia_racionalista_critica_popper_conclusao_3'] = text_list_stripped[text_list_stripped.index('3. Por outro lado, ao perceber que o critério da objetividade das proposições científicas'):text_list_stripped.index('110).')+1]\n",
        "dict_final['a_epistemologia_racionalista_critica_popper_conclusao_4'] = text_list_stripped[text_list_stripped.index('Entre Popper e o empirismo de Carnap, não há uma divergência real quanto à'):text_list_stripped.index('princípio, ao abrigo de uma possível revisão.')+1]\n",
        "dict_final['a_epistemologia_racionalista_critica_popper_conclusao_5'] = text_list_stripped[text_list_stripped.index('Diante da dificuldade de saber em que condições podemos considerar que uma'):text_list_stripped.index('sistematicamente.')+1]\n",
        "dict_final['a_epistemologia_racionalista_critica_popper_conclusao_6'] = text_list_stripped[text_list_stripped.index('Do ponto de vista epistemológico, Popper se considera ao mesmo tempo um'):text_list_stripped.index('realidade.')+1]\n",
        "dict_final['a_epistemologia_racionalista_critica_popper_conclusao_7'] = text_list_stripped[text_list_stripped.index('Ao afirmar claramente que o conhecimento científico não começa nem se'):text_list_stripped.index('objetividade do método crítico: não há teoria \"liberada\" da crítica.')+1]\n",
        "dict_final['a_epistemologia_racionalista_critica_popper_conclusao_8'] = text_list_stripped[text_list_stripped.index('8. A partir de sua tese sobre o primado do problema, Popper faz uma crítica ao'):text_list_stripped.index('nas teses seguintes, Popper elabora uma crítica ao \"erro naturalista\").')+1]\n",
        "dict_final['a_epistemologia_racionalista_critica_popper_conclusao_9'] = text_list_stripped[text_list_stripped.index('Em suma, a epistemologia de Popper pode caracterizar-se como uma crítica'):text_list_stripped.index('colocação correta dos problemas e às tentativas de dar-lhes soluções.')+1]\n",
        "dict_final['a_epistemologia_racionalista_critica_popper_conclusao_10'] = text_list_stripped[text_list_stripped.index('10.  Não foi nossa intenção expor a obra histórica de Popper, nem tampouco traçar um'):text_list_stripped.index('bastante o risco e as probabilidades de serem falsos os conteúdos dessas teorias.')+1] \n",
        "dict_final['a_epistemologia_racionalista_critica_popper_conclusao_11'] = text_list_stripped[text_list_stripped.index('11. Talvez fosse bastante interessante tentarmos fazer uma aproximação comparativa de'):text_list_stripped.index('questionar as observações atuais e de rejeitar a teoria que elas validam.')+1]"
      ]
    },
    {
      "cell_type": "code",
      "execution_count": null,
      "metadata": {
        "id": "21L_27Wxy6Da"
      },
      "outputs": [],
      "source": [
        "dict_final['a_epistemologia_arqueologica_foucault'] = text_list_stripped[text_list_stripped.index('Não podemos compreender a formação epistemológica representada, atualmente, pelas'):text_list_stripped.index('constituição das ciências humanas de caráter racional e científico.')+1]\n",
        "dict_final['a_epistemologia_arqueologica_foucault_o_sistema_das_ciencias_humanas'] = text_list_stripped[text_list_stripped.index('O triedro do \"saber\", para Foucault, é um espaço epistemológico de três dimensões. Ele'):text_list_stripped.index('por M. Foucault.')+1]\n",
        "dict_final['a_epistemologia_arqueologica_foucault_a_episteme_ocidental_antes_da_idade_moderna'] = text_list_stripped[text_list_stripped.index('Esse sistema das ciências humanas que, para Foucault, é um resultado, e não um ponto'):text_list_stripped.index('organização das ciências humanas.')+1]\n",
        "dict_final['a_epistemologia_arqueologica_foucault_a_episteme_classica_da_representação'] = text_list_stripped[text_list_stripped.index('São as formas sucessivas da episteme clássica que Foucault estuda de modo mais'):text_list_stripped.index('está fadado a desaparecer a partir do início do século XIX (pp. 86-87).')+1]\n",
        "dict_final['a_epistemologia_arqueologica_foucault_a_arqueologia_das_ciencias_humanas'] = text_list_stripped[text_list_stripped.index('É justamente no domínio epistemológico constituído por esse \"espaço do quadro\" situado'):text_list_stripped.index('humana.')+1]\n",
        "dict_final['a_epistemologia_arqueologica_foucault_o_inicio_da_era_da_positividade'] = text_list_stripped[text_list_stripped.index('A episteme clássica está hoje encerrada. Seu campo histórico-cultural entra por completo'):text_list_stripped.index('1960).')+1]\n",
        "dict_final['a_epistemologia_arqueologica_foucault_epistemologia_arqueologica'] = text_list_stripped[text_list_stripped.index('Enquanto epistemologia, a \"arqueologia\" de Foucault pode colocar-se sob o patrocínio da'):text_list_stripped.index('precariedade (p. 359).')+1]\n",
        "dict_final['a_epistemologia_arqueologica_foucault_conclusao'] = text_list_stripped[text_list_stripped.index('a) Apesar de seu enorme interesse e de sua importância para o estudo da constituição'):text_list_stripped.index('(Entrevista a L’arc nº 30).')+1]"
      ]
    },
    {
      "cell_type": "code",
      "execution_count": null,
      "metadata": {
        "id": "3qGGqeDoO3mG"
      },
      "outputs": [],
      "source": [
        "dict_final['a_epistemologia_critica'] = text_list_stripped[text_list_stripped.index('Ao lado das três grandes correntes epistemológicas contemporâneas, cada uma tentando'):text_list_stripped.index('\"dar à ciência a filosofia que ela merece\".')+1]"
      ]
    },
    {
      "cell_type": "code",
      "execution_count": null,
      "metadata": {
        "id": "yjgAeRNRP5YH"
      },
      "outputs": [],
      "source": [
        "dict_final['para_onde_vai_a_filosofia'] = text_list_stripped[text_list_stripped.index('Há uma questão que hoje em dia intriga muita gente: Por que e para que os filósofos? Em'):text_list_stripped.index('cegos àquilo que fazem, a ponto de não saberem mais o que estão fazendo.')+1]\n",
        "dict_final['para_onde_vai_a_filosofia_a_interrogacao_filosofica'] = text_list_stripped[text_list_stripped.index('G. Canguilhem, ao interrogar-se sobre \"O que é a psicologia?\", afirma que esta questão é'):text_list_stripped.index('reflexão sobre ou para as ciências, mas a partir delas e com elas.')+1]\n",
        "dict_final['para_onde_vai_a_filosofia_a_interrogacao_epistemologica'] = text_list_stripped[text_list_stripped.index('Não pretendemos expor os complexos problemas que a epistemologia das ciências'):text_list_stripped.index('que encontram as soluções ou tomam as decisões.')+1]\n",
        "dict_final['conclusao_um_problema_em_suspenso'] = text_list_stripped[text_list_stripped.index('É difícil e perigoso propor conclusões. Sobretudo, para estudos que pretendem ser'):text_list_stripped.index('esquecendo jamais de sua obediência ao humano.')+1]"
      ]
    },
    {
      "cell_type": "code",
      "execution_count": null,
      "metadata": {
        "id": "_HvuW8jmR4Wr"
      },
      "outputs": [],
      "source": [
        "#Removing numbers from section texts, concatenating entire text in only one\n",
        "for section in dict_final:\n",
        "  lista_final = []\n",
        "  for frase in dict_final[section]:\n",
        "    result = ''.join([i for i in frase if not i.isdigit()])\n",
        "    lista_final.append(result.strip())\n",
        "  lista_final = list(filter(None, lista_final))\n",
        "  dict_final[section] = ' '.join(lista_final)\n",
        "  dict_final[section] = dict_final[section].replace('- ','')"
      ]
    },
    {
      "cell_type": "code",
      "execution_count": null,
      "metadata": {
        "id": "PhJ_bPHXU3GM"
      },
      "outputs": [],
      "source": [
        "!pip install -U spacy\n",
        "!pip install -U scikit-learn\n",
        "!python -m spacy download pt_core_news_sm"
      ]
    },
    {
      "cell_type": "code",
      "execution_count": null,
      "metadata": {
        "id": "7Nr0RhCUVZqD"
      },
      "outputs": [],
      "source": [
        "path_to_save='/content/drive/MyDrive/Mestrado - UFG/Disciplinas/Pesquisa em Ciências Contábeis - Juliano/Resenhas - Batch Processing/Introdução a Epistemologia - Analysis Results/'"
      ]
    },
    {
      "cell_type": "code",
      "execution_count": null,
      "metadata": {
        "colab": {
          "base_uri": "https://localhost:8080/"
        },
        "id": "YfFHRM2_UZ66",
        "outputId": "49ee5c86-21ff-4e4a-db45-433538ad2865"
      },
      "outputs": [
        {
          "name": "stdout",
          "output_type": "stream",
          "text": [
            "\n",
            "Words with higher frequencies:  ['ciências', 'epistemologia', 'problemas']\n",
            "Todavia, como para situar e formular os problemas torna-se indispensável a presença de certos conceitos, tive a preocupação de fornecer algumas concepções engajando o tratamento de certos problemas científicos pela epistemologia. Razão pela qual deixei de lado a apresentação desta epistemologia tão desenvolvida e rica, com resultados surpreendentes no domínio do conhecimento científico, que é a epistemologia lógica, cujos defensores mais notáveis encontram-se filiados à corrente de pensamento derivada do empirismo lógico. Por outro lado, ele se prende muito mais à elucidação da atividade científica através de uma descrição dos métodos, dos resultados, e sobretudo, da linguagem da \"Ciência\" ou da \"Razão\" nas ciências, do que ao exame propriamente crítico desta atividade, que é o objetivo das epistemologias que levei em consideração. \n",
            "Words with higher frequencies:  ['ciência', 'epistemologia', 'pré']\n",
            "Por ciência, no sentido atual do termo, deve ser considerado o conjunto das aquisições intelectuais, de um lado, das matemáticas, do outro, das disciplinas de A. B. A. B. investigação do dado natural e empírico, fazendo ou não uso das matemáticas, mas tendendo mais ou menos à matematização. A epistemologia derivada, ao contrário, visa fazer uma análise da natureza dos procedimentos de conhecimento de uma ciência, não para fornecer-lhe um fundamento ou intervir em seu desenvolvimento, mas para saber como esta forma de conhecimento é possível, bem como para determinar a parte que cabe ao Sujeito e a que cabe ao objeto no modo particular de conhecimento que caracteriza uma ciência. trata-se de uma atitude reflexiva sobre o método científico, isto é, de uma atitude que nos leva a apreender alógica do erro, para construir a lógica da descoberta científica como polémica contra o erro e como esforço para submeter as verdades aproximadas da ciência e os métodos que ela emprega a uma retificação metódica, a fim de nos libertarmos das ideologias, das crenças, das opiniões, das certezas imediatas e chegarmos, assim, à objetividade científica; \n",
            "Words with higher frequencies:  ['conhecimento', 'epistemologia', 'filosofia']\n",
            "Todas as filosofias desenvolveram espontaneamente uma teoria do conhecimento e uma filosofia das ciências tendo por objetivo quer evidenciar os meios do conhecimento científico, quer elucidar os objetos aos quais tal conhecimento se aplica, quer fundar a validade deste conhecimento. ciência verdaÉ neste sentido que podemos conceituá-la como essa disciplina cuja função essencial consiste em submeter a prática dos cientistas a uma reflexão que, diferentemente da filosofia clássica do conhecimento, toma por objeto, não mais uma ciência feita, uma deira de que deveríamos estabelecer as condições de possibilidade, de coerência ou os títulos de legitimidade, mas as ciências em vias de se fazerem, em seu processo de génese, de formação e de estruturação progressiva. É claro que, no interior dessas duas categorias podem ser distinguidas subclasses, conforme o acordo suponha um primado do Objeto que se impõe ao espírito (conhecimento tirado do objeto), um primado do Sujeito (conhecimento tirado do sujeito) que antecede ao objeto, ou uma interação entre o Sujeito e o Objeto. \n",
            "Words with higher frequencies:  ['ciências', 'conhecimento', 'epistemologia']\n",
            "As diversas teorias clássicas do conhecimento eram o produto de uma reflexão sobre as ciências, dizendo respeito aos diversos tipos de saber e às suas fontes: razão, imaginação, experiência, etc. Podemos chamar essas teorias do conhecimento, partindo de uma reflexão sobre as ciências e tentando prolongá-la numa teoria geral do conhecimento, de epistemologias \"metacientíficas\": Assim, a historicidade é essencial ao objeto da ciência sobre o qual é estabelecida uma reflexão que podemos chamar de \"filosofia das ciências\" ou epistemologia. \n",
            "Words with higher frequencies:  ['ciências', 'epistemologia', 'história']\n",
            "Portanto, contrariamente aos epistemólogos que se reclamam do empirismo lógico, para os quais a história das ciências situa-se fora do campo epistemológico, pois pertenceria às ciências empíricas, ligadas ao conhecimento dos fatos, sustentamos que a epistemologia é profundamente solidária das ciências, devendo alimentar-se amplamente de seus ensinamentos. Resulta que é a epistemologia, enquanto teoria do fundamento da ciência, que faz com que o objeto da história das ciências não se identifique com o objeto da ciência e com que a história das ciências seja uma tomada de consciência explícita do fato de as ciências serem discursos críticos e progressivos para a determinação daquilo que, na experiência, deve ser tido por real. Em suma, da história das ciências, filosoficamente questionada, surge uma filosofia das ciências que outra coisa não é senão uma das modalidades da epistemologia geral, e que constitui uma das vias de acesso à epistemologia, próxima às que passam pela psicologia, pela sociologia e pela metodologia dos conhecimentos. \n",
            "Words with higher frequencies:  ['conhecimento', 'epistemologia', 'genética', 'psicologia']\n",
            "Estamos hoje em presença de todo um trabalho que certamente podemos chamar de epistemologia psicológica, visando a elucidar como se articulam as diferentes etapas do conhecimento, desde a infância até a ciência dos adultos, associando estreitamente a análise lógica à análise psicológica. Por outro lado, a epistemologia genética tampouco aceita a solução proposta pelo empirismo lógico que, no processo de aquisição dos conhecimentos, continua a fazer apelo aos fatores de ineidade e de maturação interna. Ao partir de sua concepção da psicologia genética, entendida como o estudo do desenvolvimento das funções mentais, Piaget mostra que este desenvolvimento pode fornecer uma explicação ou, pelo menos, um complemento de informação quanto aos mecanismos dessas funções mentais em seu estado acabado. Por outro lado, mostra que podemos utilizar a psicologia genética para encontrar a solução dos problemas psicológicos gerais e dos problemas do conhecimento. \n",
            "Words with higher frequencies:  ['ciências', 'epistemologia', 'filosofia']\n",
            "O simples fato de ainda hesitarmos entre duas denominações: filosofia das ciências e epistemologia (aliás, há várias denominações: filosofia das ciências, teoria do conhecimento, lógica das ciências, epistemologia, etc.), já é revelador da impossibilidade de estabelecermos um estatuto preciso e definitivo para a epistemologia. Ora falamos de epistemologia (termo que tem a vantagem de apresentar uma conotação mais \"séria\" e \"científica\"), ora falamos de filosofia das ciências (termo que apresenta a desvantagem de estar carregado de um sentido menos \"sério\" ou \"literário\"). É preciso que confiramos à epistemologia uma estrutura e um desenvolvimento específicos enquanto ramo do saber, sem no entanto prescindirmos daquilo que ela tem de comum com outras disciplinas, inclusive com a filosofia. \n",
            "Words with higher frequencies:  ['aceito', 'articular', 'choca', 'científica', 'ciências', 'colaboração', 'comum', 'conceito', 'conceituar', 'conhecimentos', 'constitui', 'contexto', 'conteúdo', 'crescem', 'definitivo', 'deles', 'disciplina', 'epistemologia', 'estrutura', 'etc', 'existe', 'génese', 'harmoniosamente', 'ideológico', 'interrogam', 'lógicos', 'obstáculos', 'papel', 'prática', 'psicólogos', 'quadro', 'quase', 'rigorosa', 'sendo', 'significação', 'social', 'sociólogos', 'teoria', 'trabalhos', 'unívoca', 'viriam']\n",
            "Portanto, o conceito de epistemologia não tem uma significação rigorosa e unívoca, com um conteúdo definitivo e aceito por todos os que se interrogam como se constitui uma teoria científica. Qual é o papel, na prática científica, do contexto social e ideológico? Não existe um quadro comum, onde viriam articular-se harmoniosamente todos os trabalhos dos lógicos, dos psicólogos, dos sociólogos,etc. Sua colaboração choca-se quase sempre com obstáculos, sendo o primeiro deles o de conceituar sua disciplina. \n",
            "Words with higher frequencies:  ['disciplina', 'epistemologia', 'objeto']\n",
            "Por exemplo, se queremos conceituar a epistemologia, a questão inicial é a seguinte: de que fazemos a epistemologia? E isto porque o objeto de uma disciplina não consiste apenas na matéria própria sobre a qual se aplica seu estudo, naquilo pelo que ela se interessa ou naquilo de que ela se ocupa, mas em sua intenção, seu desígnio ou seu objetivo, quer dizer, em sua finalidade, em sua destinação e em seu porquê. E sabemos que não encontramos hoje a unidade de uma disciplina na direção de seu objeto, pois toda ciência se dá mais ou menos o seu objeto: é a ciência que constitui e constrói seu objeto pela invenção de um método, apropriandose, assim, de seu domínio. \n",
            "Words with higher frequencies:  ['ciências', 'conhecimentos', 'epistemologia', 'produção']\n",
            "Segundo os autores, com seus pressupostos filosóficos ou ideológicos, e em conformidade com os países e os costumes, ele serve para designar, quer uma teoria geral do conhecimento (de natureza mais ou menos filosófica), quer estudos mais restritos interrogando-se sobre a génese e a estrutura das ciências, tentando descobrir as leis de crescimento dos conhecimentos, quer uma análise lógica da linguagem científica, quer, enfim, o exame das condições reais de produção dos conhecimentos científicos. E ela procura estudar esta produção dos conhecimentos, tanto do ponto de vista lógico, quanto dos pontos de vista linguístico, sociológico, ideológico, etc. E como as ciências nascem e evoluem em circunstâncias históricas bem determinadas, cabe à epistemologia perguntar-se pelas relações existentes entre a ciência e a sociedade, entre a ciência e as instituições científicas, entre as diversas ciências, etc. \n",
            "Words with higher frequencies:  ['ciências', 'epistemologia', 'piaget']\n",
            "Como o esforço da epistemologia global, referente às ciências humanas, está em estreita relação com a concepção que Jean Piaget faz da própria epistemologia, parece-nos interessante compreender bem qual o sentido e o alcance dessa epistemologia. Por conseguinte, ao lado dos métodos de análise direta tentando, por ocasião da crise de um saber implicando a reformulação de certos conceitos, extrair as condições de conhecimento por simples análise lógica; e ao lado dos métodos de análise normalizante, tais como os do empirismo lógico, que examinam a coordenação entre a formalização e a experiência, Piaget interessou-se particularmente pelos métodos de análise genética, que procuram compreender os processos do conhecimento científico em função de seu desenvolvimento e de sua própria formação: quer segundo uma \"sociogênese\" dos conhecimentos, relativa a seu desenvolvimento histórico no interior das sociedades e à sua transmissão cultural (métodos histórico-críticos), quer segundo uma \"psicogênese\" das noções e estruturas operatórias elementares constituindo-se no decorrer do desenvolvimento dos indivíduos. No entanto, ao recusar uma epistemologia que seja \"maculada\" pela presença da filosofia, Piaget deixa a porta aberta a um momento da epistemologia que, a partir de estudos particulares já feitos a propósito das diversas ciências, conduz a uma epistemologia geral, que ele chama de \"derivada\". \n",
            "Words with higher frequencies:  ['epistemologia', 'interdisciplinar', 'problemas', 'visa']\n",
            "Toda a obra de Piaget visa a constituição de uma epistemologia capaz de fazer a transição entre a Psicologia genética e a Epistemologia geral, que ele espera enriquecer pela consideração do desenvolvimento. Podemos sintetizar o programa e os métodos dessa epistemologia dizendo que ela é comandada por um duplo imperativo: a) de um lado, visa a garantir a colaboração entre psicólogos do desenvolvimento, lógicos e especialistas das diversas disciplinas científicas que se interessam por problemas de ordem epistemológica: ela é essencialmente interdisciplinar; b) do outro, visa a reduzir esses problemas a formulações que possam ser tratadas pelos métodos da psicologia experimental. Além disso, é indispensável que as pesquisas sejam feitas por uma \"equipe interdisciplinar\", capaz de realizar uma colaboração entre as disciplinas e entre os setores heterogéneos de uma ciência, de tal forma que haja certa reciprocidade nas trocas e os pesquisadores venham a enriquecer-se mutuamente. \n",
            "Words with higher frequencies:  ['conhecimento', 'controle', 'especulação', 'filosofia', 'piaget', 'teoria']\n",
            "Não sendo completamente hostil à filosofia, pois compreende sua necessidade como reflexão valorizadora da relação homem-mundo, e não nega sua legitimidade ou sua importância (\"ela é mesmo indispensável a todo homem completo, por mais cientista que ele seja\"), Piaget fica surpreso com a fraqueza das diversas teorias filosóficas do conhecimento, pois em geral elas se contradizem, sem haver nenhum critério objetivo que nos permita decidir. Diferentemente do positivismo, que empreende uma cruzada contra todo tipo de especulação, e condena em bloco toda filosofia, Piaget acha que o cientista que não passa pela filosofia permanece portador de uma ''doença incurável\". Por isso, Piaget concebe a possibilidade de uma passagem da especulação a uma ciência experimental, no domínio da teoria do conhecimento. \n",
            "Words with higher frequencies:  ['abstração', 'há', 'sujeito']\n",
            "Contudo, ao passo que a abstração do primeiro tipo é uma assimilação dos dados a estruturas mentais existentes, a abstração réfléchissante é a própria organização das estruturas mentais tendo em vista sua acomodação. Nesta última abstração, o Objeto desempenha o papel apenas de \"ocasião\", quer dizer, não se inscreve tal qual, com suas qualidades físicas, neste tipo de abstração, pois esta é uma modalidade de organização, de coordenação das abstrações simples. Ela se prolonga em \"operadores\" que efetuam uma descentração relativamente ao sujeito individual, dando origem ao sujeito do conhecimento, o \"Sujeito epistêmico\" (aquilo que há de comum nos vários sujeitos individuais ou egocêntricos). \n",
            "Words with higher frequencies:  ['atividade', 'conhecimento', 'conhecimentos', 'coordenações', 'diferenciação', 'epistemologia', 'objeto', 'real']\n",
            "a ausência de diferenciação entre á atividade, real ou imaginária, exercida sobre o objeto (reunir, dissociar, ordenar, mudar de ordem, etc.); . as operações concretas, com diferenciação dos dois aspectos mencionados; . Portanto, a epistemologia genética visa a remontar às fontes, isto é, à própria gênese dos conhecimentos, pois a epistemologia tradicional só conhecia seus estados superiores. O próprio da epistemologia genética consiste em procurar descobrir e extrair as raízes dos diversos conhecimentos, desde suas formas mais elementares, e seguir seu desenvolvimento através dos níveis ulteriores, até o pensamento científico inclusive. \n",
            "Words with higher frequencies:  ['atividade', 'científica', 'diferentemente', 'elucidação', 'epistemologia', 'genética', 'inteligência', 'linguagem', 'métodos', 'piaget']\n",
            "Diferentemente da epistemologia lógica, que utiliza métodos estritamente formalizantes, para fazer um estudo da linguagem científica e uma pesquisa das regras lógicas que devem presidir a todo enunciado correto (positivismo anglo-saxônico); e diferentemente da epistemologia histórica, que privilegia os métodos histórico-cri ticos para a elucidação da atividade científica a partir de uma análise, não só da história das ciências e de suas revoluções epistemológicas, mas das próprias dé-marches do espírito científico (Bachelard, Canguilhem, Foucault), a epistemologia genética de Piaget tem por objetivo central a elucidação da atividade científica a partir de uma psicologia da inteligência. Não se trata, de forma alguma, de aceitar o fato da linguagem científica ou comum, a fim de se medir sua validade relativamente à sua simplicidade, à sua coerência, à sua exaustividade ou aceitabilidade banal. A epistemologia genética não hesita em perguntar-se como a inteligência se constrói, desde os primeiros agenciamentos práticos e perceptivos da criança \"trabalhando\" sobre um objeto ou sobre o domínio de suas coordenações corporais, até a elaboração dos conceitos que estão na origem dos conhecimentos da física, da matemática, etc. \n",
            "Words with higher frequencies:  ['dado', 'fato', 'mesma', 'piaget', 'sujeito']\n",
            "Kant, com efeito, para justificar a física elaborada por Galileu e Newton, no fim do século XVIII, construiu toda uma teoria do conhecimento procurando evidenciar o fato de que o objeto conhecido seria ao mesmo tempo um dado e um construído. Por outro lado, haveria também uma organização prévia, a priori, inconsciente deste dado, proveniente da natureza mesma do sujeito cognoscente. O que ele pretende mostrar é que é a inteligência que se monta, que se estrutura a si mesma, na dialética dos ensaios e dos erros, nas retificações que introduzem as diferenças, nos fracassos que fazem surgir as contradições e nas sínteses que promovem os progressos. \n",
            "Words with higher frequencies:  ['ciência', 'conhecimento', 'criança', 'crianças', 'funcionamento', 'lógica', 'perguntar', 'pesquisas', 'problema', 'sociais', 'sócio', 'trata']\n",
            "Apesar do número impressionante das experiências, cada uma sendo convincente, quando tomada de per si, temos o direito de nos perguntar: afinal de contas, de que se trata? Piaget responde que se trata de mostrar que todos os conceitos determinantes das ciências passadas, presentes e futuras devem inscrever-se numa necessidade psicológica, experimentalmente controlável, contanto que se adotem bons critérios de experimentação e de controle. Tanto a epistemologia lógica quanto a genética deixam sem solução o problema essencial do conhecimento científico: o do lugar e o do funcionamento das pesquisas científicas dentro da \"ordem\", dentro do contexto sócio-cultural vigente, em que se situam as sociedades elaboradoras desse conhecimento. \n",
            "Words with higher frequencies:  ['científica', 'ciência', 'conhecimento', 'epistemologia', 'piaget', 'real']\n",
            "Embora a epistemologia de Piaget seja uma tentativa de superar o positivismo sob todas as suas formas, não podemos negar que ela se inscreve no prolongamento da tradição positivista que, no domínio da teoria do conhecimento, pretende elaborar uma \"ciência da ciência\" ou uma \"ciência\" da organização do trabalho científico, batizando com o nome de \"epistemologia científica\" esta teoria do conhecimento preservada de toda contaminação filosófica. Ora, aceitar a \"cientificidade\" da epistemologia, é aceitar, conscientemente ou não, a possibilidade de se criar uma \"ciência da ciência\", uma metaciência que se situa num nível superior relativamente à ciência que toma por objeto. O pressuposto filosófico, presente no projeto de qualquer \"ciência da ciência\", não pode ser dissimulado: o simples fato de se Justificar a utilidade pedagógica e social de uma \"epistemologia científica\", e de procurar-se definir seu estatuto científico, já é uma atividade filosófica. \n",
            "Words with higher frequencies:  ['bachelard', 'ciência', 'ciências', 'filosofia']\n",
            "Uma reflexão séria sobre a ciência não pode deixar de constatar que fazer ciência é algo extremamente difícil: ela se desenvolve com uma força explosiva e o homem atual encontra-se, cotidiana-mente, diante de técnicas oriundas da ciência \"fundamental\", e que, fundamentalmente, ele não compreende. Embora pretenda negar toda filosofia, ela elabora uma verdadeira filosofia da ciência, cujos princípios poderão ser resumidos nas seguintes afirmações: a) as únicas verdades a que podemos e devemos nos referir são os enunciados das ciências experimentais: Resulta, então, que a epistemologia é indissociável da história das ciências, quer em seu aspecto \"sancionado\" (história daquilo que é \"científico\" na prática científica), quer em seu aspecto \"superado\" (história do \"não-científico\" .na prática das ciências). ciências que, em É esta nova epistemologia que. \n",
            "Words with higher frequencies:  ['erro', 'erros', 'experiência', 'fundo', 'ideia', 'preciso', 'será', 'verdade']\n",
            "A objetividade de uma ideia será mais clara e mais distinta, na medida em que aparecer sobre um fundo deerros mais profundos e mais diversos. Em outros termos:para se ressalvar o valor de uma ideia objetiva, é preciso recolocá-la dentro do círculo das ilusões imediatas. \"Um verdadeiro sobre um fundo de erros, eis a forma do pensamento científico\". \n",
            "Words with higher frequencies:  ['axioma', 'circunstâncias', 'confirmação', 'construído', 'convertido', 'dado', 'depreciação', 'destruídas', 'especulativa', 'fórmulas', 'imediato', 'intuição', 'intuições', 'norma', 'reencontrado', 'relativo', 'resultado', 'servem', 'úteis']\n",
            "O segundo é relativo à depreciação especulativa da intuição. \" Este axioma é convertido em norma de confirmação, segundo duas fórmulas: \"Em todas as circunstâncias, o imediato deve dar lugar ao construído\". \"Todo dado deve ser reencontrado como um resultado. \n",
            "Words with higher frequencies:  ['bachelard', 'fatos', 'objeto', 'real', 'responder']\n",
            "Nosso pensamento vai ao Real, não parte dele\" (in Hommage à G. Bachelard, Paris, , pp. ). Quer dizer: o real nunca toma a iniciativa, pois só poderá responder algo quando nós o interrogarmos. Os dados só poderão responder completa e adequadamente a questões para as quais e pelas quais eles foram construídos: A epistemologia de Bachelard contribuiu, decididamente, para que se destruísse a crença na \"imortalidade científica dos fatos\" e em sua \"imaculada concepção\" (Nietzsche). \n",
            "Words with higher frequencies:  ['ciências', 'filosofia', 'popper']\n",
            "Popper elaborou sua epistemologia ou, mais precisamente, sua \"filosofia das ciências\", ao mesmo tempo dentro e fora da corrente de pensamento chamada de empirismo lógico ou de neopositivismo, originada do Círculo de Viena, – fundado em  por Schlick e tentando fazer uma síntese entre o empirismo e a logística. Na Inglaterra, onde passa a ensinar a partir de , Popper é considerado como um dos filósofos oficiais da democracia liberal, pois tentou aplicar à política uma das ideias fundamentais de sua filosofia das ciências: como qualquer outra teoria, a teoria política deve ser testada no contato com os fatos. Popper combateu vigorosamente os dois movimentos filosóficos que inspiraram, de um lado, o neopositivismo lógico e, do outro, a filosofia \"linguística\" ou \"da linguagem ordinária\". \n",
            "Words with higher frequencies:  ['empirismo', 'linguagem', 'sentido']\n",
            "de um lado, o empirismo físico e psicológico de E. Mach, que, na qualidade de físico, insistia sobre o papel das \"experiências mentais\" e da economia do pensamento na dedução das leis e, enquanto epistemólogo e psicólogo, buscava reduzir toda experiência a um puro jogo de sensações; do outro lado, a logística, devendo desempenhar um papel importante na análise dos fundamentos das matemáticas. Por outro lado, além da linguagem descritiva, também podemos 'admitir uma linguagem metodológica, cuja função não é a de exprimir o conteúdo da experiência, mas explicar a própria démarche científica, tentando elucidar suas condições e seus critérios. Evidentemente, se o único discurso dotado de sentido reduz-se ao discurso da ciência e da metodologia científica, ou então ao discurso das proposições com referência empírica ou simplesmente tautológicas, não há nenhuma razão para que tenha validade qualquer discurso de ordem filosófica. \n",
            "Words with higher frequencies:  ['experiência', 'experiências', 'seja', 'sensível', 'significa']\n",
            "Por outro lado, não podemos dispor de uma experiência que seja capaz de nos fornecer um verdadeiro conhecimento, quer dizer, um conhecimento objetivo e comunicável, podendo fundar um saber racional. Aceitar semelhante posição de forma alguma significa negar a possibilidade de haver experiências não vinculadas à percepção, nem tampouco que tais experiências possam fornecer-nos conhecimentos de outra ordem, mas simplesmente recusar que seja possível a construção, sobre tais experiências, de um saber susceptível de responder ou corresponder as normas clássicas da ciência. Ora, não dispondo de tal visão direta, tendo por objetivo a descoberta das ideias ou essências, somos forçados, se quisermos conhecer a realidade, a fazer apelo a este tipo de experiência comunicável, que é a experiência sensível. \n",
            "Words with higher frequencies:  ['conteúdo', 'experiência', 'papel', 'podemos']\n",
            "Segundo a posição positivista, retomada pelo empirismo lógico, aquilo que podemos atingir, através da experiência, é apenas o singular: o único conteúdo de conhecimento de que podemos dispor são, pois, as constatações sensíveis; b) graças às operações intelectuais descritas pela lógica e expressas pela linguagem,torna-se possível evidenciarmos, na massa daquilo que é constatável, certas regularidades; ademais, podemos estabelecer certas ligações sistemáticas e constituir, assim,progressivamente, um saber de tipo universal. A característica essencial desse saber é que ele pode ser fundado rigorosamente: de um lado, através do emprego de operações definidas pela lógica e praticadas por todos do mesmo modo; do outro, através da utilização dos métodos de verificação remetendo a constatações de tipo elementar e permitindo um acordo prático quanto ao conteúdo da experiência. \n",
            "Words with higher frequencies:  ['conteúdos', 'experiência', 'mediante', 'sensível']\n",
            "Em outras palavras, há uma atividade intelectual que nos permite apreender, através da tessitura dos conteúdos sensíveis, as formas inteligíveis por meio das quais esses conteúdos tornam-se acessíveis ao conhecimento e significantes para nós. Sendo assim, o domínio dos atos intelectuais não se limita às operações descritas pela lógica, mas comporta o domínio da atividade conceitualizada do pensamento. É através do conceito que o pensamento profere o inteligível que apreende e encontra aquilo que, na experiência sensível, pode dar-se a conhecer. Quer interpretemos a relação do conceito com o sensível mediante uma teoria da abstração, quer mediante uma teoria da reminiscência, trata-se de uma especificação ulterior da posição conceitualista. \n",
            "Words with higher frequencies:  ['função', 'intuição', 'juízo', 'pensamento']\n",
            "E se o pensamento conceitual nos dá acesso ao inteligível, não é à maneira da ideia pura, pois o conceito comporta uma referência à realidade empírica: através do inteligível, ele visa o sensível. No entanto, o juízo é recomposição do pensamento daquilo que dele foi separado: ele faz apelo à constatação que irá atestar que a síntese operada pelo espírito conforma-se com a situação real. isto segundo a ambição do pensamento \"julgador\", que só passa pelo juízo para situar o conceito em seu contexto concreto e para permitirlhe exercer plenamente sua função cognitiva. \n",
            "Words with higher frequencies:  ['científicas', 'ciências', 'filosofia', 'podemos', 'popper', 'problema', 'teoria', 'teorias']\n",
            "Trata-se de elucidar duas questões: a) como é possível a elaboração de uma teoria científica a partir de observações em número sempre finito? b) como é possível o estabelecimento da \"verdade\" de uma teoria (sua aplicabilidade a uma infinidade de casos) apoiando-se apenas em bases observacionais? O primeiro problema faz apelo a uma teoria da invenção, cujo objetivo consiste em explicar quais são os processos psicológicos e lógicos capazes de permitir a formulação das teorias científicas. O segundo, de ordem mais epistemológica, diz respeito ao que se convencionou chamar de \"valor\" das teorias científicas, quer dizer, ao grau de confiança que podemos lhes conferir, em função dos dados empíricos de que podemos dispor. \n",
            "Words with higher frequencies:  ['conteúdo', 'popper', 'teoria']\n",
            "\"Por grau de confirmação de uma teoria, escreve Popper, entendo um relatório conciso avaliando o estado (num certo instante í) da discussão crítica de uma teoria, concernente ao modo como ela resolve seus problemas; (entendo) seu grau de testabilidade, o rigor dos testes a que ela foi submetida e a maneira como ela resiste a esses testes\" (Objective Knowledge, p. ). Pelo menos em certos casos, devemos fornecer razões para justificar que uma teoria nova (por exemplo, a teoria einsteiniana) seja considerada melhor que uma teoria antiga (a teoria newtoniana), por estar mais próxima da verdade. Popper dá o exemplo da comparabilidade intuitiva da teoria de Einstein (E) e da teoria de Newton (N): — a toda questão à qual N dá uma resposta, também E fornece uma resposta pelo menos tão precisa quanto a de N, quer dizer, o conteúdo de N é menor ou igual ao de E; — há questões que E pode responder, enquanto N não pode; neste caso, o conteúdo de N é menor que o de E. Donde se pode concluir que a teoria einsteiniana é virtualmente melhor que a newtoniana. \n",
            "Words with higher frequencies:  ['popper', 'teoria', 'teorias']\n",
            "O que nos interessou na filosofia das ciências de Popper foi, sobretudo, sua posição contrária ao \"princípio do empirismo\" fundando o \"verificacionismo\" epistemológico das teorias científicas: Também a teoria de Carnap, expressa em sua lógica indutiva, não é uma teoria da invenção das hipóteses: o que ela permite saber é até que ponto determinada hipótese pode ser considerada como confirmada Quanto a Popper, ao elaborar sua lógica das ciências, tenta afastar explicitamente a consideração dos ways of discovery, não para defender os ways of validation, mas para instaurar os ways of refutation. \n",
            "Words with higher frequencies:  ['capaz', 'científicas', 'ciências', 'demarcação', 'falsificabilidade', 'ideia', 'indução', 'lógica', 'observação', 'popper', 'teoria']\n",
            "Um segundo elemento da filosofia das ciências de Popper é o seguinte:  apoiandose na análise lógica das formulações científicas, defende a ideia de que não podemos passar, por indução, da observação dos dados empíricos às hipóteses propriamente científicas. As similaridades sobre as quais se apoia a indução só surgem, no domínio da observação, por referência a um quadro \"conjetural\" capaz de antecipálas: \"as teorias científicas não consistem em sumários de observações, mas em invenções, isto é, em conjeturas\" (Conjectures and Refutations, , pp. E ao reafirmar a demarcação entre o discurso científico e todos os outros discursos, Popper dá primordial importância à ideia segundo a qual uma teoria científica só tem valor quando pudermos demonstrar que ela é falsa. \n",
            "Words with higher frequencies:  ['cientista', 'crítica', 'objetividade']\n",
            "Por outro lado, ao perceber que o critério da objetividade das proposições científicas reside no fato de elas se prestarem à \"validação intersubjetiva\", Popper apresenta a comprovação intersubjetiva como um simples caso particular da crítica intersubjetiva, isto é, do \"controle mútuo pela discussão crítica\". O cientista da natureza é tão partidarista quanto o resto dos homens e, em geral, se não pertence ao escasso número daqueles que produzem ideias novas, é extremamente unilateral e partidário no que diz respeito às suas próprias ideias\" (p. ). Em outras palavras, a objetividade da ciência não é assunto individual dos diversos cientistas, mas o assunto social de sua crítica recíproca... de seu trabalho em equipe e também de seu trabalho .por caminhos diferentes, inclusive opostos uns aos outros\" (p. ). \n",
            "Words with higher frequencies:  ['divergência', 'evidência', 'natureza', 'popper', 'problema', 'revisão']\n",
            "Entre Popper e o empirismo de Carnap, não há uma divergência real quanto à natureza da invenção nas ciências e quanto ao caráter essencialmente conjetural e provisório das teorias e leis científicas. Contudo,não basta admitirmos a assimetria radical entre o problema da verificação e o da falsificação no caso de uma hipótese ou de uma teoria, para termos o problema resolvido. E isto, de tal forma que,em presença de uma evidência contrária, sempre possa ser efetuada uma revisão em diferentes pontos do sistema, não podendo nenhum elemento do sistema estar, por princípio, ao abrigo de uma possível revisão. \n",
            "Words with higher frequencies:  ['determinada', 'experiência', 'las', 'passo', 'popper', 'seguinte', 'teoria', 'teorias', 'tomado']\n",
            "Diante da dificuldade de saber em que condições podemos considerar que uma observação ou uma experiência entram realmente em contradição com determinada teoria, Popper propõe a seguinte solução: Quanto à possibilidade de princípio, de se preservar determinada teoria, apesar de um desmentido infligido pela experiência, através da introdução de hipóteses suplementares, a posição de Popper é a seguinte: é absolutamente contrária ao espírito da ciência a tentativa de imunizar as teorias contra toda espécie de revisão, fazendo-se apelo a \"estratagemas convencionais\". Em sua opinião, o que caracteriza o método científico é justamente o desejo de expor deliberadamente as teorias, de todos os modos possíveis, ao crivo da refutação, e não o de procurar defendê-las ou preservá-las sistematicamente. \n",
            "Words with higher frequencies:  ['mundo', 'método', 'objetivos', 'popper', 'realidade', 'teorias']\n",
            "Para ele, o universo da ciência faz parte daquilo que chama de o terceiro mundo, e não do segundo mundo. O terceiro mundo é o mundo das teorias objetivas, dos problemas e dos argumentos objetivos, \"cortado\" do mundo da subjetividade psicológica (segundo mundo). E contra todas as tendências irracionalistas de nossa época, Popper sempre proclamou sua fé no valor do conhecimento racional e sua convicção de que as teorias científicas devem corresponder à realidade. \n",
            "Words with higher frequencies:  ['crítica', 'método', 'problemas', 'solução']\n",
            "Ao afirmar claramente que o conhecimento científico não começa nem se caracteriza pelas percepções ou pela observação, nem tampouco pela coleta ou re-coleta dos dados ou fatos, mas pela colocação e solução de problemas, Popper chega à conclusão de que o método das ciências deve consistir em \"tentar possíveis soluções para seus problemas\". Se uma solução não for acessível à crítica objetiva. deve ser excluída como não-científica. Portanto, o método da ciência consiste na tentativa de solução de problemas, devendo estar sob o controle crítico. \n",
            "Words with higher frequencies:  ['ciências', 'método', 'objetividade', 'popper', 'sociais']\n",
            "A partir de sua tese sobre o primado do problema, Popper faz uma crítica ao cientificismo metodológico que tenta impor às ciências sociais o mesmo método das ciências da natureza. Deste modo, chegarão mais perto do ideal de objetividade científica... mas devem estar plenamente conscientes de que, nas ciências sociais, é muito mais difícil se atingir a objetividade... porque a objetividade equivale à neutralidade valorativa, e somente em casos extremos o cientista social consegue emancipar-se das valorações de sua própria roupagem social, para ter acesso a certa objetividade e assepsia em relação aos valores\". \"Na minha opinião\", continua Popper, \"todas essas afirmações são radicalmente falsas e repousam numa compreensão equivocada do método científico-natural; ademais, constituem um mito, o mito por demais difundido, infelizmente, e influente do caráter indutivo do método das ciências da natureza-e do caráter da objetividade científico-natural\" (teses  e , op. \n",
            "Words with higher frequencies:  ['científicas', 'irrefutáveis', 'progresso']\n",
            "Em suma, a epistemologia de Popper pode caracterizar-se como uma crítica constante às concepções científicas já existentes, tentando sempre instaurar novas hipóteses ou conjeturas ousadas, a fim de atingira explicação científica, jamais definitiva, mas sempre aproximada. Aliás, o progresso da ciência se deve, em grande parte, ao fato de ela propor soluções específicas para problemas específicos, submetendo-as incessantemente ao crivo da crítica:esta gera o progresso, ao passo que as verdades \"irrefutáveis O progresso do conhecimento científico está estreitamente ligado à colocação correta dos problemas e às tentativas de dar-lhes soluções. \n",
            "Words with higher frequencies:  ['modo', 'popper', 'teorias']\n",
            "Pelo contrário, quisemos simplesmente, de modo tão sucinto quanto fiel, contrapor ao princípio da verificabilidade, oriundo do Círculo de Viena, o princípio da refutabilidade defendido por Popper, em matéria de metodologia científica: do ponto de vista lógico, diz Popper, uma lei científica ou os seus enunciados empíricos podem ser falsificados de modo conclusivo, mas não podem ser verificados de modo conclusivo; do ponto de vista metodológico, porém, é o inverso que ocorre. O que importa é que as teorias científicas sejam formuladas do modo mais aberto e menos ambíguo possível, a fim de estarem sujeitas ao critério da refutabilidade. E quanto mais ousadas forem as teorias formuladas para resolver os problemas colocados, tanto mais serão fecundas e se tornarão mais capazes de nos fornecer melhores informações sobre seus conteúdos de verdade. \n",
            "Words with higher frequencies:  ['bachelard', 'ciência', 'popper']\n",
            "Por sua vez, a epistemologia de Bachelard se caracteriza pelo esforço de apreender a lógica do erro para reconstruir uma lógica da descoberta da verdade como polémica contra o erro, como \"refutação\" dos erros,mas também como uma tentativa de submeter as verdades aproximadas  (jamais inteiramente objetivas) da ciência e os métodos que ela utiliza a uma retificação metódica e permanente. E ao colocar-se no centro epistemológico das oscilações do pensamento científico, quer dizer, entre o poder de retificação das teorias (que é o da experiência) e o poder da ruptura e da criação (ruptura com as antigas teorias e criação de novas), que pertence ao domínio da Razão, Bachelard também postula, como Popper, um racionalismo. Segundo eles, se todo sistema de enunciados empíricos com pretensões a uma validade científica precisa passar por uma comprovação da realidade (Bachelard) ou ser testado por ela (Popper), nem por isso este imperativo epistemológico deve ser pura e simplesmente identificado com o imperativo tecnológico pretendendo subordinar toda formulação teórica à existência atual de técnicas tornando possível verificá-la no momento mesmo em que ela se expressa. \n",
            "Words with higher frequencies:  ['científico', 'ciências', 'compreender', 'foucault', 'humanas', 'les']\n",
            "Não podemos compreender a formação epistemológica representada, atualmente, pelas ciências humanas, em busca de um estatuto de positividade ou de cientificidade, sem compreender sua relação com esse conjunto subjacente de conhecimentos e de cultura que poderá ser denominado \"saber pré-científico\", \"opinião\" ou \"episteme\": infraestrutura cultural do saber propriamente dito. A esse trabalho, entregou-se Michel Foucault, especialmente em suas obra Les mots et les choses, cujo subtítulo já é sugestivo: O que pretende Foucault é apresentar um certo agenciamento global das ciências humanas no interior daquilo que ele chama de \"o triedro dos saberes\", e que lhe permite definir uma espécie de espaço epistemológico da constituição das ciências humanas de caráter racional e científico. \n",
            "Words with higher frequencies:  ['ciências', 'humanas', 'linguagem', 'vida']\n",
            "O eixo das Ciências da Vida, da Produção e da Linguagem: Biologia, Economia e Ciências da Linguagem (que são ciências humanas); As Ciências Humanas Ciências da Linguagem Matemáticas Aplicadas Formalização Ciências da Vida Produção da Linguagem Em primeiro lugar, porque essas regiões epistemológicas estão inseridas na História que também é ciência humana, e só poderão ser entendidas numa compreensão da historicidade que é solidária da inteligência contemporânea da história: não somente o ser do homem \"tem\" em torno de si \"História\", diz Foucault, mas \"ele mesmo é, em sua historicidade própria, aquilo através de que se esboça uma história da vida humana, uma história da economia, uma história da linguagem\". \n",
            "Words with higher frequencies:  ['ciências', 'episteme', 'foucault']\n",
            "\"arqueológico\" da episteme ocidental e constituem a arqueologia das ciências humanas, a descoberta, por assim dizer, de suas raízes e de seus primeiros germes epistemológicos no solo da cultura e do saber antes mesmo que elas' apareçam, que sejam batizadas com suas atuais denominações, que se digam e sejam ditas \"ciências humanas\". No século XVII, já sob a influência do cartesianismo filosófico e científico, a episteme se apresenta como o pensamento do homem culto, do \"homem honesto\", com tudo o que ela comporta de opinião, de aquisições culturais anteriores à ciência e ao Cogito, de hábitos estranhos ou contrários aos do Cogito e aos da ciência, embora já impregnados pela emergência do Cogito e das ciência, bem como por sua filosofia e pela metodologia da mathesis universalis. Foucault descobre três momentos da episteme: a época da Renascença (século XVI); a época clássica da ciência e das Luzes (séculos XVII e XVIII); \n",
            "Words with higher frequencies:  ['clássica', 'foucault', 'mathesis', 'representação', 'signo', 'signos']\n",
            "Analisando o uso desse termo na filosofia de Descartes e de Kant, bem como a doutrina que sobre ele foi estabelecida por Hegel na Filosofia do Espírito, Foucault chega à conclusão de que é preciso situar e caracterizar a representação, não somente como um fato mental, mas como um registro epistemológico específico, cuja compreensão é necessária à atitude científica (ou racional) de todo um período do pensamento e da cultura. ... ele não espera silenciosamente aquele que pode reconhecê-lo; jamais se constitui por um ato de conhecimento; servir-se de signos não é, como nos séculos precedentes, tentar descobrir por baixo deles o texto primitivo de um discurso tido e mantido para sempre; é tentar descobrir a linguagem arbitrária que autorizará a manifestação da natureza em seu espaço, os termos últimos de sua análise e as Isis de sua composição\" (pp. -). Todavia, para além do pensamento da ordem, que é a própria alma da mathesis e o princípio distintivo de toda a economia da representação, surgirão no saber dois novos segmentos de organização do conhecimento: o primeiro é o que Foucault chama de taxinomia; o segundo, ulterior, de \"análise das gêneses\" (estudo da ordem das produções e dos desenvolvimentos constitutivos no tempo). \n",
            "Words with higher frequencies:  ['ciência', 'ciências', 'humanas']\n",
            "Define-se, assim, na episteme clássica, um lugar epistemológico onde vão congregar-se (segundo suas afinidades) e assumir a fisionomia específica de antigos esboços de conhecimento: as histórias naturais da Antiguidade, da Idade Média e da Renascença; os rudimentos da economia; as gramáticas particulares e as primeiras reflexões filosóficas sobre a linguagem. Ademais, convém notar que essas três modalidades clássicas do \"saber\" não são, para Foucault, ciências humanas, nem tampouco \"ciências\" precursoras de nossas atuais ciências humanas. Ao contrário, não passam de núcleos arcaicos dessas disciplinas que situamos no segundo eixo do \"triedro dos saberes\", muito embora conduzam o pensamento à ideia de \"homem\", tal como ela aparece no século das Luzes, com sua antropologia tentando unificar os diversos saberes concernentes à realidade humana. \n",
            "Words with higher frequencies:  ['ciências', 'homem', 'representação']\n",
            "Podemos dizer que a transformação epistemológica realizada com a superação desses três núcleos da idade clássica — superação do nível da representação pelos saberes ulteriores da positividade da Vida, do Trabalho e do Falar humano — equivale à superação daquilo que G. Bachelard chama de \"obstáculo epistemológico\" opondo-se, no interior do espírito ainda \"pré-científico\", à constituição de uma ciência verdadeira. Uma vez eliminado o obstáculo epistemológico de certo desconhecimento da positividade na doutrina clássica da representação, as ciências humanas podem constituir-se e aparecer em estado livre no espaço do saber. Vivemos o desfecho da antropologia, a desintegração do homem, dois fenómenos epistemologicamente conexos à emergência atual de certas disciplinas humanas, que Foucault chama de \"contra-ciências\": a Psicanálise, a Etnologia (de Lévi-Strauss) e um certo saber nos confins da ciência da linguagem e da prática literária. \n",
            "Words with higher frequencies:  ['arqueologia', 'ciências', 'homem', 'origem']\n",
            "Não se trata de uma teoria do método científico, mas de uma teoria do dispositivo que funda o sistema das ciências, seu campo epistemológico, sua estrutura e sua história. Diferentemente das demais arqueologias (arqueologia positiva: que busca a origem do homem e segue o fio de sua história; arqueologia ontológica: que remonta ao fundamento, buscando a origem do homem no Ser como origem; arqueologia fenomenológica: que busca a origem, no homem, e a origem do homem, na Natureza), a arqueologia proposta por Foucault não visa a descoberta da origem do homem, mas o fundamento das ciências humanas. No que diz respeito às ciências humanas, \"não é o estatuto metafísico ou a indelével transcendência desse homem de que elas falam, mas a complexidade da configuração epistemológica em que elas se encontram situadas\" que explica sua dificuldade, suas incertezas e sua precariedade (p. ). \n",
            "Words with higher frequencies:  ['foucault', 'homem', 'pensamento']\n",
            "Foucault não considera o homem real, o que se afirma como homem e que defende seus interesses, o homem que tem desejos e que realiza. Foucault fala da imagem tradicional que se tinha dó homem e, por conseguinte, de todo o humanismo clássico que tentou resolver, mas sem conseguir, em termos de moral, de valores e de reconciliação, os problemas das relações do homem com o mundo, os problemas da realidade, da criação artística, da felicidade, etc. g) Porque na medida em que ela exclui totalmente o homem real, para considerá-lo apenas como conceito, não pertencendo mais a um grupo ou a uma coletividade concreta, mas reduzindo-se a um elemento de um sistema, ela ignora por completo que o homem é um ser de necessidades e o sujeito da história. \n",
            "Words with higher frequencies:  ['cientistas', 'ciência', 'epistemologia']\n",
            ". a epistemologia genética, tentando elucidar a atividade científica e partir de uma psicologia da inteligência, culminando num estruturalismo genético e construtivista (epistemologia de J. Piaget); . a epistemologia histórico-crítica, procurando elucidar a produção das teorias e dos conceitos científicos a partir de uma análise da própria história das ciências, de suas revoluções e das démarches do espírito científico (Bachelard, Canguilhem, Foucault); ao lado, pois, dessas três maneiras de abordar a ciência em sua atividade, vemos surgir, recentemente, um novo tipo de epistemologia, a epistemologia crítica, fruto da reflexão que os próprios cientistas estão fazendo sobre a ciência em si mesma. O que eles pretendem mostrar é que as ciências, hoje em dia, não se impõem mais por si mesmas; que seus resultados não poderão mais impor-se de modo evidente e triunfante; que as ciências não poderão mais constituir a verdade das sociedades atuais; que suas virtudes em nada são evidentes; que os pesquisadores precisam interrogar-se sobre a significação da ciência que estão fazendo; que eles não poderão mais fazer abstração da maneira como o conjunto da pesquisa científica é institucionalizado, organizado, orientado, financiado e utilizado por terceiros; que o próprio trabalho científico está profundamente afetado pelas novas condições em que ele é realizado na sociedade industrial e tecnicizada; que os pesquisadores devem responsabilizar-se pelas consequências que suas descobertas poderão ter sobre a sociedade; que eles precisam tomar consciência de que, na vida da ciência, há duas séries de forças atuantes: as forças externas, que correspondem aos objetivos da sociedade; Por outro lado, enquanto a ciência da ciência permanecer, para o cientista, um desejo meramente romântico ou o objeto de uma futurologia vaga, o único modo que ele tem para reconquistar sua autonomia consiste em vincular-se ao* poder, para que este inspire diretamente uma política da ciência. \n",
            "Words with higher frequencies:  ['ciências', 'filosofia', 'homem']\n",
            "de um lado, uma filosofia completamente estranha às ciências humanas, uma filosofia sem conteúdo, pretendendo ensinar a sabedoria e fornecer a imagem do homem sem saber mais o que é o homem real; do outro, ciências humanas que fazem um esforço enorme para se tornarem ciências, mas que não sabem também o que é o homem, e nem querem saber. Parece que a profecia de Comte, estabelecendo a carta de fundação do positivismo, mas também definindo o programa de um conhecimento pleno do homem pelo homem, não somente continua válida, mas lança à filosofia um desafio: ou ela se torna \"positiva\", no sentido de refletir a partir dos conteúdos fornecidos pelas ciências humanas, ou não terá mais razão de ser. se acordasse de todo e qualquer, sono dogmático para tornar a filosofia contemporânea das ciências de seu tempo..., é bem provável que a filosofia redescobriria sua missão essencial: a de fornecer os primeiros princípios e os fundamentos de uma ciência do homem real. \n",
            "Words with higher frequencies:  ['filosofia', 'homem', 'vida']\n",
            "Há duas possibilidades de existir, de viver, de o homem se compreender a si mesmo e de explicar as coisas: ou reagrupamos tudo em torno do único centro que é o homem, ou em torno de um polo mais forte e que seria o fundamento de nossa vida. Em face desse dilaceramento do campo ontológico, dessa polarização e dessa ruptura na questão do ser, há uma tarefa nova para a filosofia relativamente ao ensino tranquilo e coerente da filosofia nos tempos passados. Ora, como a filosofia não é discurso fechado sobre si mesmo, um discurso que o filósofo profere a outros filósofos; e como a filosofia não pode refletir sobre ideias, mas deve refletir sobre realidades, diremos que ela não tem objeto, pois tem o objeto dos outros, reflete sobre os objetos das outras disciplinas. \n",
            "Words with higher frequencies:  ['ciências', 'homem', 'humanas']\n",
            "Com efeito, aquilo pelo que a epistemologia das ciências humanas se interessa, aquilo de que ela se ocupa, em conformidade com aquilo que ela visa, consiste em saber como se formam, como se desenvolvem, como funcionam ou se articulam os conhecimentos: a) tais como eles estão sendo elaborados pelos especialistas, enquanto estes são ao mesmo tempo sujeitos e objetos de conhecimento, enraizados num determinado contexto sócio-cultural; b) na medida em que, por um lado, as ciências humanas podem ser reagrupadas segundo certa comunidade de objetos, de pontos de vista ou de métodos; e na medida em que, por outro lado, elas se distinguem das ciências naturais por uma maneira própria de atingir a objetividade científica sobre um objeto que, aliás, não é um objeto: o homem. Por outro lado, isso nos mostra a possibilidade de as ciências humanas poderem, cada uma segundo sua abstração metodológica própria, cooperar nesta busca de uma nova consciência-de-si para o homem e constituir, assim, uma autêntica antropologia reflexiva, que não seria uma filosofia sintética das ciências humanas, mas esta disciplina extracientífica cuja função deveria ser procurada na conjunção de seus três papéis: . colaborar com as ciências humanas tendo em vista a elaboração dinâmica de um conceito de homem comum às diversas disciplinas em interação; . No domínio das ciências humanas, creio que devemos compreender o esforço da epistemologia como uma tentativa eminentemente interdisciplinar, não somente lançando pontes entre as diversas ciências, mas também fazendo um esforço de coordenar suas informações no sentido de uma \"convergência\" dos pontos de vista, dos métodos, dos conceitos, das teorias e dos resultados. \n",
            "Words with higher frequencies:  ['ciência', 'epistemologia', 'filosofia']\n",
            "Não são poucos os epistemólogos que tentam construir as categorias de uma \"filosofia científica\", que seria ao mesmo tempo \"ciência da ciência\" e \"crítica científica da filosofia\", sobre a base dos conceitos lógico-matemáticos. Por isso, devemos mostrar aos defensores da \"cientificidade\" da epistemologia, que uma \"ciência da ciência\" faz necessariamente apelo a pressupostos filosóficos que, ao mesmo tempo, dissimulam e revelam a concepção segundo a qual a ciência poderia manifestar, por simples reflexão sobre si mesma, as próprias leis de sua constituição, de seu desenvolvimento e de seu funcionamento. Por outro lado, é preciso que se diga que nem tudo entra no domínio da ciência, ainda que seja a faculdade de dizer não, a recusa da sujeição, e que autorizaria à filosofia uma função, pelo menos, de mostrar que a ciência sempre nasce de um limite da ciência. "
          ]
        }
      ],
      "source": [
        "import spacy\n",
        "from spacy.lang.pt.stop_words import STOP_WORDS\n",
        "from sklearn.feature_extraction.text import CountVectorizer\n",
        "import pt_core_news_sm\n",
        "\n",
        "for section in dict_final:\n",
        "  file_name_final = section\n",
        "\n",
        "  nlp = pt_core_news_sm.load()\n",
        "  doc = nlp(dict_final[section])\n",
        "\n",
        "  corpus = [sent.text.lower() for sent in doc.sents ]\n",
        "  cv = CountVectorizer(stop_words=list(STOP_WORDS))   \n",
        "  cv_fit=cv.fit_transform(corpus)    \n",
        "  word_list = cv.get_feature_names();    \n",
        "  count_list = cv_fit.toarray().sum(axis=0)\n",
        "  word_frequency = dict(zip(word_list,count_list))\n",
        "\n",
        "  val=sorted(word_frequency.values())\n",
        "  higher_word_frequencies = [word for word,freq in word_frequency.items() if freq in val[-3:]]\n",
        "  print(\"\\nWords with higher frequencies: \", higher_word_frequencies)\n",
        "  # gets relative frequency of words\n",
        "  higher_frequency = val[-1]\n",
        "  for word in word_frequency.keys():  \n",
        "      word_frequency[word] = (word_frequency[word]/higher_frequency)\n",
        "\n",
        "  text_file = open(path_to_save + file_name_final + \"_maiores_freq.txt\", \"w\")\n",
        "  text_file.write(str(higher_word_frequencies))\n",
        "  text_file.close()\n",
        "\n",
        "  sentence_rank={}\n",
        "  for sent in doc.sents:\n",
        "      for word in sent :       \n",
        "          if word.text.lower() in word_frequency.keys():            \n",
        "              if sent in sentence_rank.keys():\n",
        "                  sentence_rank[sent]+=word_frequency[word.text.lower()]\n",
        "              else:\n",
        "                  sentence_rank[sent]=word_frequency[word.text.lower()]\n",
        "  top_sentences=(sorted(sentence_rank.values())[::-1])\n",
        "  top_sent=top_sentences[:3]\n",
        "\n",
        "  summary=[]\n",
        "  for sent,strength in sentence_rank.items():  \n",
        "      if strength in top_sent:\n",
        "          summary.append(sent)\n",
        "      else:\n",
        "          continue\n",
        "  for i in summary:\n",
        "      print(i,end=\" \")\n",
        "\n",
        "  text_file = open(path_to_save + file_name_final + \"_section_summary.txt\", \"w\")\n",
        "  text_file.write(str(summary))\n",
        "  text_file.close()"
      ]
    },
    {
      "cell_type": "markdown",
      "metadata": {
        "id": "bLWmy3xp6RZz"
      },
      "source": [
        "# Converting .DOCX to .TXT"
      ]
    },
    {
      "cell_type": "code",
      "execution_count": null,
      "metadata": {
        "colab": {
          "base_uri": "https://localhost:8080/"
        },
        "id": "kGj2XN9Z6aMP",
        "outputId": "445008b0-d82f-447f-c14a-dca28b500c4d"
      },
      "outputs": [
        {
          "name": "stdout",
          "output_type": "stream",
          "text": [
            "Collecting docx2txt\n",
            "  Downloading https://files.pythonhosted.org/packages/7d/7d/60ee3f2b16d9bfdfa72e8599470a2c1a5b759cb113c6fe1006be28359327/docx2txt-0.8.tar.gz\n",
            "Building wheels for collected packages: docx2txt\n",
            "  Building wheel for docx2txt (setup.py) ... \u001b[?25l\u001b[?25hdone\n",
            "  Created wheel for docx2txt: filename=docx2txt-0.8-cp37-none-any.whl size=3963 sha256=5fa2f65df7b1e3e6512a7032ce3299e8049a1ccfb69af0f5869d1405570cbfe9\n",
            "  Stored in directory: /root/.cache/pip/wheels/b2/1f/26/a051209bbb77fc6bcfae2bb7e01fa0ff941b82292ab084d596\n",
            "Successfully built docx2txt\n",
            "Installing collected packages: docx2txt\n",
            "Successfully installed docx2txt-0.8\n"
          ]
        }
      ],
      "source": [
        "#Installing docx2txt\n",
        "!pip install docx2txt"
      ]
    },
    {
      "cell_type": "code",
      "execution_count": null,
      "metadata": {
        "id": "luHSxmhu7NMO"
      },
      "outputs": [],
      "source": [
        "# Importing .docx file from GDrive folder to session\n",
        "id = '1V3rvevAL9l92iPkvO3K-QkLfjyiqt0y9'\n",
        "downloaded = drive.CreateFile({'id':id}) \n",
        "downloaded.GetContentFile('hessen_introducao.txt')"
      ]
    },
    {
      "cell_type": "code",
      "execution_count": null,
      "metadata": {
        "id": "ILvkTxqH6j3O"
      },
      "outputs": [],
      "source": [
        "import docx2txt\n",
        "\n",
        "# replace following line with location of your .docx file\n",
        "MY_TEXT = docx2txt.process(\"/content/hessen_introducao.docx\")\n",
        "\n",
        "\n",
        "with open(\"hessen_introducao.txt\", \"w\") as text_file:\n",
        "    print(MY_TEXT, file=text_file)"
      ]
    },
    {
      "cell_type": "markdown",
      "metadata": {
        "id": "PDAXiz4_6Wv_"
      },
      "source": [
        "# Performing auto-summarize"
      ]
    },
    {
      "cell_type": "code",
      "execution_count": null,
      "metadata": {
        "colab": {
          "base_uri": "https://localhost:8080/"
        },
        "id": "eiIGqFwG5Xix",
        "outputId": "614f270e-e832-4305-cdef-fe6b793e41a8"
      },
      "outputs": [
        {
          "name": "stdout",
          "output_type": "stream",
          "text": [
            "Requirement already up-to-date: spacy in /usr/local/lib/python3.7/dist-packages (3.0.5)\n",
            "Requirement already satisfied, skipping upgrade: jinja2 in /usr/local/lib/python3.7/dist-packages (from spacy) (2.11.3)\n",
            "Requirement already satisfied, skipping upgrade: typing-extensions<4.0.0.0,>=3.7.4; python_version < \"3.8\" in /usr/local/lib/python3.7/dist-packages (from spacy) (3.7.4.3)\n",
            "Requirement already satisfied, skipping upgrade: numpy>=1.15.0 in /usr/local/lib/python3.7/dist-packages (from spacy) (1.19.5)\n",
            "Requirement already satisfied, skipping upgrade: thinc<8.1.0,>=8.0.2 in /usr/local/lib/python3.7/dist-packages (from spacy) (8.0.2)\n",
            "Requirement already satisfied, skipping upgrade: pathy>=0.3.5 in /usr/local/lib/python3.7/dist-packages (from spacy) (0.4.0)\n",
            "Requirement already satisfied, skipping upgrade: preshed<3.1.0,>=3.0.2 in /usr/local/lib/python3.7/dist-packages (from spacy) (3.0.5)\n",
            "Requirement already satisfied, skipping upgrade: requests<3.0.0,>=2.13.0 in /usr/local/lib/python3.7/dist-packages (from spacy) (2.23.0)\n",
            "Requirement already satisfied, skipping upgrade: murmurhash<1.1.0,>=0.28.0 in /usr/local/lib/python3.7/dist-packages (from spacy) (1.0.5)\n",
            "Requirement already satisfied, skipping upgrade: tqdm<5.0.0,>=4.38.0 in /usr/local/lib/python3.7/dist-packages (from spacy) (4.41.1)\n",
            "Requirement already satisfied, skipping upgrade: srsly<3.0.0,>=2.4.0 in /usr/local/lib/python3.7/dist-packages (from spacy) (2.4.1)\n",
            "Requirement already satisfied, skipping upgrade: cymem<2.1.0,>=2.0.2 in /usr/local/lib/python3.7/dist-packages (from spacy) (2.0.5)\n",
            "Requirement already satisfied, skipping upgrade: pydantic<1.8.0,>=1.7.1 in /usr/local/lib/python3.7/dist-packages (from spacy) (1.7.3)\n",
            "Requirement already satisfied, skipping upgrade: catalogue<2.1.0,>=2.0.1 in /usr/local/lib/python3.7/dist-packages (from spacy) (2.0.3)\n",
            "Requirement already satisfied, skipping upgrade: typer<0.4.0,>=0.3.0 in /usr/local/lib/python3.7/dist-packages (from spacy) (0.3.2)\n",
            "Requirement already satisfied, skipping upgrade: setuptools in /usr/local/lib/python3.7/dist-packages (from spacy) (54.2.0)\n",
            "Requirement already satisfied, skipping upgrade: wasabi<1.1.0,>=0.8.1 in /usr/local/lib/python3.7/dist-packages (from spacy) (0.8.2)\n",
            "Requirement already satisfied, skipping upgrade: blis<0.8.0,>=0.4.0 in /usr/local/lib/python3.7/dist-packages (from spacy) (0.4.1)\n",
            "Requirement already satisfied, skipping upgrade: spacy-legacy<3.1.0,>=3.0.0 in /usr/local/lib/python3.7/dist-packages (from spacy) (3.0.2)\n",
            "Requirement already satisfied, skipping upgrade: importlib-metadata>=0.20; python_version < \"3.8\" in /usr/local/lib/python3.7/dist-packages (from spacy) (3.10.1)\n",
            "Requirement already satisfied, skipping upgrade: packaging>=20.0 in /usr/local/lib/python3.7/dist-packages (from spacy) (20.9)\n",
            "Requirement already satisfied, skipping upgrade: MarkupSafe>=0.23 in /usr/local/lib/python3.7/dist-packages (from jinja2->spacy) (1.1.1)\n",
            "Requirement already satisfied, skipping upgrade: smart-open<4.0.0,>=2.2.0 in /usr/local/lib/python3.7/dist-packages (from pathy>=0.3.5->spacy) (3.0.0)\n",
            "Requirement already satisfied, skipping upgrade: certifi>=2017.4.17 in /usr/local/lib/python3.7/dist-packages (from requests<3.0.0,>=2.13.0->spacy) (2020.12.5)\n",
            "Requirement already satisfied, skipping upgrade: chardet<4,>=3.0.2 in /usr/local/lib/python3.7/dist-packages (from requests<3.0.0,>=2.13.0->spacy) (3.0.4)\n",
            "Requirement already satisfied, skipping upgrade: idna<3,>=2.5 in /usr/local/lib/python3.7/dist-packages (from requests<3.0.0,>=2.13.0->spacy) (2.10)\n",
            "Requirement already satisfied, skipping upgrade: urllib3!=1.25.0,!=1.25.1,<1.26,>=1.21.1 in /usr/local/lib/python3.7/dist-packages (from requests<3.0.0,>=2.13.0->spacy) (1.24.3)\n",
            "Requirement already satisfied, skipping upgrade: zipp>=0.5; python_version < \"3.8\" in /usr/local/lib/python3.7/dist-packages (from catalogue<2.1.0,>=2.0.1->spacy) (3.4.1)\n",
            "Requirement already satisfied, skipping upgrade: click<7.2.0,>=7.1.1 in /usr/local/lib/python3.7/dist-packages (from typer<0.4.0,>=0.3.0->spacy) (7.1.2)\n",
            "Requirement already satisfied, skipping upgrade: pyparsing>=2.0.2 in /usr/local/lib/python3.7/dist-packages (from packaging>=20.0->spacy) (2.4.7)\n",
            "Requirement already up-to-date: scikit-learn in /usr/local/lib/python3.7/dist-packages (0.24.1)\n",
            "Requirement already satisfied, skipping upgrade: joblib>=0.11 in /usr/local/lib/python3.7/dist-packages (from scikit-learn) (1.0.1)\n",
            "Requirement already satisfied, skipping upgrade: scipy>=0.19.1 in /usr/local/lib/python3.7/dist-packages (from scikit-learn) (1.4.1)\n",
            "Requirement already satisfied, skipping upgrade: numpy>=1.13.3 in /usr/local/lib/python3.7/dist-packages (from scikit-learn) (1.19.5)\n",
            "Requirement already satisfied, skipping upgrade: threadpoolctl>=2.0.0 in /usr/local/lib/python3.7/dist-packages (from scikit-learn) (2.1.0)\n"
          ]
        }
      ],
      "source": [
        "!pip install -U spacy\n",
        "!pip install -U scikit-learn"
      ]
    },
    {
      "cell_type": "code",
      "execution_count": null,
      "metadata": {
        "colab": {
          "base_uri": "https://localhost:8080/"
        },
        "id": "pAA4PqwF5qHs",
        "outputId": "e7a81d5c-1dc5-41e3-e574-4c1115a1d517"
      },
      "outputs": [
        {
          "name": "stdout",
          "output_type": "stream",
          "text": [
            "2021-04-17 20:23:43.844048: I tensorflow/stream_executor/platform/default/dso_loader.cc:49] Successfully opened dynamic library libcudart.so.11.0\n",
            "Requirement already satisfied: pt-core-news-sm==3.0.0 from https://github.com/explosion/spacy-models/releases/download/pt_core_news_sm-3.0.0/pt_core_news_sm-3.0.0-py3-none-any.whl#egg=pt_core_news_sm==3.0.0 in /usr/local/lib/python3.7/dist-packages (3.0.0)\n",
            "Requirement already satisfied: spacy<3.1.0,>=3.0.0 in /usr/local/lib/python3.7/dist-packages (from pt-core-news-sm==3.0.0) (3.0.5)\n",
            "Requirement already satisfied: preshed<3.1.0,>=3.0.2 in /usr/local/lib/python3.7/dist-packages (from spacy<3.1.0,>=3.0.0->pt-core-news-sm==3.0.0) (3.0.5)\n",
            "Requirement already satisfied: srsly<3.0.0,>=2.4.0 in /usr/local/lib/python3.7/dist-packages (from spacy<3.1.0,>=3.0.0->pt-core-news-sm==3.0.0) (2.4.1)\n",
            "Requirement already satisfied: setuptools in /usr/local/lib/python3.7/dist-packages (from spacy<3.1.0,>=3.0.0->pt-core-news-sm==3.0.0) (54.2.0)\n",
            "Requirement already satisfied: typing-extensions<4.0.0.0,>=3.7.4; python_version < \"3.8\" in /usr/local/lib/python3.7/dist-packages (from spacy<3.1.0,>=3.0.0->pt-core-news-sm==3.0.0) (3.7.4.3)\n",
            "Requirement already satisfied: cymem<2.1.0,>=2.0.2 in /usr/local/lib/python3.7/dist-packages (from spacy<3.1.0,>=3.0.0->pt-core-news-sm==3.0.0) (2.0.5)\n",
            "Requirement already satisfied: blis<0.8.0,>=0.4.0 in /usr/local/lib/python3.7/dist-packages (from spacy<3.1.0,>=3.0.0->pt-core-news-sm==3.0.0) (0.4.1)\n",
            "Requirement already satisfied: pydantic<1.8.0,>=1.7.1 in /usr/local/lib/python3.7/dist-packages (from spacy<3.1.0,>=3.0.0->pt-core-news-sm==3.0.0) (1.7.3)\n",
            "Requirement already satisfied: wasabi<1.1.0,>=0.8.1 in /usr/local/lib/python3.7/dist-packages (from spacy<3.1.0,>=3.0.0->pt-core-news-sm==3.0.0) (0.8.2)\n",
            "Requirement already satisfied: jinja2 in /usr/local/lib/python3.7/dist-packages (from spacy<3.1.0,>=3.0.0->pt-core-news-sm==3.0.0) (2.11.3)\n",
            "Requirement already satisfied: pathy>=0.3.5 in /usr/local/lib/python3.7/dist-packages (from spacy<3.1.0,>=3.0.0->pt-core-news-sm==3.0.0) (0.4.0)\n",
            "Requirement already satisfied: tqdm<5.0.0,>=4.38.0 in /usr/local/lib/python3.7/dist-packages (from spacy<3.1.0,>=3.0.0->pt-core-news-sm==3.0.0) (4.41.1)\n",
            "Requirement already satisfied: spacy-legacy<3.1.0,>=3.0.0 in /usr/local/lib/python3.7/dist-packages (from spacy<3.1.0,>=3.0.0->pt-core-news-sm==3.0.0) (3.0.2)\n",
            "Requirement already satisfied: packaging>=20.0 in /usr/local/lib/python3.7/dist-packages (from spacy<3.1.0,>=3.0.0->pt-core-news-sm==3.0.0) (20.9)\n",
            "Requirement already satisfied: numpy>=1.15.0 in /usr/local/lib/python3.7/dist-packages (from spacy<3.1.0,>=3.0.0->pt-core-news-sm==3.0.0) (1.19.5)\n",
            "Requirement already satisfied: importlib-metadata>=0.20; python_version < \"3.8\" in /usr/local/lib/python3.7/dist-packages (from spacy<3.1.0,>=3.0.0->pt-core-news-sm==3.0.0) (3.10.1)\n",
            "Requirement already satisfied: catalogue<2.1.0,>=2.0.1 in /usr/local/lib/python3.7/dist-packages (from spacy<3.1.0,>=3.0.0->pt-core-news-sm==3.0.0) (2.0.3)\n",
            "Requirement already satisfied: typer<0.4.0,>=0.3.0 in /usr/local/lib/python3.7/dist-packages (from spacy<3.1.0,>=3.0.0->pt-core-news-sm==3.0.0) (0.3.2)\n",
            "Requirement already satisfied: murmurhash<1.1.0,>=0.28.0 in /usr/local/lib/python3.7/dist-packages (from spacy<3.1.0,>=3.0.0->pt-core-news-sm==3.0.0) (1.0.5)\n",
            "Requirement already satisfied: requests<3.0.0,>=2.13.0 in /usr/local/lib/python3.7/dist-packages (from spacy<3.1.0,>=3.0.0->pt-core-news-sm==3.0.0) (2.23.0)\n",
            "Requirement already satisfied: thinc<8.1.0,>=8.0.2 in /usr/local/lib/python3.7/dist-packages (from spacy<3.1.0,>=3.0.0->pt-core-news-sm==3.0.0) (8.0.2)\n",
            "Requirement already satisfied: MarkupSafe>=0.23 in /usr/local/lib/python3.7/dist-packages (from jinja2->spacy<3.1.0,>=3.0.0->pt-core-news-sm==3.0.0) (1.1.1)\n",
            "Requirement already satisfied: smart-open<4.0.0,>=2.2.0 in /usr/local/lib/python3.7/dist-packages (from pathy>=0.3.5->spacy<3.1.0,>=3.0.0->pt-core-news-sm==3.0.0) (3.0.0)\n",
            "Requirement already satisfied: pyparsing>=2.0.2 in /usr/local/lib/python3.7/dist-packages (from packaging>=20.0->spacy<3.1.0,>=3.0.0->pt-core-news-sm==3.0.0) (2.4.7)\n",
            "Requirement already satisfied: zipp>=0.5 in /usr/local/lib/python3.7/dist-packages (from importlib-metadata>=0.20; python_version < \"3.8\"->spacy<3.1.0,>=3.0.0->pt-core-news-sm==3.0.0) (3.4.1)\n",
            "Requirement already satisfied: click<7.2.0,>=7.1.1 in /usr/local/lib/python3.7/dist-packages (from typer<0.4.0,>=0.3.0->spacy<3.1.0,>=3.0.0->pt-core-news-sm==3.0.0) (7.1.2)\n",
            "Requirement already satisfied: chardet<4,>=3.0.2 in /usr/local/lib/python3.7/dist-packages (from requests<3.0.0,>=2.13.0->spacy<3.1.0,>=3.0.0->pt-core-news-sm==3.0.0) (3.0.4)\n",
            "Requirement already satisfied: idna<3,>=2.5 in /usr/local/lib/python3.7/dist-packages (from requests<3.0.0,>=2.13.0->spacy<3.1.0,>=3.0.0->pt-core-news-sm==3.0.0) (2.10)\n",
            "Requirement already satisfied: certifi>=2017.4.17 in /usr/local/lib/python3.7/dist-packages (from requests<3.0.0,>=2.13.0->spacy<3.1.0,>=3.0.0->pt-core-news-sm==3.0.0) (2020.12.5)\n",
            "Requirement already satisfied: urllib3!=1.25.0,!=1.25.1,<1.26,>=1.21.1 in /usr/local/lib/python3.7/dist-packages (from requests<3.0.0,>=2.13.0->spacy<3.1.0,>=3.0.0->pt-core-news-sm==3.0.0) (1.24.3)\n",
            "\u001b[38;5;2m✔ Download and installation successful\u001b[0m\n",
            "You can now load the package via spacy.load('pt_core_news_sm')\n"
          ]
        }
      ],
      "source": [
        "!python -m spacy download pt_core_news_sm"
      ]
    },
    {
      "cell_type": "code",
      "execution_count": null,
      "metadata": {
        "id": "jtaDqUaXfqkE"
      },
      "outputs": [],
      "source": [
        "mypath='/content/drive/MyDrive/Mestrado - UFG/Disciplinas/Pesquisa em Ciências Contábeis - Juliano/Resenhas - Batch Processing/Hessen(2003) - TXT'\n",
        "from os import listdir\n",
        "from os.path import isfile, join\n",
        "onlyfiles = [f for f in listdir(mypath) if isfile(join(mypath, f))]"
      ]
    },
    {
      "cell_type": "code",
      "execution_count": null,
      "metadata": {
        "id": "FARdjE9GgzEE"
      },
      "outputs": [],
      "source": [
        "path_to_read_from='/content/drive/MyDrive/Mestrado - UFG/Disciplinas/Pesquisa em Ciências Contábeis - Juliano/Resenhas - Batch Processing/Hessen(2003) - TXT/'\n",
        "path_to_save='/content/drive/MyDrive/Mestrado - UFG/Disciplinas/Pesquisa em Ciências Contábeis - Juliano/Resenhas - Batch Processing/Hessen(2003) - Analysis Results/'"
      ]
    },
    {
      "cell_type": "code",
      "execution_count": null,
      "metadata": {
        "id": "uHyMHcd3HhIh"
      },
      "outputs": [],
      "source": [
        "import spacy\n",
        "from spacy.lang.pt.stop_words import STOP_WORDS\n",
        "from sklearn.feature_extraction.text import CountVectorizer\n",
        "import pt_core_news_sm\n",
        "\n",
        "for file in onlyfiles:\n",
        "  file_name_final = path_to_read_from + file\n",
        "\n",
        "  nlp = pt_core_news_sm.load()\n",
        "  with open(file_name_final, \"r\") as f:\n",
        "          text = \" \".join(f.readlines())\n",
        "          \n",
        "  doc = nlp(text)\n",
        "\n",
        "  corpus = [sent.text.lower() for sent in doc.sents ]\n",
        "  cv = CountVectorizer(stop_words=list(STOP_WORDS))   \n",
        "  cv_fit=cv.fit_transform(corpus)    \n",
        "  word_list = cv.get_feature_names();    \n",
        "  count_list = cv_fit.toarray().sum(axis=0)\n",
        "  word_frequency = dict(zip(word_list,count_list))\n",
        "\n",
        "  val=sorted(word_frequency.values())\n",
        "  higher_word_frequencies = [word for word,freq in word_frequency.items() if freq in val[-3:]]\n",
        "  print(\"\\nWords with higher frequencies: \", higher_word_frequencies)\n",
        "  # gets relative frequency of words\n",
        "  higher_frequency = val[-1]\n",
        "  for word in word_frequency.keys():  \n",
        "      word_frequency[word] = (word_frequency[word]/higher_frequency)\n",
        "\n",
        "  text_file = open(path_to_save + file + \"_maiores_freq.txt\", \"w\")\n",
        "  text_file.write(str(higher_word_frequencies))\n",
        "  text_file.close()\n",
        "\n",
        "  sentence_rank={}\n",
        "  for sent in doc.sents:\n",
        "      for word in sent :       \n",
        "          if word.text.lower() in word_frequency.keys():            \n",
        "              if sent in sentence_rank.keys():\n",
        "                  sentence_rank[sent]+=word_frequency[word.text.lower()]\n",
        "              else:\n",
        "                  sentence_rank[sent]=word_frequency[word.text.lower()]\n",
        "  top_sentences=(sorted(sentence_rank.values())[::-1])\n",
        "  top_sent=top_sentences[:3]\n",
        "\n",
        "  summary=[]\n",
        "  for sent,strength in sentence_rank.items():  \n",
        "      if strength in top_sent:\n",
        "          summary.append(sent)\n",
        "      else:\n",
        "          continue\n",
        "  for i in summary:\n",
        "      print(i,end=\" \")\n",
        "\n",
        "  text_file = open(path_to_save + file + \"_section_summary.txt\", \"w\")\n",
        "  text_file.write(str(summary))\n",
        "  text_file.close()"
      ]
    },
    {
      "cell_type": "markdown",
      "metadata": {
        "id": "io7sOzRzdZbv"
      },
      "source": [
        "# Deleting files when needed"
      ]
    },
    {
      "cell_type": "code",
      "execution_count": null,
      "metadata": {
        "colab": {
          "base_uri": "https://localhost:8080/"
        },
        "id": "Rj3RniE5dXs6",
        "outputId": "fe8da1e1-c6f4-4926-f803-036b9291a610"
      },
      "outputs": [
        {
          "name": "stdout",
          "output_type": "stream",
          "text": [
            "shell-init: error retrieving current directory: getcwd: cannot access parent directories: No such file or directory\n"
          ]
        }
      ],
      "source": [
        "!rm -rf '/content/sample_data/'"
      ]
    }
  ],
  "metadata": {
    "colab": {
      "name": "Auto-summarize.ipynb",
      "provenance": []
    },
    "interpreter": {
      "hash": "67ec7ba3d9b86346e9fbef625ddb015493eed4412d6f732feacd0f4e49252ef8"
    },
    "kernelspec": {
      "display_name": "Python 3.8.8 64-bit",
      "name": "python3"
    },
    "language_info": {
      "name": "python",
      "version": ""
    }
  },
  "nbformat": 4,
  "nbformat_minor": 0
}
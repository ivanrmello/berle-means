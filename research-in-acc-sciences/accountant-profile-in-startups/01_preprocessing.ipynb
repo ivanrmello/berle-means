{
 "cells": [
  {
   "cell_type": "code",
   "execution_count": 65,
   "metadata": {},
   "outputs": [],
   "source": [
    "#Importing packages\r\n",
    "import pandas as pd\r\n",
    "import seaborn as sns\r\n",
    "import time\r\n",
    "import re\r\n",
    "import numpy as np\r\n",
    "from langdetect import detect\r\n",
    "from googletrans import Translator, constants"
   ]
  },
  {
   "cell_type": "code",
   "execution_count": 5,
   "metadata": {},
   "outputs": [],
   "source": [
    "dframe_general_info = pd.read_excel('29_companies_essential_data.xlsx',sheet_name='29_companies_essential_data')\r\n",
    "dframe_jobs = pd.read_excel('29_companies_essential_data.xlsx',sheet_name='jobs')\r\n",
    "dframe_jobs_final = dframe_jobs.iloc[:,:15]"
   ]
  },
  {
   "cell_type": "code",
   "execution_count": 6,
   "metadata": {},
   "outputs": [
    {
     "name": "stdout",
     "output_type": "stream",
     "text": [
      "<class 'pandas.core.frame.DataFrame'>\n",
      "RangeIndex: 112 entries, 0 to 111\n",
      "Data columns (total 15 columns):\n",
      " #   Column                     Non-Null Count  Dtype         \n",
      "---  ------                     --------------  -----         \n",
      " 0   company_name               112 non-null    object        \n",
      " 1   job_area                   107 non-null    object        \n",
      " 2   job_link                   109 non-null    object        \n",
      " 3   job_extraction_timestamp   112 non-null    datetime64[ns]\n",
      " 4   job_about_company          100 non-null    object        \n",
      " 5   job_title                  106 non-null    object        \n",
      " 6   job_location               106 non-null    object        \n",
      " 7   job_description            84 non-null     object        \n",
      " 8   job_main_responsabilities  105 non-null    object        \n",
      " 9   job_other_details          101 non-null    object        \n",
      " 10  is_PCD_mentioned           79 non-null     object        \n",
      " 11  PCD_text                   52 non-null     object        \n",
      " 12  is_diversity_mentioned     87 non-null     object        \n",
      " 13  Diversity_text             67 non-null     object        \n",
      " 14  Comments                   6 non-null      object        \n",
      "dtypes: datetime64[ns](1), object(14)\n",
      "memory usage: 13.2+ KB\n"
     ]
    }
   ],
   "source": [
    "dframe_jobs_final.info()"
   ]
  },
  {
   "cell_type": "markdown",
   "metadata": {},
   "source": [
    "Firstly we will use 'langdetect' library to determine the language for columns job_description, job_main_responsabilities, and job_other_details."
   ]
  },
  {
   "cell_type": "code",
   "execution_count": 7,
   "metadata": {},
   "outputs": [
    {
     "name": "stdout",
     "output_type": "stream",
     "text": [
      "This job description below: \n",
      " We are looking for a seasoned FP&A Manager that will have the critical mission of supporting our Food delivery exponential growth by driving the budget, forecast, actual, analyzes, insights. This is a unique opportunity to generate impact within an fast-growing business. You will be a trusted business partner and own the managing margins, finance metrics and EBT.\n",
      "\n",
      "\n",
      "Is recognized by langdetect as being in: \n",
      " en\n"
     ]
    }
   ],
   "source": [
    "#This is just a test on how 'detect' from library langdetect works\r\n",
    "print(\"This job description below: \\n {text}\".format(text=str(dframe_jobs_final.iloc[0].to_dict()['job_description'])))\r\n",
    "print(\"\\n\")\r\n",
    "print(\"Is recognized by langdetect as being in: \\n {lang}\".format(lang=str(detect(dframe_jobs_final.iloc[0].to_dict()['job_description']))))"
   ]
  },
  {
   "cell_type": "code",
   "execution_count": 8,
   "metadata": {},
   "outputs": [],
   "source": [
    "#Creating a function that receives a list of texts and returns another list evalutating in what language texts were written\r\n",
    "def detect_lang(list_of_terms):\r\n",
    "    list_lang = []\r\n",
    "    for x in list_of_terms:\r\n",
    "        try:\r\n",
    "            list_lang.append(detect(x))\r\n",
    "        except:\r\n",
    "            list_lang.append('No_text')\r\n",
    "    return list_lang"
   ]
  },
  {
   "cell_type": "code",
   "execution_count": 9,
   "metadata": {},
   "outputs": [],
   "source": [
    "#Creating columns with lang detection inside the original dframe\r\n",
    "dframe_jobs_final['job_description_lang'] = detect_lang(dframe_jobs_final['job_description'].to_list())\r\n",
    "dframe_jobs_final['job_main_responsabilities_lang'] = detect_lang(dframe_jobs_final['job_main_responsabilities'].to_list())\r\n",
    "dframe_jobs_final['job_other_details_lang'] = detect_lang(dframe_jobs_final['job_other_details'].to_list())"
   ]
  },
  {
   "cell_type": "code",
   "execution_count": 10,
   "metadata": {},
   "outputs": [
    {
     "data": {
      "text/html": [
       "<div>\n",
       "<style scoped>\n",
       "    .dataframe tbody tr th:only-of-type {\n",
       "        vertical-align: middle;\n",
       "    }\n",
       "\n",
       "    .dataframe tbody tr th {\n",
       "        vertical-align: top;\n",
       "    }\n",
       "\n",
       "    .dataframe thead th {\n",
       "        text-align: right;\n",
       "    }\n",
       "</style>\n",
       "<table border=\"1\" class=\"dataframe\">\n",
       "  <thead>\n",
       "    <tr style=\"text-align: right;\">\n",
       "      <th></th>\n",
       "      <th>job_description_lang</th>\n",
       "      <th>job_main_responsabilities_lang</th>\n",
       "      <th>job_other_details_lang</th>\n",
       "      <th>job_extraction_timestamp</th>\n",
       "    </tr>\n",
       "  </thead>\n",
       "  <tbody>\n",
       "    <tr>\n",
       "      <th>0</th>\n",
       "      <td>No_text</td>\n",
       "      <td>No_text</td>\n",
       "      <td>No_text</td>\n",
       "      <td>6</td>\n",
       "    </tr>\n",
       "    <tr>\n",
       "      <th>1</th>\n",
       "      <td>No_text</td>\n",
       "      <td>en</td>\n",
       "      <td>en</td>\n",
       "      <td>8</td>\n",
       "    </tr>\n",
       "    <tr>\n",
       "      <th>2</th>\n",
       "      <td>No_text</td>\n",
       "      <td>pt</td>\n",
       "      <td>No_text</td>\n",
       "      <td>2</td>\n",
       "    </tr>\n",
       "    <tr>\n",
       "      <th>3</th>\n",
       "      <td>No_text</td>\n",
       "      <td>pt</td>\n",
       "      <td>pt</td>\n",
       "      <td>12</td>\n",
       "    </tr>\n",
       "    <tr>\n",
       "      <th>4</th>\n",
       "      <td>en</td>\n",
       "      <td>en</td>\n",
       "      <td>No_text</td>\n",
       "      <td>1</td>\n",
       "    </tr>\n",
       "    <tr>\n",
       "      <th>5</th>\n",
       "      <td>en</td>\n",
       "      <td>en</td>\n",
       "      <td>en</td>\n",
       "      <td>33</td>\n",
       "    </tr>\n",
       "    <tr>\n",
       "      <th>6</th>\n",
       "      <td>es</td>\n",
       "      <td>es</td>\n",
       "      <td>es</td>\n",
       "      <td>1</td>\n",
       "    </tr>\n",
       "    <tr>\n",
       "      <th>7</th>\n",
       "      <td>pt</td>\n",
       "      <td>No_text</td>\n",
       "      <td>pt</td>\n",
       "      <td>1</td>\n",
       "    </tr>\n",
       "    <tr>\n",
       "      <th>8</th>\n",
       "      <td>pt</td>\n",
       "      <td>pt</td>\n",
       "      <td>No_text</td>\n",
       "      <td>2</td>\n",
       "    </tr>\n",
       "    <tr>\n",
       "      <th>9</th>\n",
       "      <td>pt</td>\n",
       "      <td>pt</td>\n",
       "      <td>pt</td>\n",
       "      <td>46</td>\n",
       "    </tr>\n",
       "  </tbody>\n",
       "</table>\n",
       "</div>"
      ],
      "text/plain": [
       "  job_description_lang job_main_responsabilities_lang job_other_details_lang  \\\n",
       "0              No_text                        No_text                No_text   \n",
       "1              No_text                             en                     en   \n",
       "2              No_text                             pt                No_text   \n",
       "3              No_text                             pt                     pt   \n",
       "4                   en                             en                No_text   \n",
       "5                   en                             en                     en   \n",
       "6                   es                             es                     es   \n",
       "7                   pt                        No_text                     pt   \n",
       "8                   pt                             pt                No_text   \n",
       "9                   pt                             pt                     pt   \n",
       "\n",
       "   job_extraction_timestamp  \n",
       "0                         6  \n",
       "1                         8  \n",
       "2                         2  \n",
       "3                        12  \n",
       "4                         1  \n",
       "5                        33  \n",
       "6                         1  \n",
       "7                         1  \n",
       "8                         2  \n",
       "9                        46  "
      ]
     },
     "execution_count": 10,
     "metadata": {},
     "output_type": "execute_result"
    }
   ],
   "source": [
    "#Now let's check if we have anomalies in terms of different languages between columns\r\n",
    "dframe_jobs_final.groupby(['job_description_lang','job_main_responsabilities_lang','job_other_details_lang'], as_index=False)['job_extraction_timestamp'].count()"
   ]
  },
  {
   "cell_type": "markdown",
   "metadata": {},
   "source": [
    "We have 6 rows without info; all the other rows are filled with one column at least, and the language makes sense."
   ]
  },
  {
   "cell_type": "code",
   "execution_count": 11,
   "metadata": {},
   "outputs": [],
   "source": [
    "#In order to evaluate accountant profile we will use the rows where job_main_responsabilities AND job_other_details are filled simultaneously\r\n",
    "idx = np.where((dframe_jobs_final['job_main_responsabilities'].notnull()) & (dframe_jobs_final['job_other_details'].notnull()))\r\n",
    "dframe_jobs_final = dframe_jobs_final.iloc[idx]"
   ]
  },
  {
   "cell_type": "code",
   "execution_count": 12,
   "metadata": {},
   "outputs": [
    {
     "data": {
      "text/html": [
       "<div>\n",
       "<style scoped>\n",
       "    .dataframe tbody tr th:only-of-type {\n",
       "        vertical-align: middle;\n",
       "    }\n",
       "\n",
       "    .dataframe tbody tr th {\n",
       "        vertical-align: top;\n",
       "    }\n",
       "\n",
       "    .dataframe thead th {\n",
       "        text-align: right;\n",
       "    }\n",
       "</style>\n",
       "<table border=\"1\" class=\"dataframe\">\n",
       "  <thead>\n",
       "    <tr style=\"text-align: right;\">\n",
       "      <th></th>\n",
       "      <th>job_description_lang</th>\n",
       "      <th>job_main_responsabilities_lang</th>\n",
       "      <th>job_extraction_timestamp</th>\n",
       "    </tr>\n",
       "  </thead>\n",
       "  <tbody>\n",
       "    <tr>\n",
       "      <th>0</th>\n",
       "      <td>No_text</td>\n",
       "      <td>en</td>\n",
       "      <td>8</td>\n",
       "    </tr>\n",
       "    <tr>\n",
       "      <th>1</th>\n",
       "      <td>No_text</td>\n",
       "      <td>pt</td>\n",
       "      <td>12</td>\n",
       "    </tr>\n",
       "    <tr>\n",
       "      <th>2</th>\n",
       "      <td>en</td>\n",
       "      <td>en</td>\n",
       "      <td>33</td>\n",
       "    </tr>\n",
       "    <tr>\n",
       "      <th>3</th>\n",
       "      <td>es</td>\n",
       "      <td>es</td>\n",
       "      <td>1</td>\n",
       "    </tr>\n",
       "    <tr>\n",
       "      <th>4</th>\n",
       "      <td>pt</td>\n",
       "      <td>pt</td>\n",
       "      <td>46</td>\n",
       "    </tr>\n",
       "  </tbody>\n",
       "</table>\n",
       "</div>"
      ],
      "text/plain": [
       "  job_description_lang job_main_responsabilities_lang  \\\n",
       "0              No_text                             en   \n",
       "1              No_text                             pt   \n",
       "2                   en                             en   \n",
       "3                   es                             es   \n",
       "4                   pt                             pt   \n",
       "\n",
       "   job_extraction_timestamp  \n",
       "0                         8  \n",
       "1                        12  \n",
       "2                        33  \n",
       "3                         1  \n",
       "4                        46  "
      ]
     },
     "execution_count": 12,
     "metadata": {},
     "output_type": "execute_result"
    }
   ],
   "source": [
    "dframe_jobs_final.groupby(['job_description_lang','job_main_responsabilities_lang'], as_index=False)['job_extraction_timestamp'].count()"
   ]
  },
  {
   "cell_type": "markdown",
   "metadata": {},
   "source": [
    "As we can see: <br> # there are plenty job_descriptions and main_responsabilities in english and 1 is in spanish, we need all of them to be in portuguese"
   ]
  },
  {
   "cell_type": "code",
   "execution_count": 29,
   "metadata": {},
   "outputs": [],
   "source": [
    "def unescape(s):\r\n",
    "    s = s.replace(\"&lt;\", \"<\")\r\n",
    "    s = s.replace(\"&gt;\", \">\")\r\n",
    "    # this has to be last:\r\n",
    "    s = s.replace(\"&amp;\", \"&\")\r\n",
    "    return s"
   ]
  },
  {
   "cell_type": "code",
   "execution_count": 13,
   "metadata": {},
   "outputs": [],
   "source": [
    "import os\r\n",
    "os.environ[\"GOOGLE_APPLICATION_CREDENTIALS\"]=\"apikey.json\""
   ]
  },
  {
   "cell_type": "code",
   "execution_count": 30,
   "metadata": {},
   "outputs": [],
   "source": [
    "##It must be with pip install google-cloud-translate==2.0.1 !!!!!\r\n",
    "def translate_text(target, text):\r\n",
    "    \"\"\"Translates text into the target language.\r\n",
    "\r\n",
    "    Target must be an ISO 639-1 language code.\r\n",
    "    See https://g.co/cloud/translate/v2/translate-reference#supported_languages\r\n",
    "    \"\"\"\r\n",
    "    import six\r\n",
    "    from google.cloud import translate_v2 as translate\r\n",
    "\r\n",
    "    translate_client = translate.Client()\r\n",
    "\r\n",
    "    #if isinstance(text, six.binary_type):\r\n",
    "     #   text = text.decode(\"Windows-1252\")\r\n",
    "\r\n",
    "    # Text can also be a sequence of strings, in which case this method\r\n",
    "    # will return a sequence of results for each text.\r\n",
    "    result = translate_client.translate(text, target_language=target)\r\n",
    "\r\n",
    "    \r\n",
    "    return unescape(result[\"translatedText\"])"
   ]
  },
  {
   "cell_type": "code",
   "execution_count": 31,
   "metadata": {},
   "outputs": [
    {
     "data": {
      "text/plain": [
       "'-Detailed analysis of P&L variances versus forecast, budget and actual. Understand and explain variances to the Regional leadership, strong stakeholder management.\\n-Full P&L Forecast in a monthly basis to the HQ\\n-Prepare monthly forecast adjustments to both P&L and Balance Sheet; import, analyze, prepare and export data and reports \\n- Responsible for the accuracy, consolidation, conciliation and load of data into BI as needed for Brazil\\n-Prepare, consolidate and analyze the Annual Budget\\n-Analysis of main deviations and financial impacts, understanding of root causes and develop action plans\\n- Prepare and own executive presentations to HQ '"
      ]
     },
     "execution_count": 31,
     "metadata": {},
     "output_type": "execute_result"
    }
   ],
   "source": [
    "#Testing something in english\r\n",
    "dframe_jobs_final.iloc[0]['job_main_responsabilities']"
   ]
  },
  {
   "cell_type": "code",
   "execution_count": 32,
   "metadata": {},
   "outputs": [
    {
     "data": {
      "text/plain": [
       "'-Análise detalhada das variações de P&L versus previsão, orçamento e real. Compreenda e explique as variações para a liderança regional, forte gerenciamento de partes interessadas. -Previsão completa de P&L mensalmente para o HQ -Preparar ajustes de previsão mensal para P&L e Balanço Patrimonial; importar, analisar, preparar e exportar dados e relatórios - Responsável pela precisão, consolidação, conciliação e carregamento de dados em BI conforme necessário para o Brasil -Preparar, consolidar e analisar o Orçamento Anual -Análise dos principais desvios e impactos financeiros, entendimento da raiz causas e desenvolver planos de ação - Preparar e apresentar apresentações executivas para HQ'"
      ]
     },
     "execution_count": 32,
     "metadata": {},
     "output_type": "execute_result"
    }
   ],
   "source": [
    "#How it translates to pt: WORKS GREAT!\r\n",
    "translate_text(target='pt-br',text=str(dframe_jobs_final.iloc[0]['job_main_responsabilities']))"
   ]
  },
  {
   "cell_type": "code",
   "execution_count": 40,
   "metadata": {},
   "outputs": [],
   "source": [
    "#Now let's create another function that receives a list and translate it's items to portuguese when needed\r\n",
    "def translate_list(text_list):\r\n",
    "    translated_result=[]\r\n",
    "    for item in text_list:\r\n",
    "        if str(detect(item))=='pt':\r\n",
    "            translated_result.append(item)\r\n",
    "        else:\r\n",
    "            translated_result.append(translate_text(target='pt-br',text=str(item)))\r\n",
    "    return translated_result"
   ]
  },
  {
   "cell_type": "code",
   "execution_count": 46,
   "metadata": {},
   "outputs": [],
   "source": [
    "#Translating job_main_responsabilities\r\n",
    "job_main_responsabilities_pt_list = translate_list(dframe_jobs_final['job_main_responsabilities'].to_list())"
   ]
  },
  {
   "cell_type": "code",
   "execution_count": 47,
   "metadata": {},
   "outputs": [],
   "source": [
    "#Translating job_other_details\r\n",
    "job_other_details_pt_list = translate_list(dframe_jobs_final['job_other_details'].to_list())"
   ]
  },
  {
   "cell_type": "code",
   "execution_count": 48,
   "metadata": {},
   "outputs": [],
   "source": [
    "#Adding translated columns into dframe\r\n",
    "dframe_jobs_final['job_main_responsabilities_pt'] = job_main_responsabilities_pt_list\r\n",
    "dframe_jobs_final['job_other_details_pt'] = job_other_details_pt_list"
   ]
  },
  {
   "cell_type": "code",
   "execution_count": 53,
   "metadata": {},
   "outputs": [
    {
     "data": {
      "text/plain": [
       "{'company_name': 99,\n",
       " 'job_area': 'Finance',\n",
       " 'job_link': 'https://carreiras.99app.com/jobdetail/?vagaid=d0e94c27-ee68-4205-b68c-44d1720244a8',\n",
       " 'job_extraction_timestamp': Timestamp('2021-06-27 11:38:13.363000'),\n",
       " 'job_about_company': \"99 is a Brazilian technology company founded in 2012 and today is part of the global company DiDi Chuxing, the largest app platform for convenience and transport in the world. Here, our mission is to build the best journey for users, transforming people's lives by offering more accessible, safe and convenient services for passengers and customers, and the most profitable and easy going day-to-day life for drivers, restaurants and delivery partners, through technology. To make all of this happen, we have a team of super talented professionals who interact in an environment full of creativity, energy and respect for diversity. The Orangers (our way of calling the employees) are the ones responsible for revolutionizing urban mobility (99), build quick options for all pockets and appetites (99Food), and offer a digital wallet, so you can pay from trips to bank slips (99Pay).\\n \\nDiversity goes beyond ethnic, physical, sexual, sensory and gender differences! Our goal is to cultivate an inclusive environment by focusing on high performance and valuing diversity in our work environment. We respect and value the differences! Come and be part of a diverse environment where your ideas and opinions will always be heard. Inclusion and diversity are in our recruitment principles.\\n \\nThis position is open to application for people with disabilities (PCD)\",\n",
       " 'job_title': 'Finance and Planning Manager',\n",
       " 'job_location': 'Brazil',\n",
       " 'job_description': 'We are looking for a seasoned FP&A Manager that will have the critical mission of supporting our Food delivery exponential growth by driving the budget, forecast, actual, analyzes, insights. This is a unique opportunity to generate impact within an fast-growing business. You will be a trusted business partner and own the managing margins, finance metrics and EBT.',\n",
       " 'job_main_responsabilities': '-Detailed analysis of P&L variances versus forecast, budget and actual. Understand and explain variances to the Regional leadership, strong stakeholder management.\\n-Full P&L Forecast in a monthly basis to the HQ\\n-Prepare monthly forecast adjustments to both P&L and Balance Sheet; import, analyze, prepare and export data and reports \\n- Responsible for the accuracy, consolidation, conciliation and load of data into BI as needed for Brazil\\n-Prepare, consolidate and analyze the Annual Budget\\n-Analysis of main deviations and financial impacts, understanding of root causes and develop action plans\\n- Prepare and own executive presentations to HQ ',\n",
       " 'job_other_details': '- Strong expertise managing budget, forecast, finance Analyzes and dashboards, finance reports.\\n- Data driven\\n- Hands one\\n- Ownership\\n- Results orientation\\n- Fluent in English\\n- Excel advanced',\n",
       " 'is_PCD_mentioned': nan,\n",
       " 'PCD_text': nan,\n",
       " 'is_diversity_mentioned': nan,\n",
       " 'Diversity_text': nan,\n",
       " 'Comments': nan,\n",
       " 'job_description_lang': 'en',\n",
       " 'job_main_responsabilities_lang': 'en',\n",
       " 'job_other_details_lang': 'en',\n",
       " 'job_main_responsabilities_pt': '-Análise detalhada das variações de P&L versus previsão, orçamento e real. Compreenda e explique as variações para a liderança regional, forte gerenciamento de partes interessadas. -Previsão completa de P&L mensalmente para o HQ -Preparar ajustes de previsão mensal para P&L e Balanço Patrimonial; importar, analisar, preparar e exportar dados e relatórios - Responsável pela precisão, consolidação, conciliação e carregamento de dados em BI conforme necessário para o Brasil -Preparar, consolidar e analisar o Orçamento Anual -Análise dos principais desvios e impactos financeiros, entendimento da raiz causas e desenvolver planos de ação - Preparar e apresentar apresentações executivas para HQ',\n",
       " 'job_other_details_pt': '- Forte experiência em gerenciamento de orçamento, previsão, análises financeiras e painéis, relatórios financeiros. - Orientado por dados - Mãos um - Propriedade - Orientação para resultados - Fluente em Inglês - Excel avançado'}"
      ]
     },
     "execution_count": 53,
     "metadata": {},
     "output_type": "execute_result"
    }
   ],
   "source": [
    "#This is how our dataframe looks so far\r\n",
    "dframe_jobs_final.iloc[0].to_dict()"
   ]
  },
  {
   "cell_type": "markdown",
   "metadata": {},
   "source": [
    "Secondly, let's create a list with all char used in main_responsabilities (PT), and job_other_details (PT) to understand which char we would like to remove."
   ]
  },
  {
   "cell_type": "code",
   "execution_count": 55,
   "metadata": {},
   "outputs": [
    {
     "data": {
      "text/plain": [
       "134594"
      ]
     },
     "execution_count": 55,
     "metadata": {},
     "output_type": "execute_result"
    }
   ],
   "source": [
    "#let's concatenate the text from all the rows together inserting a pipe | between lines\r\n",
    "big_text =  str(dframe_jobs_final['job_main_responsabilities_pt'].str.cat(sep='|')) + \\\r\n",
    "            str(dframe_jobs_final['job_other_details_pt'].str.cat(sep='|'))\r\n",
    "len(big_text)"
   ]
  },
  {
   "cell_type": "code",
   "execution_count": 56,
   "metadata": {},
   "outputs": [],
   "source": [
    "#Now let's create two different lists: one is for char + numbers from words only and the other for char from non_words only [punctuations, etc...]\r\n",
    "char_from_words = []\r\n",
    "char_from_non_words = []\r\n",
    "for char in big_text:\r\n",
    "    if ((char.isalpha()==True) or (char.isnumeric()==True)):\r\n",
    "        char_from_words.append(char)\r\n",
    "    else:\r\n",
    "        char_from_non_words.append(char)"
   ]
  },
  {
   "cell_type": "code",
   "execution_count": 57,
   "metadata": {},
   "outputs": [
    {
     "name": "stdout",
     "output_type": "stream",
     "text": [
      "The total of char from words is: 112048\n",
      "The total of char from non_words is: 22546\n"
     ]
    }
   ],
   "source": [
    "print(\"The total of char from words is: {words}\".format(words=str(len(char_from_words))))\r\n",
    "print(\"The total of char from non_words is: {non_words}\".format(non_words=str(len(char_from_non_words))))"
   ]
  },
  {
   "cell_type": "code",
   "execution_count": 58,
   "metadata": {},
   "outputs": [],
   "source": [
    "#Now let's remove duplicate char inside our lists of words and non_words and the sort them a-z\r\n",
    "char_from_words_unique = list(dict.fromkeys(char_from_words))\r\n",
    "char_from_non_words_unique = list(dict.fromkeys(char_from_non_words))\r\n",
    "char_from_words_unique.sort()\r\n",
    "char_from_non_words_unique.sort()"
   ]
  },
  {
   "cell_type": "code",
   "execution_count": 59,
   "metadata": {},
   "outputs": [
    {
     "name": "stdout",
     "output_type": "stream",
     "text": [
      "The total of unique char from words is: 77\n",
      "The total of unique char from non_words is: 21\n"
     ]
    }
   ],
   "source": [
    "print(\"The total of unique char from words is: {words}\".format(words=str(len(char_from_words_unique))))\r\n",
    "print(\"The total of unique char from non_words is: {non_words}\".format(non_words=str(len(char_from_non_words_unique))))"
   ]
  },
  {
   "cell_type": "markdown",
   "metadata": {},
   "source": [
    "As we can see now, many of the chars aren't unique AT ALL!"
   ]
  },
  {
   "cell_type": "code",
   "execution_count": 60,
   "metadata": {},
   "outputs": [
    {
     "name": "stdout",
     "output_type": "stream",
     "text": [
      "['0', '1', '2', '3', '4', '5', '6', '7', '8', '9', 'A', 'B', 'C', 'D', 'E', 'F', 'G', 'H', 'I', 'J', 'K', 'L', 'M', 'N', 'O', 'P', 'Q', 'R', 'S', 'T', 'U', 'V', 'W', 'X', 'Y', 'a', 'b', 'c', 'd', 'e', 'f', 'g', 'h', 'i', 'j', 'k', 'l', 'm', 'n', 'o', 'p', 'q', 'r', 's', 't', 'u', 'v', 'w', 'x', 'y', 'z', 'º', 'Á', 'É', 'Ó', 'à', 'á', 'â', 'ã', 'ç', 'é', 'ê', 'í', 'ó', 'ô', 'õ', 'ú']\n"
     ]
    }
   ],
   "source": [
    "#Let's check unique char from words\r\n",
    "print(char_from_words_unique)"
   ]
  },
  {
   "cell_type": "code",
   "execution_count": 61,
   "metadata": {},
   "outputs": [
    {
     "name": "stdout",
     "output_type": "stream",
     "text": [
      "['\\n', ' ', '!', '\"', '#', '&', '(', ')', '+', ',', '-', '.', '/', ':', ';', '|', '~', '·', '’', '•', '●']\n"
     ]
    }
   ],
   "source": [
    "#Let's check unique char from non_words\r\n",
    "print(char_from_non_words_unique)"
   ]
  },
  {
   "cell_type": "code",
   "execution_count": 62,
   "metadata": {},
   "outputs": [],
   "source": [
    "#Removing & from list as it is necessary to form P&L which is 'DRE' in portuguese\r\n",
    "char_from_non_words_unique.remove('&')"
   ]
  },
  {
   "cell_type": "code",
   "execution_count": 63,
   "metadata": {},
   "outputs": [
    {
     "name": "stdout",
     "output_type": "stream",
     "text": [
      "['\\n', ' ', '!', '\"', '#', '(', ')', '+', ',', '-', '.', '/', ':', ';', '|', '~', '·', '’', '•', '●']\n"
     ]
    }
   ],
   "source": [
    "#Checking that & is out of the list\r\n",
    "print(char_from_non_words_unique)"
   ]
  },
  {
   "cell_type": "markdown",
   "metadata": {},
   "source": [
    "Now let's import glossary_tech data in order to understand which positions require specific IT knowledges"
   ]
  },
  {
   "cell_type": "code",
   "execution_count": 247,
   "metadata": {},
   "outputs": [],
   "source": [
    "dframe_glossary_tech = pd.read_excel('glossary_tech.xlsx',sheet_name='data')"
   ]
  },
  {
   "cell_type": "code",
   "execution_count": 248,
   "metadata": {},
   "outputs": [
    {
     "data": {
      "text/html": [
       "<div>\n",
       "<style scoped>\n",
       "    .dataframe tbody tr th:only-of-type {\n",
       "        vertical-align: middle;\n",
       "    }\n",
       "\n",
       "    .dataframe tbody tr th {\n",
       "        vertical-align: top;\n",
       "    }\n",
       "\n",
       "    .dataframe thead th {\n",
       "        text-align: right;\n",
       "    }\n",
       "</style>\n",
       "<table border=\"1\" class=\"dataframe\">\n",
       "  <thead>\n",
       "    <tr style=\"text-align: right;\">\n",
       "      <th></th>\n",
       "      <th>category_en</th>\n",
       "      <th>skill_en</th>\n",
       "      <th>description_en</th>\n",
       "    </tr>\n",
       "  </thead>\n",
       "  <tbody>\n",
       "    <tr>\n",
       "      <th>0</th>\n",
       "      <td>Back-end Technologies Python</td>\n",
       "      <td>asyncio</td>\n",
       "      <td>A library to write concurrent code using the a...</td>\n",
       "    </tr>\n",
       "    <tr>\n",
       "      <th>1</th>\n",
       "      <td>Back-end Technologies Python</td>\n",
       "      <td>BeeWare</td>\n",
       "      <td>Collection of projects that can be used to hel...</td>\n",
       "    </tr>\n",
       "    <tr>\n",
       "      <th>2</th>\n",
       "      <td>Back-end Technologies Python</td>\n",
       "      <td>Bokeh</td>\n",
       "      <td>An interactive visualization library for Pytho...</td>\n",
       "    </tr>\n",
       "    <tr>\n",
       "      <th>3</th>\n",
       "      <td>Back-end Technologies Python</td>\n",
       "      <td>Bottle</td>\n",
       "      <td>Fast, simple and lightweight WSGI micro web-fr...</td>\n",
       "    </tr>\n",
       "    <tr>\n",
       "      <th>4</th>\n",
       "      <td>Back-end Technologies Python</td>\n",
       "      <td>Buildbot</td>\n",
       "      <td>Python-based software development continuous i...</td>\n",
       "    </tr>\n",
       "  </tbody>\n",
       "</table>\n",
       "</div>"
      ],
      "text/plain": [
       "                    category_en  skill_en  \\\n",
       "0  Back-end Technologies Python   asyncio   \n",
       "1  Back-end Technologies Python   BeeWare   \n",
       "2  Back-end Technologies Python     Bokeh   \n",
       "3  Back-end Technologies Python    Bottle   \n",
       "4  Back-end Technologies Python  Buildbot   \n",
       "\n",
       "                                      description_en  \n",
       "0  A library to write concurrent code using the a...  \n",
       "1  Collection of projects that can be used to hel...  \n",
       "2  An interactive visualization library for Pytho...  \n",
       "3  Fast, simple and lightweight WSGI micro web-fr...  \n",
       "4  Python-based software development continuous i...  "
      ]
     },
     "execution_count": 248,
     "metadata": {},
     "output_type": "execute_result"
    }
   ],
   "source": [
    "dframe_glossary_tech.head()"
   ]
  },
  {
   "cell_type": "code",
   "execution_count": 249,
   "metadata": {},
   "outputs": [],
   "source": [
    "# Remove punctuation\r\n",
    "dframe_glossary_tech['skill_en_processed'] = dframe_glossary_tech['skill_en'].map(lambda x: re.sub('[-,\\.!?]', '', x))\r\n",
    "\r\n",
    "# Convert all to lowercase\r\n",
    "dframe_glossary_tech['skill_en_processed'] = dframe_glossary_tech['skill_en_processed'].map(lambda x: x.lower())\r\n",
    "\r\n",
    "# Removing all spaces in a separate column for tests\r\n",
    "dframe_glossary_tech['skill_en_processed_no_spaces'] = dframe_glossary_tech['skill_en_processed'].map(lambda x: x.replace(' ',''))\r\n"
   ]
  },
  {
   "cell_type": "code",
   "execution_count": 250,
   "metadata": {},
   "outputs": [],
   "source": [
    "skill_en_string = '|'.join(dframe_glossary_tech['skill_en'])"
   ]
  },
  {
   "cell_type": "code",
   "execution_count": 251,
   "metadata": {},
   "outputs": [],
   "source": [
    "skill_pt_string = translate_text(target='pt-br',text=skill_en_string)"
   ]
  },
  {
   "cell_type": "code",
   "execution_count": 252,
   "metadata": {},
   "outputs": [],
   "source": [
    "skill_pt_list = skill_pt_string.split('|')"
   ]
  },
  {
   "cell_type": "code",
   "execution_count": 253,
   "metadata": {},
   "outputs": [],
   "source": [
    "dframe_glossary_tech['skill_pt'] = skill_pt_list"
   ]
  },
  {
   "cell_type": "code",
   "execution_count": 254,
   "metadata": {},
   "outputs": [],
   "source": [
    "# Remove punctuation\r\n",
    "dframe_glossary_tech['skill_pt_processed'] = dframe_glossary_tech['skill_pt'].map(lambda x: re.sub('[-,\\.!?]', '', x))\r\n",
    "\r\n",
    "# Convert all to lowercase\r\n",
    "dframe_glossary_tech['skill_pt_processed'] = dframe_glossary_tech['skill_pt_processed'].map(lambda x: x.lower())\r\n",
    "\r\n",
    "# Removing all spaces in a separate column for tests\r\n",
    "dframe_glossary_tech['skill_pt_processed_no_spaces'] = dframe_glossary_tech['skill_pt_processed'].map(lambda x: x.replace(' ',''))"
   ]
  },
  {
   "cell_type": "code",
   "execution_count": 256,
   "metadata": {},
   "outputs": [],
   "source": [
    "#exporting dframe_glossary_tech in order to analyze if all transaltions were performed\r\n",
    "dframe_glossary_tech.to_csv('glossary_tech_processed.csv',index=False,sep='|', encoding='UTF-16')"
   ]
  },
  {
   "cell_type": "code",
   "execution_count": 257,
   "metadata": {},
   "outputs": [],
   "source": [
    "#importing dframe glossary_tech after translations manually review, eg: Analysis wasn't translated to Análise, on the other hand, snowflake was translated to 'Floco de Neve'\r\n",
    "dframe_glossary_tech_final = pd.read_excel('glossary_tech_manually_reviewed.xlsx')"
   ]
  },
  {
   "cell_type": "code",
   "execution_count": 258,
   "metadata": {},
   "outputs": [
    {
     "data": {
      "text/html": [
       "<div>\n",
       "<style scoped>\n",
       "    .dataframe tbody tr th:only-of-type {\n",
       "        vertical-align: middle;\n",
       "    }\n",
       "\n",
       "    .dataframe tbody tr th {\n",
       "        vertical-align: top;\n",
       "    }\n",
       "\n",
       "    .dataframe thead th {\n",
       "        text-align: right;\n",
       "    }\n",
       "</style>\n",
       "<table border=\"1\" class=\"dataframe\">\n",
       "  <thead>\n",
       "    <tr style=\"text-align: right;\">\n",
       "      <th></th>\n",
       "      <th>category_en</th>\n",
       "      <th>skill_en</th>\n",
       "      <th>description_en</th>\n",
       "      <th>skill_en_processed</th>\n",
       "      <th>skill_en_processed_no_spaces</th>\n",
       "      <th>skill_pt</th>\n",
       "      <th>skill_pt_processed</th>\n",
       "      <th>skill_pt_processed_no_spaces</th>\n",
       "      <th>comments</th>\n",
       "    </tr>\n",
       "  </thead>\n",
       "  <tbody>\n",
       "    <tr>\n",
       "      <th>0</th>\n",
       "      <td>Back-end Technologies Python</td>\n",
       "      <td>asyncio</td>\n",
       "      <td>A library to write concurrent code using the a...</td>\n",
       "      <td>asyncio</td>\n",
       "      <td>asyncio</td>\n",
       "      <td>asyncio</td>\n",
       "      <td>asyncio</td>\n",
       "      <td>asyncio</td>\n",
       "      <td>NaN</td>\n",
       "    </tr>\n",
       "    <tr>\n",
       "      <th>1</th>\n",
       "      <td>Back-end Technologies Python</td>\n",
       "      <td>BeeWare</td>\n",
       "      <td>Collection of projects that can be used to hel...</td>\n",
       "      <td>beeware</td>\n",
       "      <td>beeware</td>\n",
       "      <td>BeeWare</td>\n",
       "      <td>beeware</td>\n",
       "      <td>beeware</td>\n",
       "      <td>NaN</td>\n",
       "    </tr>\n",
       "    <tr>\n",
       "      <th>2</th>\n",
       "      <td>Back-end Technologies Python</td>\n",
       "      <td>Bokeh</td>\n",
       "      <td>An interactive visualization library for Pytho...</td>\n",
       "      <td>bokeh</td>\n",
       "      <td>bokeh</td>\n",
       "      <td>Bokeh</td>\n",
       "      <td>bokeh</td>\n",
       "      <td>bokeh</td>\n",
       "      <td>NaN</td>\n",
       "    </tr>\n",
       "    <tr>\n",
       "      <th>3</th>\n",
       "      <td>Back-end Technologies Python</td>\n",
       "      <td>Bottle</td>\n",
       "      <td>Fast, simple and lightweight WSGI micro web-fr...</td>\n",
       "      <td>bottle</td>\n",
       "      <td>bottle</td>\n",
       "      <td>Bottle</td>\n",
       "      <td>bottle</td>\n",
       "      <td>bottle</td>\n",
       "      <td>NaN</td>\n",
       "    </tr>\n",
       "    <tr>\n",
       "      <th>4</th>\n",
       "      <td>Back-end Technologies Python</td>\n",
       "      <td>Buildbot</td>\n",
       "      <td>Python-based software development continuous i...</td>\n",
       "      <td>buildbot</td>\n",
       "      <td>buildbot</td>\n",
       "      <td>Buildbot</td>\n",
       "      <td>buildbot</td>\n",
       "      <td>buildbot</td>\n",
       "      <td>NaN</td>\n",
       "    </tr>\n",
       "  </tbody>\n",
       "</table>\n",
       "</div>"
      ],
      "text/plain": [
       "                    category_en  skill_en  \\\n",
       "0  Back-end Technologies Python   asyncio   \n",
       "1  Back-end Technologies Python   BeeWare   \n",
       "2  Back-end Technologies Python     Bokeh   \n",
       "3  Back-end Technologies Python    Bottle   \n",
       "4  Back-end Technologies Python  Buildbot   \n",
       "\n",
       "                                      description_en skill_en_processed  \\\n",
       "0  A library to write concurrent code using the a...            asyncio   \n",
       "1  Collection of projects that can be used to hel...            beeware   \n",
       "2  An interactive visualization library for Pytho...              bokeh   \n",
       "3  Fast, simple and lightweight WSGI micro web-fr...             bottle   \n",
       "4  Python-based software development continuous i...           buildbot   \n",
       "\n",
       "  skill_en_processed_no_spaces    skill_pt skill_pt_processed  \\\n",
       "0                      asyncio    asyncio            asyncio    \n",
       "1                      beeware    BeeWare            beeware    \n",
       "2                        bokeh      Bokeh              bokeh    \n",
       "3                       bottle     Bottle             bottle    \n",
       "4                     buildbot   Buildbot           buildbot    \n",
       "\n",
       "  skill_pt_processed_no_spaces comments  \n",
       "0                      asyncio      NaN  \n",
       "1                      beeware      NaN  \n",
       "2                        bokeh      NaN  \n",
       "3                       bottle      NaN  \n",
       "4                     buildbot      NaN  "
      ]
     },
     "execution_count": 258,
     "metadata": {},
     "output_type": "execute_result"
    }
   ],
   "source": [
    "dframe_glossary_tech_final.head()"
   ]
  },
  {
   "cell_type": "markdown",
   "metadata": {},
   "source": [
    "Thirdly let's start processing our translated fields"
   ]
  },
  {
   "cell_type": "code",
   "execution_count": 72,
   "metadata": {},
   "outputs": [],
   "source": [
    "# Remove punctuation\r\n",
    "dframe_jobs_final['job_main_responsabilities_pt_processed'] = dframe_jobs_final['job_main_responsabilities_pt'].map(lambda x: re.sub('[-,\\.!?]', '', x))\r\n",
    "dframe_jobs_final['job_other_details_pt_processed'] = dframe_jobs_final['job_other_details_pt'].map(lambda x: re.sub('[-,\\.!?]', '', x))\r\n",
    "\r\n",
    "# Convert all to lowercase\r\n",
    "dframe_jobs_final['job_main_responsabilities_pt_processed'] = dframe_jobs_final['job_main_responsabilities_pt_processed'].map(lambda x: x.lower())\r\n",
    "dframe_jobs_final['job_other_details_pt_processed'] = dframe_jobs_final['job_other_details_pt_processed'].map(lambda x: x.lower())\r\n",
    "\r\n",
    "#Removing consecutive spaces from both ends\r\n",
    "dframe_jobs_final['job_main_responsabilities_pt_processed'] = dframe_jobs_final['job_main_responsabilities_pt_processed'].map(lambda x: x.strip())\r\n",
    "dframe_jobs_final['job_other_details_pt_processed'] = dframe_jobs_final['job_other_details_pt_processed'].map(lambda x: x.strip())"
   ]
  },
  {
   "cell_type": "code",
   "execution_count": 73,
   "metadata": {},
   "outputs": [
    {
     "data": {
      "text/plain": [
       "company_name                                                                             99\n",
       "job_area                                                                            Finance\n",
       "job_link                                  https://carreiras.99app.com/jobdetail/?vagaid=...\n",
       "job_extraction_timestamp                                         2021-06-27 11:38:13.363000\n",
       "job_about_company                         99 is a Brazilian technology company founded i...\n",
       "job_title                                                      Finance and Planning Manager\n",
       "job_location                                                                         Brazil\n",
       "job_description                           We are looking for a seasoned FP&A Manager tha...\n",
       "job_main_responsabilities                 -Detailed analysis of P&L variances versus for...\n",
       "job_other_details                         - Strong expertise managing budget, forecast, ...\n",
       "is_PCD_mentioned                                                                        NaN\n",
       "PCD_text                                                                                NaN\n",
       "is_diversity_mentioned                                                                  NaN\n",
       "Diversity_text                                                                          NaN\n",
       "Comments                                                                                NaN\n",
       "job_description_lang                                                                     en\n",
       "job_main_responsabilities_lang                                                           en\n",
       "job_other_details_lang                                                                   en\n",
       "job_main_responsabilities_pt              -Análise detalhada das variações de P&L versus...\n",
       "job_other_details_pt                      - Forte experiência em gerenciamento de orçame...\n",
       "job_main_responsabilities_pt_processed    análise detalhada das variações de p&l versus ...\n",
       "job_other_details_pt_processed            forte experiência em gerenciamento de orçament...\n",
       "Name: 0, dtype: object"
      ]
     },
     "execution_count": 73,
     "metadata": {},
     "output_type": "execute_result"
    }
   ],
   "source": [
    "dframe_jobs_final.iloc[0]"
   ]
  },
  {
   "cell_type": "markdown",
   "metadata": {},
   "source": [
    "Now let's start looking for 'job_area' in order to understand wheter we can combine areas or not"
   ]
  },
  {
   "cell_type": "code",
   "execution_count": 270,
   "metadata": {},
   "outputs": [
    {
     "data": {
      "text/html": [
       "<div>\n",
       "<style scoped>\n",
       "    .dataframe tbody tr th:only-of-type {\n",
       "        vertical-align: middle;\n",
       "    }\n",
       "\n",
       "    .dataframe tbody tr th {\n",
       "        vertical-align: top;\n",
       "    }\n",
       "\n",
       "    .dataframe thead th {\n",
       "        text-align: right;\n",
       "    }\n",
       "</style>\n",
       "<table border=\"1\" class=\"dataframe\">\n",
       "  <thead>\n",
       "    <tr style=\"text-align: right;\">\n",
       "      <th></th>\n",
       "      <th>job_area</th>\n",
       "      <th>job_extraction_timestamp</th>\n",
       "    </tr>\n",
       "  </thead>\n",
       "  <tbody>\n",
       "    <tr>\n",
       "      <th>0</th>\n",
       "      <td>Adm &amp; Finance</td>\n",
       "      <td>5</td>\n",
       "    </tr>\n",
       "    <tr>\n",
       "      <th>1</th>\n",
       "      <td>Audit</td>\n",
       "      <td>1</td>\n",
       "    </tr>\n",
       "    <tr>\n",
       "      <th>2</th>\n",
       "      <td>Auditoria e Compliance</td>\n",
       "      <td>2</td>\n",
       "    </tr>\n",
       "    <tr>\n",
       "      <th>3</th>\n",
       "      <td>Compliance</td>\n",
       "      <td>3</td>\n",
       "    </tr>\n",
       "    <tr>\n",
       "      <th>4</th>\n",
       "      <td>Contabilidade</td>\n",
       "      <td>6</td>\n",
       "    </tr>\n",
       "    <tr>\n",
       "      <th>5</th>\n",
       "      <td>Contabilidade/Controladoria</td>\n",
       "      <td>1</td>\n",
       "    </tr>\n",
       "    <tr>\n",
       "      <th>6</th>\n",
       "      <td>Contas a Receber</td>\n",
       "      <td>1</td>\n",
       "    </tr>\n",
       "    <tr>\n",
       "      <th>7</th>\n",
       "      <td>Controladoria</td>\n",
       "      <td>4</td>\n",
       "    </tr>\n",
       "    <tr>\n",
       "      <th>8</th>\n",
       "      <td>Credit &amp; Formalization</td>\n",
       "      <td>1</td>\n",
       "    </tr>\n",
       "    <tr>\n",
       "      <th>9</th>\n",
       "      <td>Crédito</td>\n",
       "      <td>1</td>\n",
       "    </tr>\n",
       "    <tr>\n",
       "      <th>10</th>\n",
       "      <td>FP&amp;A</td>\n",
       "      <td>2</td>\n",
       "    </tr>\n",
       "    <tr>\n",
       "      <th>11</th>\n",
       "      <td>Finance</td>\n",
       "      <td>34</td>\n",
       "    </tr>\n",
       "    <tr>\n",
       "      <th>12</th>\n",
       "      <td>Finance &amp; Legal</td>\n",
       "      <td>6</td>\n",
       "    </tr>\n",
       "    <tr>\n",
       "      <th>13</th>\n",
       "      <td>Finance Operations - EBANX Pay</td>\n",
       "      <td>2</td>\n",
       "    </tr>\n",
       "    <tr>\n",
       "      <th>14</th>\n",
       "      <td>Finance and Legal</td>\n",
       "      <td>3</td>\n",
       "    </tr>\n",
       "    <tr>\n",
       "      <th>15</th>\n",
       "      <td>Finance/Controllership</td>\n",
       "      <td>3</td>\n",
       "    </tr>\n",
       "    <tr>\n",
       "      <th>16</th>\n",
       "      <td>Financeiro</td>\n",
       "      <td>9</td>\n",
       "    </tr>\n",
       "    <tr>\n",
       "      <th>17</th>\n",
       "      <td>Financial Crime Investigation</td>\n",
       "      <td>1</td>\n",
       "    </tr>\n",
       "    <tr>\n",
       "      <th>18</th>\n",
       "      <td>Fiscal</td>\n",
       "      <td>5</td>\n",
       "    </tr>\n",
       "    <tr>\n",
       "      <th>19</th>\n",
       "      <td>Fraud Prevention - Cross border</td>\n",
       "      <td>3</td>\n",
       "    </tr>\n",
       "    <tr>\n",
       "      <th>20</th>\n",
       "      <td>Loftcred</td>\n",
       "      <td>1</td>\n",
       "    </tr>\n",
       "    <tr>\n",
       "      <th>21</th>\n",
       "      <td>Planejamento e Controladoria</td>\n",
       "      <td>2</td>\n",
       "    </tr>\n",
       "    <tr>\n",
       "      <th>22</th>\n",
       "      <td>Risk Management</td>\n",
       "      <td>1</td>\n",
       "    </tr>\n",
       "    <tr>\n",
       "      <th>23</th>\n",
       "      <td>Risk and Compliance</td>\n",
       "      <td>2</td>\n",
       "    </tr>\n",
       "    <tr>\n",
       "      <th>24</th>\n",
       "      <td>Tesouraria</td>\n",
       "      <td>1</td>\n",
       "    </tr>\n",
       "  </tbody>\n",
       "</table>\n",
       "</div>"
      ],
      "text/plain": [
       "                           job_area  job_extraction_timestamp\n",
       "0                     Adm & Finance                         5\n",
       "1                             Audit                         1\n",
       "2            Auditoria e Compliance                         2\n",
       "3                        Compliance                         3\n",
       "4                     Contabilidade                         6\n",
       "5       Contabilidade/Controladoria                         1\n",
       "6                  Contas a Receber                         1\n",
       "7                     Controladoria                         4\n",
       "8            Credit & Formalization                         1\n",
       "9                           Crédito                         1\n",
       "10                             FP&A                         2\n",
       "11                          Finance                        34\n",
       "12                  Finance & Legal                         6\n",
       "13   Finance Operations - EBANX Pay                         2\n",
       "14                Finance and Legal                         3\n",
       "15           Finance/Controllership                         3\n",
       "16                       Financeiro                         9\n",
       "17    Financial Crime Investigation                         1\n",
       "18                           Fiscal                         5\n",
       "19  Fraud Prevention - Cross border                         3\n",
       "20                         Loftcred                         1\n",
       "21     Planejamento e Controladoria                         2\n",
       "22                  Risk Management                         1\n",
       "23              Risk and Compliance                         2\n",
       "24                       Tesouraria                         1"
      ]
     },
     "execution_count": 270,
     "metadata": {},
     "output_type": "execute_result"
    }
   ],
   "source": [
    "dframe_jobs_final.groupby(['job_area'],as_index=False)['job_extraction_timestamp'].count().sort_values(by=['job_area'],ascending=True)\\\r\n",
    "    #.to_csv('job_area.csv')"
   ]
  },
  {
   "cell_type": "code",
   "execution_count": 276,
   "metadata": {},
   "outputs": [
    {
     "data": {
      "text/html": [
       "<div>\n",
       "<style scoped>\n",
       "    .dataframe tbody tr th:only-of-type {\n",
       "        vertical-align: middle;\n",
       "    }\n",
       "\n",
       "    .dataframe tbody tr th {\n",
       "        vertical-align: top;\n",
       "    }\n",
       "\n",
       "    .dataframe thead th {\n",
       "        text-align: right;\n",
       "    }\n",
       "</style>\n",
       "<table border=\"1\" class=\"dataframe\">\n",
       "  <thead>\n",
       "    <tr style=\"text-align: right;\">\n",
       "      <th></th>\n",
       "      <th>job_title</th>\n",
       "      <th>job_extraction_timestamp</th>\n",
       "    </tr>\n",
       "  </thead>\n",
       "  <tbody>\n",
       "    <tr>\n",
       "      <th>0</th>\n",
       "      <td>AML Specialist</td>\n",
       "      <td>1</td>\n",
       "    </tr>\n",
       "    <tr>\n",
       "      <th>1</th>\n",
       "      <td>Accounting Analyst Mexico</td>\n",
       "      <td>1</td>\n",
       "    </tr>\n",
       "    <tr>\n",
       "      <th>2</th>\n",
       "      <td>Analista Contábil Junior</td>\n",
       "      <td>1</td>\n",
       "    </tr>\n",
       "    <tr>\n",
       "      <th>3</th>\n",
       "      <td>Analista Contábil Pleno</td>\n",
       "      <td>1</td>\n",
       "    </tr>\n",
       "    <tr>\n",
       "      <th>4</th>\n",
       "      <td>Analista Contábil Sênior</td>\n",
       "      <td>2</td>\n",
       "    </tr>\n",
       "    <tr>\n",
       "      <th>...</th>\n",
       "      <td>...</td>\n",
       "      <td>...</td>\n",
       "    </tr>\n",
       "    <tr>\n",
       "      <th>91</th>\n",
       "      <td>Senior Liquidity and Funding Analyst</td>\n",
       "      <td>1</td>\n",
       "    </tr>\n",
       "    <tr>\n",
       "      <th>92</th>\n",
       "      <td>Senior M&amp;A Analyst</td>\n",
       "      <td>1</td>\n",
       "    </tr>\n",
       "    <tr>\n",
       "      <th>93</th>\n",
       "      <td>Senior Strategic Planning Analyst (focused on ...</td>\n",
       "      <td>1</td>\n",
       "    </tr>\n",
       "    <tr>\n",
       "      <th>94</th>\n",
       "      <td>Tax Manager</td>\n",
       "      <td>1</td>\n",
       "    </tr>\n",
       "    <tr>\n",
       "      <th>95</th>\n",
       "      <td>Treasury Manager</td>\n",
       "      <td>1</td>\n",
       "    </tr>\n",
       "  </tbody>\n",
       "</table>\n",
       "<p>96 rows × 2 columns</p>\n",
       "</div>"
      ],
      "text/plain": [
       "                                            job_title  \\\n",
       "0                                      AML Specialist   \n",
       "1                           Accounting Analyst Mexico   \n",
       "2                            Analista Contábil Junior   \n",
       "3                             Analista Contábil Pleno   \n",
       "4                            Analista Contábil Sênior   \n",
       "..                                                ...   \n",
       "91               Senior Liquidity and Funding Analyst   \n",
       "92                                 Senior M&A Analyst   \n",
       "93  Senior Strategic Planning Analyst (focused on ...   \n",
       "94                                        Tax Manager   \n",
       "95                                   Treasury Manager   \n",
       "\n",
       "    job_extraction_timestamp  \n",
       "0                          1  \n",
       "1                          1  \n",
       "2                          1  \n",
       "3                          1  \n",
       "4                          2  \n",
       "..                       ...  \n",
       "91                         1  \n",
       "92                         1  \n",
       "93                         1  \n",
       "94                         1  \n",
       "95                         1  \n",
       "\n",
       "[96 rows x 2 columns]"
      ]
     },
     "execution_count": 276,
     "metadata": {},
     "output_type": "execute_result"
    }
   ],
   "source": [
    "dframe_jobs_final.groupby(['job_title'],as_index=False)['job_extraction_timestamp'].count().sort_values(by=['job_title'],ascending=True)\\\r\n",
    "    #.to_csv('job_title.csv', encoding='UTF-16')"
   ]
  },
  {
   "cell_type": "code",
   "execution_count": 278,
   "metadata": {},
   "outputs": [
    {
     "data": {
      "text/html": [
       "<div>\n",
       "<style scoped>\n",
       "    .dataframe tbody tr th:only-of-type {\n",
       "        vertical-align: middle;\n",
       "    }\n",
       "\n",
       "    .dataframe tbody tr th {\n",
       "        vertical-align: top;\n",
       "    }\n",
       "\n",
       "    .dataframe thead th {\n",
       "        text-align: right;\n",
       "    }\n",
       "</style>\n",
       "<table border=\"1\" class=\"dataframe\">\n",
       "  <thead>\n",
       "    <tr style=\"text-align: right;\">\n",
       "      <th></th>\n",
       "      <th>job_location</th>\n",
       "      <th>job_extraction_timestamp</th>\n",
       "    </tr>\n",
       "  </thead>\n",
       "  <tbody>\n",
       "    <tr>\n",
       "      <th>2</th>\n",
       "      <td>Chile</td>\n",
       "      <td>1</td>\n",
       "    </tr>\n",
       "    <tr>\n",
       "      <th>6</th>\n",
       "      <td>Portugal</td>\n",
       "      <td>1</td>\n",
       "    </tr>\n",
       "    <tr>\n",
       "      <th>7</th>\n",
       "      <td>Russia</td>\n",
       "      <td>1</td>\n",
       "    </tr>\n",
       "    <tr>\n",
       "      <th>8</th>\n",
       "      <td>United States</td>\n",
       "      <td>1</td>\n",
       "    </tr>\n",
       "    <tr>\n",
       "      <th>4</th>\n",
       "      <td>Japan</td>\n",
       "      <td>2</td>\n",
       "    </tr>\n",
       "    <tr>\n",
       "      <th>3</th>\n",
       "      <td>Colombia</td>\n",
       "      <td>3</td>\n",
       "    </tr>\n",
       "    <tr>\n",
       "      <th>1</th>\n",
       "      <td>Brazil or Remote</td>\n",
       "      <td>4</td>\n",
       "    </tr>\n",
       "    <tr>\n",
       "      <th>5</th>\n",
       "      <td>Mexico</td>\n",
       "      <td>11</td>\n",
       "    </tr>\n",
       "    <tr>\n",
       "      <th>0</th>\n",
       "      <td>Brazil</td>\n",
       "      <td>76</td>\n",
       "    </tr>\n",
       "  </tbody>\n",
       "</table>\n",
       "</div>"
      ],
      "text/plain": [
       "       job_location  job_extraction_timestamp\n",
       "2             Chile                         1\n",
       "6          Portugal                         1\n",
       "7            Russia                         1\n",
       "8     United States                         1\n",
       "4             Japan                         2\n",
       "3          Colombia                         3\n",
       "1  Brazil or Remote                         4\n",
       "5            Mexico                        11\n",
       "0            Brazil                        76"
      ]
     },
     "execution_count": 278,
     "metadata": {},
     "output_type": "execute_result"
    }
   ],
   "source": [
    "dframe_jobs_final.groupby(['job_location'],as_index=False)['job_extraction_timestamp'].count().sort_values(by=['job_extraction_timestamp'],ascending=True)\\\r\n",
    "    #.to_csv('job_title.csv', encoding='UTF-16')"
   ]
  },
  {
   "cell_type": "code",
   "execution_count": 286,
   "metadata": {},
   "outputs": [],
   "source": [
    "#Importing dict dframes\r\n",
    "dframe_dict_jobarea = pd.read_excel('dict_job_area.xlsx')\r\n",
    "dframe_dict_jobtitle = pd.read_excel('dict_job_title.xlsx')\r\n",
    "dframe_dict_jobtitle = dframe_dict_jobtitle.drop(columns=['job_extraction_timestamp'])"
   ]
  },
  {
   "cell_type": "code",
   "execution_count": 287,
   "metadata": {},
   "outputs": [
    {
     "data": {
      "text/html": [
       "<div>\n",
       "<style scoped>\n",
       "    .dataframe tbody tr th:only-of-type {\n",
       "        vertical-align: middle;\n",
       "    }\n",
       "\n",
       "    .dataframe tbody tr th {\n",
       "        vertical-align: top;\n",
       "    }\n",
       "\n",
       "    .dataframe thead th {\n",
       "        text-align: right;\n",
       "    }\n",
       "</style>\n",
       "<table border=\"1\" class=\"dataframe\">\n",
       "  <thead>\n",
       "    <tr style=\"text-align: right;\">\n",
       "      <th></th>\n",
       "      <th>job_title</th>\n",
       "      <th>job_title_type</th>\n",
       "    </tr>\n",
       "  </thead>\n",
       "  <tbody>\n",
       "    <tr>\n",
       "      <th>0</th>\n",
       "      <td>AML Specialist</td>\n",
       "      <td>specialist</td>\n",
       "    </tr>\n",
       "    <tr>\n",
       "      <th>1</th>\n",
       "      <td>Accounting Analyst Mexico</td>\n",
       "      <td>operational_JR</td>\n",
       "    </tr>\n",
       "    <tr>\n",
       "      <th>2</th>\n",
       "      <td>Analista Contábil Junior</td>\n",
       "      <td>operational_JR</td>\n",
       "    </tr>\n",
       "    <tr>\n",
       "      <th>3</th>\n",
       "      <td>Analista Contábil Pleno</td>\n",
       "      <td>operational_PL</td>\n",
       "    </tr>\n",
       "    <tr>\n",
       "      <th>4</th>\n",
       "      <td>Analista Contábil Sênior</td>\n",
       "      <td>operational_SR</td>\n",
       "    </tr>\n",
       "  </tbody>\n",
       "</table>\n",
       "</div>"
      ],
      "text/plain": [
       "                   job_title  job_title_type\n",
       "0             AML Specialist      specialist\n",
       "1  Accounting Analyst Mexico  operational_JR\n",
       "2   Analista Contábil Junior  operational_JR\n",
       "3    Analista Contábil Pleno  operational_PL\n",
       "4   Analista Contábil Sênior  operational_SR"
      ]
     },
     "execution_count": 287,
     "metadata": {},
     "output_type": "execute_result"
    }
   ],
   "source": [
    "dframe_dict_jobtitle.head()"
   ]
  },
  {
   "cell_type": "code",
   "execution_count": 288,
   "metadata": {},
   "outputs": [
    {
     "data": {
      "text/html": [
       "<div>\n",
       "<style scoped>\n",
       "    .dataframe tbody tr th:only-of-type {\n",
       "        vertical-align: middle;\n",
       "    }\n",
       "\n",
       "    .dataframe tbody tr th {\n",
       "        vertical-align: top;\n",
       "    }\n",
       "\n",
       "    .dataframe thead th {\n",
       "        text-align: right;\n",
       "    }\n",
       "</style>\n",
       "<table border=\"1\" class=\"dataframe\">\n",
       "  <thead>\n",
       "    <tr style=\"text-align: right;\">\n",
       "      <th></th>\n",
       "      <th>Macro_job_area</th>\n",
       "      <th>Micro_job_area</th>\n",
       "    </tr>\n",
       "  </thead>\n",
       "  <tbody>\n",
       "    <tr>\n",
       "      <th>0</th>\n",
       "      <td>Finance &amp; Legal</td>\n",
       "      <td>Adm &amp; Finance</td>\n",
       "    </tr>\n",
       "    <tr>\n",
       "      <th>1</th>\n",
       "      <td>Finance &amp; Legal</td>\n",
       "      <td>Finance</td>\n",
       "    </tr>\n",
       "    <tr>\n",
       "      <th>2</th>\n",
       "      <td>Finance &amp; Legal</td>\n",
       "      <td>Finance &amp; Legal</td>\n",
       "    </tr>\n",
       "    <tr>\n",
       "      <th>3</th>\n",
       "      <td>Finance &amp; Legal</td>\n",
       "      <td>Finance Operations - EBANX Pay</td>\n",
       "    </tr>\n",
       "    <tr>\n",
       "      <th>4</th>\n",
       "      <td>Finance &amp; Legal</td>\n",
       "      <td>Finance and Legal</td>\n",
       "    </tr>\n",
       "  </tbody>\n",
       "</table>\n",
       "</div>"
      ],
      "text/plain": [
       "    Macro_job_area                  Micro_job_area\n",
       "0  Finance & Legal                   Adm & Finance\n",
       "1  Finance & Legal                         Finance\n",
       "2  Finance & Legal                 Finance & Legal\n",
       "3  Finance & Legal  Finance Operations - EBANX Pay\n",
       "4  Finance & Legal               Finance and Legal"
      ]
     },
     "execution_count": 288,
     "metadata": {},
     "output_type": "execute_result"
    }
   ],
   "source": [
    "dframe_dict_jobarea.head()"
   ]
  },
  {
   "cell_type": "code",
   "execution_count": 293,
   "metadata": {},
   "outputs": [],
   "source": [
    "#Adding job_title_type\r\n",
    "dframe_jobs_final = dframe_jobs_final.merge(dframe_dict_jobtitle, left_on='job_title', right_on='job_title')"
   ]
  },
  {
   "cell_type": "code",
   "execution_count": 296,
   "metadata": {},
   "outputs": [],
   "source": [
    "#Adding macro_job_area\r\n",
    "dframe_jobs_final = dframe_jobs_final.merge(dframe_dict_jobarea, left_on='job_area', right_on='Micro_job_area')"
   ]
  },
  {
   "cell_type": "code",
   "execution_count": 297,
   "metadata": {},
   "outputs": [
    {
     "data": {
      "text/plain": [
       "Index(['company_name', 'job_area', 'job_link', 'job_extraction_timestamp',\n",
       "       'job_about_company', 'job_title', 'job_location', 'job_description',\n",
       "       'job_main_responsabilities', 'job_other_details', 'is_PCD_mentioned',\n",
       "       'PCD_text', 'is_diversity_mentioned', 'Diversity_text', 'Comments',\n",
       "       'job_description_lang', 'job_main_responsabilities_lang',\n",
       "       'job_other_details_lang', 'job_main_responsabilities_pt',\n",
       "       'job_other_details_pt', 'job_main_responsabilities_pt_processed',\n",
       "       'job_other_details_pt_processed', 'job_title_type', 'Macro_job_area',\n",
       "       'Micro_job_area'],\n",
       "      dtype='object')"
      ]
     },
     "execution_count": 297,
     "metadata": {},
     "output_type": "execute_result"
    }
   ],
   "source": [
    "dframe_jobs_final.columns"
   ]
  },
  {
   "cell_type": "code",
   "execution_count": 298,
   "metadata": {},
   "outputs": [],
   "source": [
    "dframe_jobs_processed = dframe_jobs_final[['company_name',\r\n",
    "                                            'job_area',\r\n",
    "                                            'job_link',\r\n",
    "                                            'job_extraction_timestamp',\r\n",
    "                                            'job_title',\r\n",
    "                                            'job_location',\r\n",
    "                                            'job_main_responsabilities',\r\n",
    "                                            'job_other_details',\r\n",
    "                                            'job_main_responsabilities_lang',\r\n",
    "                                            'job_other_details_lang',\r\n",
    "                                            'job_main_responsabilities_pt',\r\n",
    "                                            'job_other_details_pt',\r\n",
    "                                            'job_main_responsabilities_pt_processed',\r\n",
    "                                            'job_other_details_pt_processed',\r\n",
    "                                            'job_title_type',\r\n",
    "                                            'Macro_job_area']]"
   ]
  },
  {
   "cell_type": "code",
   "execution_count": 299,
   "metadata": {},
   "outputs": [
    {
     "data": {
      "text/html": [
       "<div>\n",
       "<style scoped>\n",
       "    .dataframe tbody tr th:only-of-type {\n",
       "        vertical-align: middle;\n",
       "    }\n",
       "\n",
       "    .dataframe tbody tr th {\n",
       "        vertical-align: top;\n",
       "    }\n",
       "\n",
       "    .dataframe thead th {\n",
       "        text-align: right;\n",
       "    }\n",
       "</style>\n",
       "<table border=\"1\" class=\"dataframe\">\n",
       "  <thead>\n",
       "    <tr style=\"text-align: right;\">\n",
       "      <th></th>\n",
       "      <th>company_name</th>\n",
       "      <th>job_area</th>\n",
       "      <th>job_link</th>\n",
       "      <th>job_extraction_timestamp</th>\n",
       "      <th>job_title</th>\n",
       "      <th>job_location</th>\n",
       "      <th>job_main_responsabilities</th>\n",
       "      <th>job_other_details</th>\n",
       "      <th>job_main_responsabilities_lang</th>\n",
       "      <th>job_other_details_lang</th>\n",
       "      <th>job_main_responsabilities_pt</th>\n",
       "      <th>job_other_details_pt</th>\n",
       "      <th>job_main_responsabilities_pt_processed</th>\n",
       "      <th>job_other_details_pt_processed</th>\n",
       "      <th>job_title_type</th>\n",
       "      <th>Macro_job_area</th>\n",
       "    </tr>\n",
       "  </thead>\n",
       "  <tbody>\n",
       "    <tr>\n",
       "      <th>0</th>\n",
       "      <td>99</td>\n",
       "      <td>Finance</td>\n",
       "      <td>https://carreiras.99app.com/jobdetail/?vagaid=...</td>\n",
       "      <td>2021-06-27 11:38:13.363</td>\n",
       "      <td>Finance and Planning Manager</td>\n",
       "      <td>Brazil</td>\n",
       "      <td>-Detailed analysis of P&amp;L variances versus for...</td>\n",
       "      <td>- Strong expertise managing budget, forecast, ...</td>\n",
       "      <td>en</td>\n",
       "      <td>en</td>\n",
       "      <td>-Análise detalhada das variações de P&amp;L versus...</td>\n",
       "      <td>- Forte experiência em gerenciamento de orçame...</td>\n",
       "      <td>análise detalhada das variações de p&amp;l versus ...</td>\n",
       "      <td>forte experiência em gerenciamento de orçament...</td>\n",
       "      <td>management_manager</td>\n",
       "      <td>Finance &amp; Legal</td>\n",
       "    </tr>\n",
       "    <tr>\n",
       "      <th>1</th>\n",
       "      <td>99</td>\n",
       "      <td>Finance</td>\n",
       "      <td>https://carreiras.99app.com/jobdetail/?vagaid=...</td>\n",
       "      <td>2021-06-27 11:42:08.465</td>\n",
       "      <td>Finance Business Partner</td>\n",
       "      <td>Colombia</td>\n",
       "      <td>Evaluate the end to end financial process for ...</td>\n",
       "      <td>University graduate in the domain of Finance, ...</td>\n",
       "      <td>en</td>\n",
       "      <td>en</td>\n",
       "      <td>Avalie o processo financeiro de ponta a ponta ...</td>\n",
       "      <td>Graduação universitária no domínio de Finanças...</td>\n",
       "      <td>avalie o processo financeiro de ponta a ponta ...</td>\n",
       "      <td>graduação universitária no domínio de finanças...</td>\n",
       "      <td>business_partner</td>\n",
       "      <td>Finance &amp; Legal</td>\n",
       "    </tr>\n",
       "    <tr>\n",
       "      <th>2</th>\n",
       "      <td>99</td>\n",
       "      <td>Finance</td>\n",
       "      <td>https://carreiras.99app.com/jobdetail/?vagaid=...</td>\n",
       "      <td>2021-06-27 11:44:29.556</td>\n",
       "      <td>Finance Manager</td>\n",
       "      <td>Mexico</td>\n",
       "      <td>1.       Financial Budget, Forecast, Closing, ...</td>\n",
       "      <td>The successful applicant:\\nUniversity graduate...</td>\n",
       "      <td>en</td>\n",
       "      <td>en</td>\n",
       "      <td>1. Orçamento Financeiro, Previsão, Fechamento,...</td>\n",
       "      <td>O candidato bem-sucedido: Graduado universitár...</td>\n",
       "      <td>1 orçamento financeiro previsão fechamento con...</td>\n",
       "      <td>o candidato bemsucedido: graduado universitári...</td>\n",
       "      <td>management_manager</td>\n",
       "      <td>Finance &amp; Legal</td>\n",
       "    </tr>\n",
       "    <tr>\n",
       "      <th>3</th>\n",
       "      <td>99</td>\n",
       "      <td>Finance</td>\n",
       "      <td>https://carreiras.99app.com/jobdetail/?vagaid=...</td>\n",
       "      <td>2021-06-27 11:46:47.127</td>\n",
       "      <td>Finance Manager FP&amp;A</td>\n",
       "      <td>Mexico</td>\n",
       "      <td>1.       Financial Budget, Forecast, Closing, ...</td>\n",
       "      <td>University graduate in Finance, Commerce or En...</td>\n",
       "      <td>en</td>\n",
       "      <td>en</td>\n",
       "      <td>1. Orçamento Financeiro, Forecast, Fechamento,...</td>\n",
       "      <td>Graduação universitária em Finanças, Comércio ...</td>\n",
       "      <td>1 orçamento financeiro forecast fechamento con...</td>\n",
       "      <td>graduação universitária em finanças comércio o...</td>\n",
       "      <td>management_manager</td>\n",
       "      <td>Finance &amp; Legal</td>\n",
       "    </tr>\n",
       "    <tr>\n",
       "      <th>4</th>\n",
       "      <td>99</td>\n",
       "      <td>Finance</td>\n",
       "      <td>https://carreiras.99app.com/jobdetail/?vagaid=...</td>\n",
       "      <td>2021-06-27 11:49:03.129</td>\n",
       "      <td>Finance Senior Manager</td>\n",
       "      <td>Mexico</td>\n",
       "      <td>1.       Financial Budget, Forecast, Closing, ...</td>\n",
       "      <td>University graduate in the domain of Finance, ...</td>\n",
       "      <td>en</td>\n",
       "      <td>en</td>\n",
       "      <td>1. Orçamento Financeiro, Previsão, Fechamento,...</td>\n",
       "      <td>Graduado universitário no domínio de Finanças,...</td>\n",
       "      <td>1 orçamento financeiro previsão fechamento con...</td>\n",
       "      <td>graduado universitário no domínio de finanças ...</td>\n",
       "      <td>management_manager</td>\n",
       "      <td>Finance &amp; Legal</td>\n",
       "    </tr>\n",
       "  </tbody>\n",
       "</table>\n",
       "</div>"
      ],
      "text/plain": [
       "  company_name job_area                                           job_link  \\\n",
       "0           99  Finance  https://carreiras.99app.com/jobdetail/?vagaid=...   \n",
       "1           99  Finance  https://carreiras.99app.com/jobdetail/?vagaid=...   \n",
       "2           99  Finance  https://carreiras.99app.com/jobdetail/?vagaid=...   \n",
       "3           99  Finance  https://carreiras.99app.com/jobdetail/?vagaid=...   \n",
       "4           99  Finance  https://carreiras.99app.com/jobdetail/?vagaid=...   \n",
       "\n",
       "  job_extraction_timestamp                     job_title job_location  \\\n",
       "0  2021-06-27 11:38:13.363  Finance and Planning Manager       Brazil   \n",
       "1  2021-06-27 11:42:08.465      Finance Business Partner     Colombia   \n",
       "2  2021-06-27 11:44:29.556               Finance Manager       Mexico   \n",
       "3  2021-06-27 11:46:47.127          Finance Manager FP&A       Mexico   \n",
       "4  2021-06-27 11:49:03.129        Finance Senior Manager       Mexico   \n",
       "\n",
       "                           job_main_responsabilities  \\\n",
       "0  -Detailed analysis of P&L variances versus for...   \n",
       "1  Evaluate the end to end financial process for ...   \n",
       "2  1.       Financial Budget, Forecast, Closing, ...   \n",
       "3  1.       Financial Budget, Forecast, Closing, ...   \n",
       "4  1.       Financial Budget, Forecast, Closing, ...   \n",
       "\n",
       "                                   job_other_details  \\\n",
       "0  - Strong expertise managing budget, forecast, ...   \n",
       "1  University graduate in the domain of Finance, ...   \n",
       "2  The successful applicant:\\nUniversity graduate...   \n",
       "3  University graduate in Finance, Commerce or En...   \n",
       "4  University graduate in the domain of Finance, ...   \n",
       "\n",
       "  job_main_responsabilities_lang job_other_details_lang  \\\n",
       "0                             en                     en   \n",
       "1                             en                     en   \n",
       "2                             en                     en   \n",
       "3                             en                     en   \n",
       "4                             en                     en   \n",
       "\n",
       "                        job_main_responsabilities_pt  \\\n",
       "0  -Análise detalhada das variações de P&L versus...   \n",
       "1  Avalie o processo financeiro de ponta a ponta ...   \n",
       "2  1. Orçamento Financeiro, Previsão, Fechamento,...   \n",
       "3  1. Orçamento Financeiro, Forecast, Fechamento,...   \n",
       "4  1. Orçamento Financeiro, Previsão, Fechamento,...   \n",
       "\n",
       "                                job_other_details_pt  \\\n",
       "0  - Forte experiência em gerenciamento de orçame...   \n",
       "1  Graduação universitária no domínio de Finanças...   \n",
       "2  O candidato bem-sucedido: Graduado universitár...   \n",
       "3  Graduação universitária em Finanças, Comércio ...   \n",
       "4  Graduado universitário no domínio de Finanças,...   \n",
       "\n",
       "              job_main_responsabilities_pt_processed  \\\n",
       "0  análise detalhada das variações de p&l versus ...   \n",
       "1  avalie o processo financeiro de ponta a ponta ...   \n",
       "2  1 orçamento financeiro previsão fechamento con...   \n",
       "3  1 orçamento financeiro forecast fechamento con...   \n",
       "4  1 orçamento financeiro previsão fechamento con...   \n",
       "\n",
       "                      job_other_details_pt_processed      job_title_type  \\\n",
       "0  forte experiência em gerenciamento de orçament...  management_manager   \n",
       "1  graduação universitária no domínio de finanças...    business_partner   \n",
       "2  o candidato bemsucedido: graduado universitári...  management_manager   \n",
       "3  graduação universitária em finanças comércio o...  management_manager   \n",
       "4  graduado universitário no domínio de finanças ...  management_manager   \n",
       "\n",
       "    Macro_job_area  \n",
       "0  Finance & Legal  \n",
       "1  Finance & Legal  \n",
       "2  Finance & Legal  \n",
       "3  Finance & Legal  \n",
       "4  Finance & Legal  "
      ]
     },
     "execution_count": 299,
     "metadata": {},
     "output_type": "execute_result"
    }
   ],
   "source": [
    "dframe_jobs_processed.head()"
   ]
  },
  {
   "cell_type": "code",
   "execution_count": 300,
   "metadata": {},
   "outputs": [],
   "source": [
    "#exporting processed data\r\n",
    "dframe_jobs_processed.to_csv('dframe_jobs_processed.csv',index=False,sep='|',encoding='UTF-16')"
   ]
  }
 ],
 "metadata": {
  "interpreter": {
   "hash": "67ec7ba3d9b86346e9fbef625ddb015493eed4412d6f732feacd0f4e49252ef8"
  },
  "kernelspec": {
   "display_name": "Python 3.8.8 64-bit",
   "name": "python3"
  },
  "language_info": {
   "codemirror_mode": {
    "name": "ipython",
    "version": 3
   },
   "file_extension": ".py",
   "mimetype": "text/x-python",
   "name": "python",
   "nbconvert_exporter": "python",
   "pygments_lexer": "ipython3",
   "version": "3.8.8"
  },
  "orig_nbformat": 4
 },
 "nbformat": 4,
 "nbformat_minor": 2
}
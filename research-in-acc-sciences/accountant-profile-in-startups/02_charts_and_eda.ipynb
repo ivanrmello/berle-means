{
 "cells": [
  {
   "cell_type": "code",
   "execution_count": 1,
   "metadata": {},
   "outputs": [],
   "source": [
    "import matplotlib.pyplot as plt\r\n",
    "plt.rcParams.update({'font.family':'Times New Roman'})\r\n",
    "import seaborn as sns\r\n",
    "import pandas as pd"
   ]
  },
  {
   "cell_type": "code",
   "execution_count": 2,
   "metadata": {},
   "outputs": [],
   "source": [
    "sns.reset_defaults()\r\n",
    "sns.set(\r\n",
    "    rc={'figure.figsize':(7,5)}, \r\n",
    "    style=\"white\" # nicer layout\r\n",
    ")"
   ]
  },
  {
   "cell_type": "code",
   "execution_count": 123,
   "metadata": {},
   "outputs": [],
   "source": [
    "dframe = pd.read_csv('dframe_jobs_processed.csv', sep='|', encoding='UTF-16')\r\n",
    "dframe['responsabilities_and_other_details'] = (dframe['job_main_responsabilities_pt_processed'] + dframe['job_other_details_pt_processed']).str.strip()"
   ]
  },
  {
   "cell_type": "code",
   "execution_count": 124,
   "metadata": {},
   "outputs": [
    {
     "data": {
      "text/html": [
       "<div>\n",
       "<style scoped>\n",
       "    .dataframe tbody tr th:only-of-type {\n",
       "        vertical-align: middle;\n",
       "    }\n",
       "\n",
       "    .dataframe tbody tr th {\n",
       "        vertical-align: top;\n",
       "    }\n",
       "\n",
       "    .dataframe thead th {\n",
       "        text-align: right;\n",
       "    }\n",
       "</style>\n",
       "<table border=\"1\" class=\"dataframe\">\n",
       "  <thead>\n",
       "    <tr style=\"text-align: right;\">\n",
       "      <th></th>\n",
       "      <th>company_name</th>\n",
       "      <th>job_area</th>\n",
       "      <th>job_link</th>\n",
       "      <th>job_extraction_timestamp</th>\n",
       "      <th>job_title</th>\n",
       "      <th>job_location</th>\n",
       "      <th>job_main_responsabilities</th>\n",
       "      <th>job_other_details</th>\n",
       "      <th>job_main_responsabilities_lang</th>\n",
       "      <th>job_other_details_lang</th>\n",
       "      <th>job_main_responsabilities_pt</th>\n",
       "      <th>job_other_details_pt</th>\n",
       "      <th>job_main_responsabilities_pt_processed</th>\n",
       "      <th>job_other_details_pt_processed</th>\n",
       "      <th>job_title_type</th>\n",
       "      <th>Macro_job_area</th>\n",
       "      <th>responsabilities_and_other_details</th>\n",
       "    </tr>\n",
       "  </thead>\n",
       "  <tbody>\n",
       "    <tr>\n",
       "      <th>0</th>\n",
       "      <td>99</td>\n",
       "      <td>Finance</td>\n",
       "      <td>https://carreiras.99app.com/jobdetail/?vagaid=...</td>\n",
       "      <td>2021-06-27 11:38:13.363</td>\n",
       "      <td>Finance and Planning Manager</td>\n",
       "      <td>Brazil</td>\n",
       "      <td>-Detailed analysis of P&amp;L variances versus for...</td>\n",
       "      <td>- Strong expertise managing budget, forecast, ...</td>\n",
       "      <td>en</td>\n",
       "      <td>en</td>\n",
       "      <td>-Análise detalhada das variações de P&amp;L versus...</td>\n",
       "      <td>- Forte experiência em gerenciamento de orçame...</td>\n",
       "      <td>análise detalhada das variações de p&amp;l versus ...</td>\n",
       "      <td>forte experiência em gerenciamento de orçament...</td>\n",
       "      <td>management_manager</td>\n",
       "      <td>Finance &amp; Legal</td>\n",
       "      <td>análise detalhada das variações de p&amp;l versus ...</td>\n",
       "    </tr>\n",
       "    <tr>\n",
       "      <th>1</th>\n",
       "      <td>99</td>\n",
       "      <td>Finance</td>\n",
       "      <td>https://carreiras.99app.com/jobdetail/?vagaid=...</td>\n",
       "      <td>2021-06-27 11:42:08.465</td>\n",
       "      <td>Finance Business Partner</td>\n",
       "      <td>Colombia</td>\n",
       "      <td>Evaluate the end to end financial process for ...</td>\n",
       "      <td>University graduate in the domain of Finance, ...</td>\n",
       "      <td>en</td>\n",
       "      <td>en</td>\n",
       "      <td>Avalie o processo financeiro de ponta a ponta ...</td>\n",
       "      <td>Graduação universitária no domínio de Finanças...</td>\n",
       "      <td>avalie o processo financeiro de ponta a ponta ...</td>\n",
       "      <td>graduação universitária no domínio de finanças...</td>\n",
       "      <td>business_partner</td>\n",
       "      <td>Finance &amp; Legal</td>\n",
       "      <td>avalie o processo financeiro de ponta a ponta ...</td>\n",
       "    </tr>\n",
       "    <tr>\n",
       "      <th>2</th>\n",
       "      <td>99</td>\n",
       "      <td>Finance</td>\n",
       "      <td>https://carreiras.99app.com/jobdetail/?vagaid=...</td>\n",
       "      <td>2021-06-27 11:44:29.556</td>\n",
       "      <td>Finance Manager</td>\n",
       "      <td>Mexico</td>\n",
       "      <td>1.       Financial Budget, Forecast, Closing, ...</td>\n",
       "      <td>The successful applicant:\\nUniversity graduate...</td>\n",
       "      <td>en</td>\n",
       "      <td>en</td>\n",
       "      <td>1. Orçamento Financeiro, Previsão, Fechamento,...</td>\n",
       "      <td>O candidato bem-sucedido: Graduado universitár...</td>\n",
       "      <td>1 orçamento financeiro previsão fechamento con...</td>\n",
       "      <td>o candidato bemsucedido: graduado universitári...</td>\n",
       "      <td>management_manager</td>\n",
       "      <td>Finance &amp; Legal</td>\n",
       "      <td>1 orçamento financeiro previsão fechamento con...</td>\n",
       "    </tr>\n",
       "    <tr>\n",
       "      <th>3</th>\n",
       "      <td>99</td>\n",
       "      <td>Finance</td>\n",
       "      <td>https://carreiras.99app.com/jobdetail/?vagaid=...</td>\n",
       "      <td>2021-06-27 11:46:47.127</td>\n",
       "      <td>Finance Manager FP&amp;A</td>\n",
       "      <td>Mexico</td>\n",
       "      <td>1.       Financial Budget, Forecast, Closing, ...</td>\n",
       "      <td>University graduate in Finance, Commerce or En...</td>\n",
       "      <td>en</td>\n",
       "      <td>en</td>\n",
       "      <td>1. Orçamento Financeiro, Forecast, Fechamento,...</td>\n",
       "      <td>Graduação universitária em Finanças, Comércio ...</td>\n",
       "      <td>1 orçamento financeiro forecast fechamento con...</td>\n",
       "      <td>graduação universitária em finanças comércio o...</td>\n",
       "      <td>management_manager</td>\n",
       "      <td>Finance &amp; Legal</td>\n",
       "      <td>1 orçamento financeiro forecast fechamento con...</td>\n",
       "    </tr>\n",
       "    <tr>\n",
       "      <th>4</th>\n",
       "      <td>99</td>\n",
       "      <td>Finance</td>\n",
       "      <td>https://carreiras.99app.com/jobdetail/?vagaid=...</td>\n",
       "      <td>2021-06-27 11:49:03.129</td>\n",
       "      <td>Finance Senior Manager</td>\n",
       "      <td>Mexico</td>\n",
       "      <td>1.       Financial Budget, Forecast, Closing, ...</td>\n",
       "      <td>University graduate in the domain of Finance, ...</td>\n",
       "      <td>en</td>\n",
       "      <td>en</td>\n",
       "      <td>1. Orçamento Financeiro, Previsão, Fechamento,...</td>\n",
       "      <td>Graduado universitário no domínio de Finanças,...</td>\n",
       "      <td>1 orçamento financeiro previsão fechamento con...</td>\n",
       "      <td>graduado universitário no domínio de finanças ...</td>\n",
       "      <td>management_manager</td>\n",
       "      <td>Finance &amp; Legal</td>\n",
       "      <td>1 orçamento financeiro previsão fechamento con...</td>\n",
       "    </tr>\n",
       "  </tbody>\n",
       "</table>\n",
       "</div>"
      ],
      "text/plain": [
       "  company_name job_area                                           job_link  \\\n",
       "0           99  Finance  https://carreiras.99app.com/jobdetail/?vagaid=...   \n",
       "1           99  Finance  https://carreiras.99app.com/jobdetail/?vagaid=...   \n",
       "2           99  Finance  https://carreiras.99app.com/jobdetail/?vagaid=...   \n",
       "3           99  Finance  https://carreiras.99app.com/jobdetail/?vagaid=...   \n",
       "4           99  Finance  https://carreiras.99app.com/jobdetail/?vagaid=...   \n",
       "\n",
       "  job_extraction_timestamp                     job_title job_location  \\\n",
       "0  2021-06-27 11:38:13.363  Finance and Planning Manager       Brazil   \n",
       "1  2021-06-27 11:42:08.465      Finance Business Partner     Colombia   \n",
       "2  2021-06-27 11:44:29.556               Finance Manager       Mexico   \n",
       "3  2021-06-27 11:46:47.127          Finance Manager FP&A       Mexico   \n",
       "4  2021-06-27 11:49:03.129        Finance Senior Manager       Mexico   \n",
       "\n",
       "                           job_main_responsabilities  \\\n",
       "0  -Detailed analysis of P&L variances versus for...   \n",
       "1  Evaluate the end to end financial process for ...   \n",
       "2  1.       Financial Budget, Forecast, Closing, ...   \n",
       "3  1.       Financial Budget, Forecast, Closing, ...   \n",
       "4  1.       Financial Budget, Forecast, Closing, ...   \n",
       "\n",
       "                                   job_other_details  \\\n",
       "0  - Strong expertise managing budget, forecast, ...   \n",
       "1  University graduate in the domain of Finance, ...   \n",
       "2  The successful applicant:\\nUniversity graduate...   \n",
       "3  University graduate in Finance, Commerce or En...   \n",
       "4  University graduate in the domain of Finance, ...   \n",
       "\n",
       "  job_main_responsabilities_lang job_other_details_lang  \\\n",
       "0                             en                     en   \n",
       "1                             en                     en   \n",
       "2                             en                     en   \n",
       "3                             en                     en   \n",
       "4                             en                     en   \n",
       "\n",
       "                        job_main_responsabilities_pt  \\\n",
       "0  -Análise detalhada das variações de P&L versus...   \n",
       "1  Avalie o processo financeiro de ponta a ponta ...   \n",
       "2  1. Orçamento Financeiro, Previsão, Fechamento,...   \n",
       "3  1. Orçamento Financeiro, Forecast, Fechamento,...   \n",
       "4  1. Orçamento Financeiro, Previsão, Fechamento,...   \n",
       "\n",
       "                                job_other_details_pt  \\\n",
       "0  - Forte experiência em gerenciamento de orçame...   \n",
       "1  Graduação universitária no domínio de Finanças...   \n",
       "2  O candidato bem-sucedido: Graduado universitár...   \n",
       "3  Graduação universitária em Finanças, Comércio ...   \n",
       "4  Graduado universitário no domínio de Finanças,...   \n",
       "\n",
       "              job_main_responsabilities_pt_processed  \\\n",
       "0  análise detalhada das variações de p&l versus ...   \n",
       "1  avalie o processo financeiro de ponta a ponta ...   \n",
       "2  1 orçamento financeiro previsão fechamento con...   \n",
       "3  1 orçamento financeiro forecast fechamento con...   \n",
       "4  1 orçamento financeiro previsão fechamento con...   \n",
       "\n",
       "                      job_other_details_pt_processed      job_title_type  \\\n",
       "0  forte experiência em gerenciamento de orçament...  management_manager   \n",
       "1  graduação universitária no domínio de finanças...    business_partner   \n",
       "2  o candidato bemsucedido: graduado universitári...  management_manager   \n",
       "3  graduação universitária em finanças comércio o...  management_manager   \n",
       "4  graduado universitário no domínio de finanças ...  management_manager   \n",
       "\n",
       "    Macro_job_area                 responsabilities_and_other_details  \n",
       "0  Finance & Legal  análise detalhada das variações de p&l versus ...  \n",
       "1  Finance & Legal  avalie o processo financeiro de ponta a ponta ...  \n",
       "2  Finance & Legal  1 orçamento financeiro previsão fechamento con...  \n",
       "3  Finance & Legal  1 orçamento financeiro forecast fechamento con...  \n",
       "4  Finance & Legal  1 orçamento financeiro previsão fechamento con...  "
      ]
     },
     "execution_count": 124,
     "metadata": {},
     "output_type": "execute_result"
    }
   ],
   "source": [
    "dframe.head()"
   ]
  },
  {
   "cell_type": "markdown",
   "metadata": {},
   "source": [
    "Let's start plotting!"
   ]
  },
  {
   "cell_type": "code",
   "execution_count": 125,
   "metadata": {},
   "outputs": [],
   "source": [
    "dframe_location_and_language = dframe.groupby(['job_location'],as_index=False)['job_extraction_timestamp'].count()\r\n",
    "dframe_location_and_language.columns = ['Location','Qty']\r\n",
    "dframe_location_and_language = dframe_location_and_language.sort_values('Qty',ascending=True)"
   ]
  },
  {
   "cell_type": "code",
   "execution_count": 126,
   "metadata": {},
   "outputs": [
    {
     "data": {
      "image/png": "[encoded data removed]",
      "text/plain": [
       "<Figure size 800x400 with 1 Axes>"
      ]
     },
     "metadata": {},
     "output_type": "display_data"
    }
   ],
   "source": [
    "plt.figure(figsize=(8,4), tight_layout=True)\r\n",
    "colors = sns.color_palette('pastel')\r\n",
    "plt.barh(dframe_location_and_language['Location'], dframe_location_and_language['Qty'], color=colors)\r\n",
    "plt.xlabel('Quantidade de vagas')\r\n",
    "plt.ylabel('Localidade')\r\n",
    "plt.title('Vagas - por localidade')\r\n",
    "plt.show()"
   ]
  },
  {
   "cell_type": "code",
   "execution_count": 127,
   "metadata": {},
   "outputs": [],
   "source": [
    "dframe_job_title_type = dframe.groupby(['job_title_type'],as_index=False)['job_extraction_timestamp'].count()\r\n",
    "dframe_job_title_type.columns = ['Job Title Type','Qty']\r\n",
    "dframe_job_title_type = dframe_job_title_type.sort_values('Qty',ascending=True).reset_index()"
   ]
  },
  {
   "cell_type": "code",
   "execution_count": 128,
   "metadata": {},
   "outputs": [
    {
     "data": {
      "image/png": "[encoded data removed]",
      "text/plain": [
       "<Figure size 800x400 with 1 Axes>"
      ]
     },
     "metadata": {},
     "output_type": "display_data"
    }
   ],
   "source": [
    "plt.figure(figsize=(8,4), tight_layout=True)\r\n",
    "colors = sns.color_palette(\"pastel\")\r\n",
    "plt.barh(dframe_job_title_type['Job Title Type'], dframe_job_title_type['Qty'], color=colors)\r\n",
    "plt.xlabel('Quantidade de vagas')\r\n",
    "plt.ylabel('Tipo de cargo')\r\n",
    "plt.title('Vagas - por tipo de cargo')\r\n",
    "plt.show()"
   ]
  },
  {
   "cell_type": "code",
   "execution_count": 129,
   "metadata": {},
   "outputs": [],
   "source": [
    "dframe_job_lang = dframe.groupby(['job_main_responsabilities_lang'],as_index=False)['job_extraction_timestamp'].count()\r\n",
    "dframe_job_lang.columns = ['Language of the job posted','Qty']\r\n",
    "dframe_job_lang = dframe_job_lang.sort_values('Qty',ascending=False).reset_index()"
   ]
  },
  {
   "cell_type": "code",
   "execution_count": 130,
   "metadata": {},
   "outputs": [
    {
     "data": {
      "text/html": [
       "<div>\n",
       "<style scoped>\n",
       "    .dataframe tbody tr th:only-of-type {\n",
       "        vertical-align: middle;\n",
       "    }\n",
       "\n",
       "    .dataframe tbody tr th {\n",
       "        vertical-align: top;\n",
       "    }\n",
       "\n",
       "    .dataframe thead th {\n",
       "        text-align: right;\n",
       "    }\n",
       "</style>\n",
       "<table border=\"1\" class=\"dataframe\">\n",
       "  <thead>\n",
       "    <tr style=\"text-align: right;\">\n",
       "      <th></th>\n",
       "      <th>index</th>\n",
       "      <th>Language of the job posted</th>\n",
       "      <th>Qty</th>\n",
       "    </tr>\n",
       "  </thead>\n",
       "  <tbody>\n",
       "    <tr>\n",
       "      <th>0</th>\n",
       "      <td>2</td>\n",
       "      <td>pt</td>\n",
       "      <td>58</td>\n",
       "    </tr>\n",
       "    <tr>\n",
       "      <th>1</th>\n",
       "      <td>0</td>\n",
       "      <td>en</td>\n",
       "      <td>41</td>\n",
       "    </tr>\n",
       "    <tr>\n",
       "      <th>2</th>\n",
       "      <td>1</td>\n",
       "      <td>es</td>\n",
       "      <td>1</td>\n",
       "    </tr>\n",
       "  </tbody>\n",
       "</table>\n",
       "</div>"
      ],
      "text/plain": [
       "   index Language of the job posted  Qty\n",
       "0      2                         pt   58\n",
       "1      0                         en   41\n",
       "2      1                         es    1"
      ]
     },
     "execution_count": 130,
     "metadata": {},
     "output_type": "execute_result"
    }
   ],
   "source": [
    "dframe_job_lang"
   ]
  },
  {
   "cell_type": "code",
   "execution_count": 131,
   "metadata": {},
   "outputs": [
    {
     "data": {
      "image/png": "[encoded data removed]",
      "text/plain": [
       "<Figure size 700x600 with 1 Axes>"
      ]
     },
     "metadata": {},
     "output_type": "display_data"
    }
   ],
   "source": [
    "colors = sns.color_palette('pastel')\r\n",
    "plt.figure(figsize=(7, 6), tight_layout=True)\r\n",
    "plt.pie(dframe_job_lang['Qty'], labels=dframe_job_lang['Language of the job posted'], pctdistance=.7, autopct='%.0f %%',\r\n",
    "          colors=colors, shadow=True)\r\n",
    "plt.title('Vagas - por idioma do anúncio')\r\n",
    "plt.legend(['pt - português','en - inglês', 'es - espanhol'])\r\n",
    "plt.show()"
   ]
  },
  {
   "cell_type": "code",
   "execution_count": 158,
   "metadata": {},
   "outputs": [],
   "source": [
    "dframe_tech_skills = pd.read_excel('glossary_tech_manually_reviewed.xlsx')"
   ]
  },
  {
   "cell_type": "code",
   "execution_count": 159,
   "metadata": {},
   "outputs": [
    {
     "data": {
      "text/html": [
       "<div>\n",
       "<style scoped>\n",
       "    .dataframe tbody tr th:only-of-type {\n",
       "        vertical-align: middle;\n",
       "    }\n",
       "\n",
       "    .dataframe tbody tr th {\n",
       "        vertical-align: top;\n",
       "    }\n",
       "\n",
       "    .dataframe thead th {\n",
       "        text-align: right;\n",
       "    }\n",
       "</style>\n",
       "<table border=\"1\" class=\"dataframe\">\n",
       "  <thead>\n",
       "    <tr style=\"text-align: right;\">\n",
       "      <th></th>\n",
       "      <th>category_en</th>\n",
       "      <th>skill_en</th>\n",
       "      <th>description_en</th>\n",
       "      <th>skill_en_processed</th>\n",
       "      <th>skill_en_processed_no_spaces</th>\n",
       "      <th>skill_pt</th>\n",
       "      <th>skill_pt_processed</th>\n",
       "      <th>skill_pt_processed_no_spaces</th>\n",
       "      <th>comments</th>\n",
       "    </tr>\n",
       "  </thead>\n",
       "  <tbody>\n",
       "    <tr>\n",
       "      <th>0</th>\n",
       "      <td>Back-end Technologies Python</td>\n",
       "      <td>asyncio</td>\n",
       "      <td>A library to write concurrent code using the a...</td>\n",
       "      <td>asyncio</td>\n",
       "      <td>asyncio</td>\n",
       "      <td>asyncio</td>\n",
       "      <td>asyncio</td>\n",
       "      <td>asyncio</td>\n",
       "      <td>NaN</td>\n",
       "    </tr>\n",
       "    <tr>\n",
       "      <th>1</th>\n",
       "      <td>Back-end Technologies Python</td>\n",
       "      <td>BeeWare</td>\n",
       "      <td>Collection of projects that can be used to hel...</td>\n",
       "      <td>beeware</td>\n",
       "      <td>beeware</td>\n",
       "      <td>BeeWare</td>\n",
       "      <td>beeware</td>\n",
       "      <td>beeware</td>\n",
       "      <td>NaN</td>\n",
       "    </tr>\n",
       "    <tr>\n",
       "      <th>2</th>\n",
       "      <td>Back-end Technologies Python</td>\n",
       "      <td>Bokeh</td>\n",
       "      <td>An interactive visualization library for Pytho...</td>\n",
       "      <td>bokeh</td>\n",
       "      <td>bokeh</td>\n",
       "      <td>Bokeh</td>\n",
       "      <td>bokeh</td>\n",
       "      <td>bokeh</td>\n",
       "      <td>NaN</td>\n",
       "    </tr>\n",
       "    <tr>\n",
       "      <th>3</th>\n",
       "      <td>Back-end Technologies Python</td>\n",
       "      <td>Bottle</td>\n",
       "      <td>Fast, simple and lightweight WSGI micro web-fr...</td>\n",
       "      <td>bottle</td>\n",
       "      <td>bottle</td>\n",
       "      <td>Bottle</td>\n",
       "      <td>bottle</td>\n",
       "      <td>bottle</td>\n",
       "      <td>NaN</td>\n",
       "    </tr>\n",
       "    <tr>\n",
       "      <th>4</th>\n",
       "      <td>Back-end Technologies Python</td>\n",
       "      <td>Buildbot</td>\n",
       "      <td>Python-based software development continuous i...</td>\n",
       "      <td>buildbot</td>\n",
       "      <td>buildbot</td>\n",
       "      <td>Buildbot</td>\n",
       "      <td>buildbot</td>\n",
       "      <td>buildbot</td>\n",
       "      <td>NaN</td>\n",
       "    </tr>\n",
       "  </tbody>\n",
       "</table>\n",
       "</div>"
      ],
      "text/plain": [
       "                    category_en  skill_en  \\\n",
       "0  Back-end Technologies Python   asyncio   \n",
       "1  Back-end Technologies Python   BeeWare   \n",
       "2  Back-end Technologies Python     Bokeh   \n",
       "3  Back-end Technologies Python    Bottle   \n",
       "4  Back-end Technologies Python  Buildbot   \n",
       "\n",
       "                                      description_en skill_en_processed  \\\n",
       "0  A library to write concurrent code using the a...            asyncio   \n",
       "1  Collection of projects that can be used to hel...            beeware   \n",
       "2  An interactive visualization library for Pytho...              bokeh   \n",
       "3  Fast, simple and lightweight WSGI micro web-fr...             bottle   \n",
       "4  Python-based software development continuous i...           buildbot   \n",
       "\n",
       "  skill_en_processed_no_spaces    skill_pt skill_pt_processed  \\\n",
       "0                      asyncio    asyncio            asyncio    \n",
       "1                      beeware    BeeWare            beeware    \n",
       "2                        bokeh      Bokeh              bokeh    \n",
       "3                       bottle     Bottle             bottle    \n",
       "4                     buildbot   Buildbot           buildbot    \n",
       "\n",
       "  skill_pt_processed_no_spaces comments  \n",
       "0                      asyncio      NaN  \n",
       "1                      beeware      NaN  \n",
       "2                        bokeh      NaN  \n",
       "3                       bottle      NaN  \n",
       "4                     buildbot      NaN  "
      ]
     },
     "execution_count": 159,
     "metadata": {},
     "output_type": "execute_result"
    }
   ],
   "source": [
    "dframe_tech_skills.head()"
   ]
  },
  {
   "cell_type": "code",
   "execution_count": 111,
   "metadata": {},
   "outputs": [],
   "source": [
    "# For each IT skill, every term is splitted into single words, then all duplicates are removed, eg. apache avro & apache flink became only three single words 'apache', 'avro', and 'flink'\r\n",
    "\"\"\" bag_of_words_back_end_tech_python = list(dict.fromkeys([word for line in dframe_tech_skills.query(\"category_en=='Back-end Technologies Python'\")['skill_pt_processed'].str.strip().to_list() for word in line.split()]))\r\n",
    "bag_of_words_data_science = list(dict.fromkeys([word for line in dframe_tech_skills.query(\"category_en=='Data Science'\")['skill_pt_processed'].str.strip().to_list() for word in line.split()]))\r\n",
    "bag_of_words_databases = list(dict.fromkeys([word for line in dframe_tech_skills.query(\"category_en=='Databases'\")['skill_pt_processed'].str.strip().to_list() for word in line.split()]))\r\n",
    "bag_of_words_dev_metho = list(dict.fromkeys([word for line in dframe_tech_skills.query(\"category_en=='Development Methodologies'\")['skill_pt_processed'].str.strip().to_list() for word in line.split()]))\r\n",
    "bag_of_words_proj_manag = list(dict.fromkeys([word for line in dframe_tech_skills.query(\"category_en=='Project Management'\")['skill_pt_processed'].str.strip().to_list() for word in line.split()]))\r\n",
    "bag_of_words_tools = list(dict.fromkeys([word for line in dframe_tech_skills.query(\"category_en=='Tools'\")['skill_pt_processed'].str.strip().to_list() for word in line.split()])) \"\"\""
   ]
  },
  {
   "cell_type": "code",
   "execution_count": 160,
   "metadata": {},
   "outputs": [],
   "source": [
    "# For each IT skill, we use the term without spaces in the beginning or end\r\n",
    "bag_of_words_back_end_tech_python = dframe_tech_skills.query(\"category_en=='Back-end Technologies Python'\")['skill_pt_processed'].str.strip().to_list()\r\n",
    "bag_of_words_data_science = dframe_tech_skills.query(\"category_en=='Data Science'\")['skill_pt_processed'].str.strip().to_list()\r\n",
    "bag_of_words_databases = dframe_tech_skills.query(\"category_en=='Databases'\")['skill_pt_processed'].str.strip().to_list()\r\n",
    "bag_of_words_dev_metho = dframe_tech_skills.query(\"category_en=='Development Methodologies'\")['skill_pt_processed'].str.strip().to_list()\r\n",
    "bag_of_words_proj_manag = dframe_tech_skills.query(\"category_en=='Project Management'\")['skill_pt_processed'].str.strip().to_list()\r\n",
    "bag_of_words_tools = dframe_tech_skills.query(\"category_en=='Tools'\")['skill_pt_processed'].str.strip().to_list()"
   ]
  },
  {
   "cell_type": "code",
   "execution_count": 161,
   "metadata": {},
   "outputs": [],
   "source": [
    "dframe['techskill_back_end_python'] = dframe['responsabilities_and_other_details'].apply(lambda x: any([k in x for k in bag_of_words_back_end_tech_python]))\r\n",
    "dframe['techskill_data_science'] = dframe['responsabilities_and_other_details'].apply(lambda x: any([k in x for k in bag_of_words_data_science]))\r\n",
    "dframe['techskill_databases'] = dframe['responsabilities_and_other_details'].apply(lambda x: any([k in x for k in bag_of_words_databases]))\r\n",
    "dframe['techskill_devmetho'] = dframe['responsabilities_and_other_details'].apply(lambda x: any([k in x for k in bag_of_words_dev_metho]))\r\n",
    "dframe['techskill_proj_manag'] = dframe['responsabilities_and_other_details'].apply(lambda x: any([k in x for k in bag_of_words_proj_manag]))\r\n",
    "dframe['techskill_tools'] = dframe['responsabilities_and_other_details'].apply(lambda x: any([k in x for k in bag_of_words_tools]))"
   ]
  },
  {
   "cell_type": "code",
   "execution_count": 162,
   "metadata": {},
   "outputs": [
    {
     "data": {
      "text/plain": [
       "techskill_back_end_python\n",
       "False    94\n",
       "True      6\n",
       "Name: company_name, dtype: int64"
      ]
     },
     "execution_count": 162,
     "metadata": {},
     "output_type": "execute_result"
    }
   ],
   "source": [
    "dframe.groupby(['techskill_back_end_python'])['company_name'].count()"
   ]
  },
  {
   "cell_type": "code",
   "execution_count": 163,
   "metadata": {},
   "outputs": [
    {
     "data": {
      "text/plain": [
       "techskill_data_science\n",
       "False    13\n",
       "True     87\n",
       "Name: company_name, dtype: int64"
      ]
     },
     "execution_count": 163,
     "metadata": {},
     "output_type": "execute_result"
    }
   ],
   "source": [
    "dframe.groupby(['techskill_data_science'])['company_name'].count()"
   ]
  },
  {
   "cell_type": "code",
   "execution_count": 164,
   "metadata": {},
   "outputs": [
    {
     "data": {
      "text/plain": [
       "techskill_databases\n",
       "False    48\n",
       "True     52\n",
       "Name: company_name, dtype: int64"
      ]
     },
     "execution_count": 164,
     "metadata": {},
     "output_type": "execute_result"
    }
   ],
   "source": [
    "dframe.groupby(['techskill_databases'])['company_name'].count()"
   ]
  },
  {
   "cell_type": "code",
   "execution_count": 165,
   "metadata": {},
   "outputs": [
    {
     "data": {
      "text/plain": [
       "techskill_devmetho\n",
       "False    49\n",
       "True     51\n",
       "Name: company_name, dtype: int64"
      ]
     },
     "execution_count": 165,
     "metadata": {},
     "output_type": "execute_result"
    }
   ],
   "source": [
    "dframe.groupby(['techskill_devmetho'])['company_name'].count()"
   ]
  },
  {
   "cell_type": "code",
   "execution_count": 166,
   "metadata": {},
   "outputs": [
    {
     "data": {
      "text/plain": [
       "techskill_proj_manag\n",
       "False    75\n",
       "True     25\n",
       "Name: company_name, dtype: int64"
      ]
     },
     "execution_count": 166,
     "metadata": {},
     "output_type": "execute_result"
    }
   ],
   "source": [
    "dframe.groupby(['techskill_proj_manag'])['company_name'].count()"
   ]
  },
  {
   "cell_type": "code",
   "execution_count": 167,
   "metadata": {},
   "outputs": [
    {
     "data": {
      "text/plain": [
       "techskill_tools\n",
       "False    15\n",
       "True     85\n",
       "Name: company_name, dtype: int64"
      ]
     },
     "execution_count": 167,
     "metadata": {},
     "output_type": "execute_result"
    }
   ],
   "source": [
    "dframe.groupby(['techskill_tools'])['company_name'].count()"
   ]
  },
  {
   "cell_type": "code",
   "execution_count": 168,
   "metadata": {},
   "outputs": [
    {
     "name": "stderr",
     "output_type": "stream",
     "text": [
      "C:\\Users\\ivanr\\AppData\\Local\\Programs\\Python\\Python38\\lib\\site-packages\\pandas\\core\\strings\\accessor.py:101: UserWarning: This pattern has match groups. To actually get the groups, use str.extract.\n",
      "  return func(self, *args, **kwargs)\n"
     ]
    }
   ],
   "source": [
    "#Creating a dframe to evaluate which IT skills were most asked --- Back-end Technologies Python\r\n",
    "df_techskill_back_end_python = pd.DataFrame([[word, sum(dframe.responsabilities_and_other_details.str.contains(word))] for word in bag_of_words_back_end_tech_python], \r\n",
    "                       columns=['techskill', 'skill_count']).sort_values(by=['skill_count'], ascending=False)\r\n",
    "df_techskill_back_end_python['category_en']='Back-end Technologies Python'"
   ]
  },
  {
   "cell_type": "code",
   "execution_count": 169,
   "metadata": {},
   "outputs": [],
   "source": [
    "#Creating a dframe to evaluate which IT skills were most asked --- Data Science\r\n",
    "df_techskill_data_science = pd.DataFrame([[word, sum(dframe.responsabilities_and_other_details.str.contains(word))] for word in bag_of_words_data_science], \r\n",
    "                       columns=['techskill', 'skill_count']).sort_values(by=['skill_count'], ascending=False)\r\n",
    "df_techskill_data_science['category_en']='Data Science'"
   ]
  },
  {
   "cell_type": "code",
   "execution_count": 170,
   "metadata": {},
   "outputs": [],
   "source": [
    "#Creating a dframe to evaluate which IT skills were most asked --- Databases \r\n",
    "df_techskill_databases = pd.DataFrame([[word, sum(dframe.responsabilities_and_other_details.str.contains(word))] for word in bag_of_words_databases], \r\n",
    "                       columns=['techskill', 'skill_count']).sort_values(by=['skill_count'], ascending=False)\r\n",
    "df_techskill_databases['category_en']='Databases'"
   ]
  },
  {
   "cell_type": "code",
   "execution_count": 171,
   "metadata": {},
   "outputs": [],
   "source": [
    "#Creating a dframe to evaluate which IT skills were most asked --- Development Methodologies\r\n",
    "df_techskill_devmetho = pd.DataFrame([[word, sum(dframe.responsabilities_and_other_details.str.contains(word))] for word in bag_of_words_dev_metho], \r\n",
    "                       columns=['techskill', 'skill_count']).sort_values(by=['skill_count'], ascending=False)\r\n",
    "df_techskill_devmetho['category_en']='Development Methodologies'"
   ]
  },
  {
   "cell_type": "code",
   "execution_count": 172,
   "metadata": {},
   "outputs": [],
   "source": [
    "#Creating a dframe to evaluate which IT skills were most asked --- Project Management\r\n",
    "df_techskill_proj_manag = pd.DataFrame([[word, sum(dframe.responsabilities_and_other_details.str.contains(word))] for word in bag_of_words_proj_manag], \r\n",
    "                       columns=['techskill', 'skill_count']).sort_values(by=['skill_count'], ascending=False)\r\n",
    "df_techskill_proj_manag['category_en']='Project Management'"
   ]
  },
  {
   "cell_type": "code",
   "execution_count": 173,
   "metadata": {},
   "outputs": [],
   "source": [
    "#Creating a dframe to evaluate which IT skills were most asked --- Tools\r\n",
    "df_techskill_tools = pd.DataFrame([[word, sum(dframe.responsabilities_and_other_details.str.contains(word))] for word in bag_of_words_tools], \r\n",
    "                       columns=['techskill', 'skill_count']).sort_values(by=['skill_count'], ascending=False)\r\n",
    "df_techskill_tools['category_en']='Tools'"
   ]
  },
  {
   "cell_type": "code",
   "execution_count": 183,
   "metadata": {},
   "outputs": [],
   "source": [
    "df_all_techskill = pd.concat([df_techskill_back_end_python,\r\n",
    "                                    df_techskill_data_science,\r\n",
    "                                    df_techskill_databases,\r\n",
    "                                    df_techskill_devmetho,\r\n",
    "                                    df_techskill_proj_manag,\r\n",
    "                                    df_techskill_tools],ignore_index=True)"
   ]
  },
  {
   "cell_type": "code",
   "execution_count": 184,
   "metadata": {},
   "outputs": [],
   "source": [
    "df_all_techskill_final = df_all_techskill.query(\"skill_count>0\").sort_values(by=['skill_count'], ascending=False)"
   ]
  },
  {
   "cell_type": "code",
   "execution_count": 186,
   "metadata": {},
   "outputs": [
    {
     "data": {
      "text/html": [
       "<div>\n",
       "<style scoped>\n",
       "    .dataframe tbody tr th:only-of-type {\n",
       "        vertical-align: middle;\n",
       "    }\n",
       "\n",
       "    .dataframe tbody tr th {\n",
       "        vertical-align: top;\n",
       "    }\n",
       "\n",
       "    .dataframe thead th {\n",
       "        text-align: right;\n",
       "    }\n",
       "</style>\n",
       "<table border=\"1\" class=\"dataframe\">\n",
       "  <thead>\n",
       "    <tr style=\"text-align: right;\">\n",
       "      <th></th>\n",
       "      <th>techskill</th>\n",
       "      <th>skill_count</th>\n",
       "      <th>category_en</th>\n",
       "    </tr>\n",
       "  </thead>\n",
       "  <tbody>\n",
       "    <tr>\n",
       "      <th>274</th>\n",
       "      <td>vi</td>\n",
       "      <td>85</td>\n",
       "      <td>Tools</td>\n",
       "    </tr>\n",
       "    <tr>\n",
       "      <th>26</th>\n",
       "      <td>excel</td>\n",
       "      <td>62</td>\n",
       "      <td>Data Science</td>\n",
       "    </tr>\n",
       "    <tr>\n",
       "      <th>27</th>\n",
       "      <td>sas</td>\n",
       "      <td>52</td>\n",
       "      <td>Data Science</td>\n",
       "    </tr>\n",
       "    <tr>\n",
       "      <th>28</th>\n",
       "      <td>análise</td>\n",
       "      <td>50</td>\n",
       "      <td>Data Science</td>\n",
       "    </tr>\n",
       "    <tr>\n",
       "      <th>227</th>\n",
       "      <td>rad</td>\n",
       "      <td>45</td>\n",
       "      <td>Development Methodologies</td>\n",
       "    </tr>\n",
       "    <tr>\n",
       "      <th>139</th>\n",
       "      <td>ord</td>\n",
       "      <td>28</td>\n",
       "      <td>Databases</td>\n",
       "    </tr>\n",
       "    <tr>\n",
       "      <th>275</th>\n",
       "      <td>vim</td>\n",
       "      <td>26</td>\n",
       "      <td>Tools</td>\n",
       "    </tr>\n",
       "    <tr>\n",
       "      <th>140</th>\n",
       "      <td>sql</td>\n",
       "      <td>26</td>\n",
       "      <td>Databases</td>\n",
       "    </tr>\n",
       "    <tr>\n",
       "      <th>228</th>\n",
       "      <td>rup</td>\n",
       "      <td>11</td>\n",
       "      <td>Development Methodologies</td>\n",
       "    </tr>\n",
       "    <tr>\n",
       "      <th>248</th>\n",
       "      <td>sap</td>\n",
       "      <td>10</td>\n",
       "      <td>Project Management</td>\n",
       "    </tr>\n",
       "    <tr>\n",
       "      <th>249</th>\n",
       "      <td>análise financeira</td>\n",
       "      <td>8</td>\n",
       "      <td>Project Management</td>\n",
       "    </tr>\n",
       "    <tr>\n",
       "      <th>29</th>\n",
       "      <td>tableau</td>\n",
       "      <td>7</td>\n",
       "      <td>Data Science</td>\n",
       "    </tr>\n",
       "    <tr>\n",
       "      <th>0</th>\n",
       "      <td>python</td>\n",
       "      <td>6</td>\n",
       "      <td>Back-end Technologies Python</td>\n",
       "    </tr>\n",
       "    <tr>\n",
       "      <th>30</th>\n",
       "      <td>matemática</td>\n",
       "      <td>5</td>\n",
       "      <td>Data Science</td>\n",
       "    </tr>\n",
       "    <tr>\n",
       "      <th>276</th>\n",
       "      <td>hiera</td>\n",
       "      <td>4</td>\n",
       "      <td>Tools</td>\n",
       "    </tr>\n",
       "    <tr>\n",
       "      <th>31</th>\n",
       "      <td>análise de dados</td>\n",
       "      <td>4</td>\n",
       "      <td>Data Science</td>\n",
       "    </tr>\n",
       "    <tr>\n",
       "      <th>250</th>\n",
       "      <td>gerenciamento de projetos</td>\n",
       "      <td>3</td>\n",
       "      <td>Project Management</td>\n",
       "    </tr>\n",
       "    <tr>\n",
       "      <th>141</th>\n",
       "      <td>ssas</td>\n",
       "      <td>3</td>\n",
       "      <td>Databases</td>\n",
       "    </tr>\n",
       "    <tr>\n",
       "      <th>251</th>\n",
       "      <td>escopo</td>\n",
       "      <td>2</td>\n",
       "      <td>Project Management</td>\n",
       "    </tr>\n",
       "    <tr>\n",
       "      <th>142</th>\n",
       "      <td>banco de dados</td>\n",
       "      <td>2</td>\n",
       "      <td>Databases</td>\n",
       "    </tr>\n",
       "    <tr>\n",
       "      <th>278</th>\n",
       "      <td>git</td>\n",
       "      <td>2</td>\n",
       "      <td>Tools</td>\n",
       "    </tr>\n",
       "    <tr>\n",
       "      <th>277</th>\n",
       "      <td>nsis</td>\n",
       "      <td>2</td>\n",
       "      <td>Tools</td>\n",
       "    </tr>\n",
       "    <tr>\n",
       "      <th>32</th>\n",
       "      <td>hyper</td>\n",
       "      <td>2</td>\n",
       "      <td>Data Science</td>\n",
       "    </tr>\n",
       "    <tr>\n",
       "      <th>33</th>\n",
       "      <td>visio</td>\n",
       "      <td>2</td>\n",
       "      <td>Data Science</td>\n",
       "    </tr>\n",
       "    <tr>\n",
       "      <th>34</th>\n",
       "      <td>armazenamento de dados</td>\n",
       "      <td>2</td>\n",
       "      <td>Data Science</td>\n",
       "    </tr>\n",
       "    <tr>\n",
       "      <th>252</th>\n",
       "      <td>roteiro</td>\n",
       "      <td>1</td>\n",
       "      <td>Project Management</td>\n",
       "    </tr>\n",
       "    <tr>\n",
       "      <th>279</th>\n",
       "      <td>apex</td>\n",
       "      <td>1</td>\n",
       "      <td>Tools</td>\n",
       "    </tr>\n",
       "    <tr>\n",
       "      <th>253</th>\n",
       "      <td>pmo</td>\n",
       "      <td>1</td>\n",
       "      <td>Project Management</td>\n",
       "    </tr>\n",
       "    <tr>\n",
       "      <th>41</th>\n",
       "      <td>aprendizado de máquina</td>\n",
       "      <td>1</td>\n",
       "      <td>Data Science</td>\n",
       "    </tr>\n",
       "    <tr>\n",
       "      <th>40</th>\n",
       "      <td>airflow</td>\n",
       "      <td>1</td>\n",
       "      <td>Data Science</td>\n",
       "    </tr>\n",
       "    <tr>\n",
       "      <th>35</th>\n",
       "      <td>big data</td>\n",
       "      <td>1</td>\n",
       "      <td>Data Science</td>\n",
       "    </tr>\n",
       "    <tr>\n",
       "      <th>36</th>\n",
       "      <td>visualização de dados</td>\n",
       "      <td>1</td>\n",
       "      <td>Data Science</td>\n",
       "    </tr>\n",
       "    <tr>\n",
       "      <th>37</th>\n",
       "      <td>ciência de dados</td>\n",
       "      <td>1</td>\n",
       "      <td>Data Science</td>\n",
       "    </tr>\n",
       "    <tr>\n",
       "      <th>38</th>\n",
       "      <td>análise quantitativa</td>\n",
       "      <td>1</td>\n",
       "      <td>Data Science</td>\n",
       "    </tr>\n",
       "    <tr>\n",
       "      <th>39</th>\n",
       "      <td>classificação</td>\n",
       "      <td>1</td>\n",
       "      <td>Data Science</td>\n",
       "    </tr>\n",
       "    <tr>\n",
       "      <th>144</th>\n",
       "      <td>pipeline de dados</td>\n",
       "      <td>1</td>\n",
       "      <td>Databases</td>\n",
       "    </tr>\n",
       "    <tr>\n",
       "      <th>143</th>\n",
       "      <td>hana</td>\n",
       "      <td>1</td>\n",
       "      <td>Databases</td>\n",
       "    </tr>\n",
       "    <tr>\n",
       "      <th>280</th>\n",
       "      <td>trac</td>\n",
       "      <td>1</td>\n",
       "      <td>Tools</td>\n",
       "    </tr>\n",
       "  </tbody>\n",
       "</table>\n",
       "</div>"
      ],
      "text/plain": [
       "                     techskill  skill_count                   category_en\n",
       "274                         vi           85                         Tools\n",
       "26                       excel           62                  Data Science\n",
       "27                         sas           52                  Data Science\n",
       "28                     análise           50                  Data Science\n",
       "227                        rad           45     Development Methodologies\n",
       "139                        ord           28                     Databases\n",
       "275                        vim           26                         Tools\n",
       "140                        sql           26                     Databases\n",
       "228                        rup           11     Development Methodologies\n",
       "248                        sap           10            Project Management\n",
       "249         análise financeira            8            Project Management\n",
       "29                     tableau            7                  Data Science\n",
       "0                       python            6  Back-end Technologies Python\n",
       "30                  matemática            5                  Data Science\n",
       "276                      hiera            4                         Tools\n",
       "31            análise de dados            4                  Data Science\n",
       "250  gerenciamento de projetos            3            Project Management\n",
       "141                       ssas            3                     Databases\n",
       "251                     escopo            2            Project Management\n",
       "142             banco de dados            2                     Databases\n",
       "278                        git            2                         Tools\n",
       "277                       nsis            2                         Tools\n",
       "32                       hyper            2                  Data Science\n",
       "33                       visio            2                  Data Science\n",
       "34      armazenamento de dados            2                  Data Science\n",
       "252                    roteiro            1            Project Management\n",
       "279                       apex            1                         Tools\n",
       "253                        pmo            1            Project Management\n",
       "41      aprendizado de máquina            1                  Data Science\n",
       "40                     airflow            1                  Data Science\n",
       "35                    big data            1                  Data Science\n",
       "36       visualização de dados            1                  Data Science\n",
       "37            ciência de dados            1                  Data Science\n",
       "38        análise quantitativa            1                  Data Science\n",
       "39               classificação            1                  Data Science\n",
       "144          pipeline de dados            1                     Databases\n",
       "143                       hana            1                     Databases\n",
       "280                       trac            1                         Tools"
      ]
     },
     "execution_count": 186,
     "metadata": {},
     "output_type": "execute_result"
    }
   ],
   "source": [
    "df_all_techskill_final"
   ]
  }
 ],
 "metadata": {
  "interpreter": {
   "hash": "67ec7ba3d9b86346e9fbef625ddb015493eed4412d6f732feacd0f4e49252ef8"
  },
  "kernelspec": {
   "display_name": "Python 3.8.8 64-bit",
   "name": "python3"
  },
  "language_info": {
   "codemirror_mode": {
    "name": "ipython",
    "version": 3
   },
   "file_extension": ".py",
   "mimetype": "text/x-python",
   "name": "python",
   "nbconvert_exporter": "python",
   "pygments_lexer": "ipython3",
   "version": "3.8.8"
  },
  "orig_nbformat": 4
 },
 "nbformat": 4,
 "nbformat_minor": 2
}
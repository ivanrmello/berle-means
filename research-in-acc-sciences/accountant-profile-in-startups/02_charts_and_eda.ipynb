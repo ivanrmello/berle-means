{
 "cells": [
  {
   "cell_type": "code",
   "execution_count": 77,
   "source": [
    "import matplotlib.pyplot as plt\r\n",
    "plt.rcParams.update({'font.family':'Times New Roman'})\r\n",
    "import seaborn as sns\r\n",
    "import pandas as pd\r\n",
    "import numpy as np"
   ],
   "outputs": [],
   "metadata": {}
  },
  {
   "cell_type": "code",
   "execution_count": 10,
   "source": [
    "dframe = pd.read_csv('dframe_jobs_processed.csv', sep='|', encoding='UTF-16')\r\n",
    "dframe['responsabilities_and_other_details'] = (dframe['job_main_responsabilities_pt_processed'] + dframe['job_other_details_pt_processed']).str.strip()"
   ],
   "outputs": [],
   "metadata": {}
  },
  {
   "cell_type": "code",
   "execution_count": 11,
   "source": [
    "dframe.head()"
   ],
   "outputs": [
    {
     "output_type": "execute_result",
     "data": {
      "text/plain": [
       "  company_name job_area                                           job_link  \\\n",
       "0           99  Finance  https://carreiras.99app.com/jobdetail/?vagaid=...   \n",
       "1           99  Finance  https://carreiras.99app.com/jobdetail/?vagaid=...   \n",
       "2           99  Finance  https://carreiras.99app.com/jobdetail/?vagaid=...   \n",
       "3           99  Finance  https://carreiras.99app.com/jobdetail/?vagaid=...   \n",
       "4           99  Finance  https://carreiras.99app.com/jobdetail/?vagaid=...   \n",
       "\n",
       "  job_extraction_timestamp                     job_title job_location  \\\n",
       "0  2021-06-27 11:38:13.363  Finance and Planning Manager       Brazil   \n",
       "1  2021-06-27 11:42:08.465      Finance Business Partner     Colombia   \n",
       "2  2021-06-27 11:44:29.556               Finance Manager       Mexico   \n",
       "3  2021-06-27 11:46:47.127          Finance Manager FP&A       Mexico   \n",
       "4  2021-06-27 11:49:03.129        Finance Senior Manager       Mexico   \n",
       "\n",
       "                           job_main_responsabilities  \\\n",
       "0  -Detailed analysis of P&L variances versus for...   \n",
       "1  Evaluate the end to end financial process for ...   \n",
       "2  1.       Financial Budget, Forecast, Closing, ...   \n",
       "3  1.       Financial Budget, Forecast, Closing, ...   \n",
       "4  1.       Financial Budget, Forecast, Closing, ...   \n",
       "\n",
       "                                   job_other_details  \\\n",
       "0  - Strong expertise managing budget, forecast, ...   \n",
       "1  University graduate in the domain of Finance, ...   \n",
       "2  The successful applicant:\\nUniversity graduate...   \n",
       "3  University graduate in Finance, Commerce or En...   \n",
       "4  University graduate in the domain of Finance, ...   \n",
       "\n",
       "  job_main_responsabilities_lang job_other_details_lang  \\\n",
       "0                             en                     en   \n",
       "1                             en                     en   \n",
       "2                             en                     en   \n",
       "3                             en                     en   \n",
       "4                             en                     en   \n",
       "\n",
       "                        job_main_responsabilities_pt  \\\n",
       "0  -Análise detalhada das variações de P&L versus...   \n",
       "1  Avalie o processo financeiro de ponta a ponta ...   \n",
       "2  1. Orçamento Financeiro, Previsão, Fechamento,...   \n",
       "3  1. Orçamento Financeiro, Forecast, Fechamento,...   \n",
       "4  1. Orçamento Financeiro, Previsão, Fechamento,...   \n",
       "\n",
       "                                job_other_details_pt  \\\n",
       "0  - Forte experiência em gerenciamento de orçame...   \n",
       "1  Graduação universitária no domínio de Finanças...   \n",
       "2  O candidato bem-sucedido: Graduado universitár...   \n",
       "3  Graduação universitária em Finanças, Comércio ...   \n",
       "4  Graduado universitário no domínio de Finanças,...   \n",
       "\n",
       "              job_main_responsabilities_pt_processed  \\\n",
       "0  análise detalhada das variações de p&l versus ...   \n",
       "1  avalie o processo financeiro de ponta a ponta ...   \n",
       "2  1 orçamento financeiro previsão fechamento con...   \n",
       "3  1 orçamento financeiro forecast fechamento con...   \n",
       "4  1 orçamento financeiro previsão fechamento con...   \n",
       "\n",
       "                      job_other_details_pt_processed      job_title_type  \\\n",
       "0  forte experiência em gerenciamento de orçament...  management_manager   \n",
       "1  graduação universitária no domínio de finanças...    business_partner   \n",
       "2  o candidato bemsucedido: graduado universitári...  management_manager   \n",
       "3  graduação universitária em finanças comércio o...  management_manager   \n",
       "4  graduado universitário no domínio de finanças ...  management_manager   \n",
       "\n",
       "    Macro_job_area                 responsabilities_and_other_details  \n",
       "0  Finance & Legal  análise detalhada das variações de p&l versus ...  \n",
       "1  Finance & Legal  avalie o processo financeiro de ponta a ponta ...  \n",
       "2  Finance & Legal  1 orçamento financeiro previsão fechamento con...  \n",
       "3  Finance & Legal  1 orçamento financeiro forecast fechamento con...  \n",
       "4  Finance & Legal  1 orçamento financeiro previsão fechamento con...  "
      ],
      "text/html": [
       "<div>\n",
       "<style scoped>\n",
       "    .dataframe tbody tr th:only-of-type {\n",
       "        vertical-align: middle;\n",
       "    }\n",
       "\n",
       "    .dataframe tbody tr th {\n",
       "        vertical-align: top;\n",
       "    }\n",
       "\n",
       "    .dataframe thead th {\n",
       "        text-align: right;\n",
       "    }\n",
       "</style>\n",
       "<table border=\"1\" class=\"dataframe\">\n",
       "  <thead>\n",
       "    <tr style=\"text-align: right;\">\n",
       "      <th></th>\n",
       "      <th>company_name</th>\n",
       "      <th>job_area</th>\n",
       "      <th>job_link</th>\n",
       "      <th>job_extraction_timestamp</th>\n",
       "      <th>job_title</th>\n",
       "      <th>job_location</th>\n",
       "      <th>job_main_responsabilities</th>\n",
       "      <th>job_other_details</th>\n",
       "      <th>job_main_responsabilities_lang</th>\n",
       "      <th>job_other_details_lang</th>\n",
       "      <th>job_main_responsabilities_pt</th>\n",
       "      <th>job_other_details_pt</th>\n",
       "      <th>job_main_responsabilities_pt_processed</th>\n",
       "      <th>job_other_details_pt_processed</th>\n",
       "      <th>job_title_type</th>\n",
       "      <th>Macro_job_area</th>\n",
       "      <th>responsabilities_and_other_details</th>\n",
       "    </tr>\n",
       "  </thead>\n",
       "  <tbody>\n",
       "    <tr>\n",
       "      <th>0</th>\n",
       "      <td>99</td>\n",
       "      <td>Finance</td>\n",
       "      <td>https://carreiras.99app.com/jobdetail/?vagaid=...</td>\n",
       "      <td>2021-06-27 11:38:13.363</td>\n",
       "      <td>Finance and Planning Manager</td>\n",
       "      <td>Brazil</td>\n",
       "      <td>-Detailed analysis of P&amp;L variances versus for...</td>\n",
       "      <td>- Strong expertise managing budget, forecast, ...</td>\n",
       "      <td>en</td>\n",
       "      <td>en</td>\n",
       "      <td>-Análise detalhada das variações de P&amp;L versus...</td>\n",
       "      <td>- Forte experiência em gerenciamento de orçame...</td>\n",
       "      <td>análise detalhada das variações de p&amp;l versus ...</td>\n",
       "      <td>forte experiência em gerenciamento de orçament...</td>\n",
       "      <td>management_manager</td>\n",
       "      <td>Finance &amp; Legal</td>\n",
       "      <td>análise detalhada das variações de p&amp;l versus ...</td>\n",
       "    </tr>\n",
       "    <tr>\n",
       "      <th>1</th>\n",
       "      <td>99</td>\n",
       "      <td>Finance</td>\n",
       "      <td>https://carreiras.99app.com/jobdetail/?vagaid=...</td>\n",
       "      <td>2021-06-27 11:42:08.465</td>\n",
       "      <td>Finance Business Partner</td>\n",
       "      <td>Colombia</td>\n",
       "      <td>Evaluate the end to end financial process for ...</td>\n",
       "      <td>University graduate in the domain of Finance, ...</td>\n",
       "      <td>en</td>\n",
       "      <td>en</td>\n",
       "      <td>Avalie o processo financeiro de ponta a ponta ...</td>\n",
       "      <td>Graduação universitária no domínio de Finanças...</td>\n",
       "      <td>avalie o processo financeiro de ponta a ponta ...</td>\n",
       "      <td>graduação universitária no domínio de finanças...</td>\n",
       "      <td>business_partner</td>\n",
       "      <td>Finance &amp; Legal</td>\n",
       "      <td>avalie o processo financeiro de ponta a ponta ...</td>\n",
       "    </tr>\n",
       "    <tr>\n",
       "      <th>2</th>\n",
       "      <td>99</td>\n",
       "      <td>Finance</td>\n",
       "      <td>https://carreiras.99app.com/jobdetail/?vagaid=...</td>\n",
       "      <td>2021-06-27 11:44:29.556</td>\n",
       "      <td>Finance Manager</td>\n",
       "      <td>Mexico</td>\n",
       "      <td>1.       Financial Budget, Forecast, Closing, ...</td>\n",
       "      <td>The successful applicant:\\nUniversity graduate...</td>\n",
       "      <td>en</td>\n",
       "      <td>en</td>\n",
       "      <td>1. Orçamento Financeiro, Previsão, Fechamento,...</td>\n",
       "      <td>O candidato bem-sucedido: Graduado universitár...</td>\n",
       "      <td>1 orçamento financeiro previsão fechamento con...</td>\n",
       "      <td>o candidato bemsucedido: graduado universitári...</td>\n",
       "      <td>management_manager</td>\n",
       "      <td>Finance &amp; Legal</td>\n",
       "      <td>1 orçamento financeiro previsão fechamento con...</td>\n",
       "    </tr>\n",
       "    <tr>\n",
       "      <th>3</th>\n",
       "      <td>99</td>\n",
       "      <td>Finance</td>\n",
       "      <td>https://carreiras.99app.com/jobdetail/?vagaid=...</td>\n",
       "      <td>2021-06-27 11:46:47.127</td>\n",
       "      <td>Finance Manager FP&amp;A</td>\n",
       "      <td>Mexico</td>\n",
       "      <td>1.       Financial Budget, Forecast, Closing, ...</td>\n",
       "      <td>University graduate in Finance, Commerce or En...</td>\n",
       "      <td>en</td>\n",
       "      <td>en</td>\n",
       "      <td>1. Orçamento Financeiro, Forecast, Fechamento,...</td>\n",
       "      <td>Graduação universitária em Finanças, Comércio ...</td>\n",
       "      <td>1 orçamento financeiro forecast fechamento con...</td>\n",
       "      <td>graduação universitária em finanças comércio o...</td>\n",
       "      <td>management_manager</td>\n",
       "      <td>Finance &amp; Legal</td>\n",
       "      <td>1 orçamento financeiro forecast fechamento con...</td>\n",
       "    </tr>\n",
       "    <tr>\n",
       "      <th>4</th>\n",
       "      <td>99</td>\n",
       "      <td>Finance</td>\n",
       "      <td>https://carreiras.99app.com/jobdetail/?vagaid=...</td>\n",
       "      <td>2021-06-27 11:49:03.129</td>\n",
       "      <td>Finance Senior Manager</td>\n",
       "      <td>Mexico</td>\n",
       "      <td>1.       Financial Budget, Forecast, Closing, ...</td>\n",
       "      <td>University graduate in the domain of Finance, ...</td>\n",
       "      <td>en</td>\n",
       "      <td>en</td>\n",
       "      <td>1. Orçamento Financeiro, Previsão, Fechamento,...</td>\n",
       "      <td>Graduado universitário no domínio de Finanças,...</td>\n",
       "      <td>1 orçamento financeiro previsão fechamento con...</td>\n",
       "      <td>graduado universitário no domínio de finanças ...</td>\n",
       "      <td>management_manager</td>\n",
       "      <td>Finance &amp; Legal</td>\n",
       "      <td>1 orçamento financeiro previsão fechamento con...</td>\n",
       "    </tr>\n",
       "  </tbody>\n",
       "</table>\n",
       "</div>"
      ]
     },
     "metadata": {},
     "execution_count": 11
    }
   ],
   "metadata": {}
  },
  {
   "cell_type": "markdown",
   "source": [
    "Let's start plotting!"
   ],
   "metadata": {}
  },
  {
   "cell_type": "code",
   "execution_count": 12,
   "source": [
    "dframe_location_and_language = dframe.groupby(['job_location'],as_index=False)['job_extraction_timestamp'].count()\r\n",
    "dframe_location_and_language.columns = ['Location','Qty']\r\n",
    "dframe_location_and_language = dframe_location_and_language.sort_values('Qty',ascending=True)"
   ],
   "outputs": [],
   "metadata": {}
  },
  {
   "cell_type": "code",
   "execution_count": 32,
   "source": [
    "plt.figure(figsize=(8,4), tight_layout=True)\r\n",
    "colors = sns.color_palette('pastel')\r\n",
    "plt.barh(dframe_location_and_language['Location'], dframe_location_and_language['Qty'], color=colors)\r\n",
    "plt.xlabel('Quantidade de vagas')\r\n",
    "plt.ylabel('Localidade')\r\n",
    "plt.title('Vagas - por localidade')\r\n",
    "plt.show()"
   ],
   "outputs": [
    {
     "output_type": "display_data",
     "data": {
      "text/plain": [
       "<Figure size 800x400 with 1 Axes>"
      ],
      "image/png": "[encoded data removed]"
     },
     "metadata": {}
    }
   ],
   "metadata": {}
  },
  {
   "cell_type": "code",
   "execution_count": 14,
   "source": [
    "dframe_job_title_type = dframe.groupby(['job_title_type'],as_index=False)['job_extraction_timestamp'].count()\r\n",
    "dframe_job_title_type.columns = ['Job Title Type','Qty']\r\n",
    "dframe_job_title_type = dframe_job_title_type.sort_values('Qty',ascending=True).reset_index()"
   ],
   "outputs": [],
   "metadata": {}
  },
  {
   "cell_type": "code",
   "execution_count": 15,
   "source": [
    "dframe_job_title_type"
   ],
   "outputs": [
    {
     "output_type": "execute_result",
     "data": {
      "text/plain": [
       "    index         Job Title Type  Qty\n",
       "0       0       business_partner    1\n",
       "1       2  management_controller    1\n",
       "2       4    management_director    1\n",
       "3       5        management_head    1\n",
       "4       1       intern/assistant    5\n",
       "5       3       management_coord    6\n",
       "6      10             specialist    9\n",
       "7       8         operational_PL   13\n",
       "8       6     management_manager   19\n",
       "9       9         operational_SR   21\n",
       "10      7         operational_JR   23"
      ],
      "text/html": [
       "<div>\n",
       "<style scoped>\n",
       "    .dataframe tbody tr th:only-of-type {\n",
       "        vertical-align: middle;\n",
       "    }\n",
       "\n",
       "    .dataframe tbody tr th {\n",
       "        vertical-align: top;\n",
       "    }\n",
       "\n",
       "    .dataframe thead th {\n",
       "        text-align: right;\n",
       "    }\n",
       "</style>\n",
       "<table border=\"1\" class=\"dataframe\">\n",
       "  <thead>\n",
       "    <tr style=\"text-align: right;\">\n",
       "      <th></th>\n",
       "      <th>index</th>\n",
       "      <th>Job Title Type</th>\n",
       "      <th>Qty</th>\n",
       "    </tr>\n",
       "  </thead>\n",
       "  <tbody>\n",
       "    <tr>\n",
       "      <th>0</th>\n",
       "      <td>0</td>\n",
       "      <td>business_partner</td>\n",
       "      <td>1</td>\n",
       "    </tr>\n",
       "    <tr>\n",
       "      <th>1</th>\n",
       "      <td>2</td>\n",
       "      <td>management_controller</td>\n",
       "      <td>1</td>\n",
       "    </tr>\n",
       "    <tr>\n",
       "      <th>2</th>\n",
       "      <td>4</td>\n",
       "      <td>management_director</td>\n",
       "      <td>1</td>\n",
       "    </tr>\n",
       "    <tr>\n",
       "      <th>3</th>\n",
       "      <td>5</td>\n",
       "      <td>management_head</td>\n",
       "      <td>1</td>\n",
       "    </tr>\n",
       "    <tr>\n",
       "      <th>4</th>\n",
       "      <td>1</td>\n",
       "      <td>intern/assistant</td>\n",
       "      <td>5</td>\n",
       "    </tr>\n",
       "    <tr>\n",
       "      <th>5</th>\n",
       "      <td>3</td>\n",
       "      <td>management_coord</td>\n",
       "      <td>6</td>\n",
       "    </tr>\n",
       "    <tr>\n",
       "      <th>6</th>\n",
       "      <td>10</td>\n",
       "      <td>specialist</td>\n",
       "      <td>9</td>\n",
       "    </tr>\n",
       "    <tr>\n",
       "      <th>7</th>\n",
       "      <td>8</td>\n",
       "      <td>operational_PL</td>\n",
       "      <td>13</td>\n",
       "    </tr>\n",
       "    <tr>\n",
       "      <th>8</th>\n",
       "      <td>6</td>\n",
       "      <td>management_manager</td>\n",
       "      <td>19</td>\n",
       "    </tr>\n",
       "    <tr>\n",
       "      <th>9</th>\n",
       "      <td>9</td>\n",
       "      <td>operational_SR</td>\n",
       "      <td>21</td>\n",
       "    </tr>\n",
       "    <tr>\n",
       "      <th>10</th>\n",
       "      <td>7</td>\n",
       "      <td>operational_JR</td>\n",
       "      <td>23</td>\n",
       "    </tr>\n",
       "  </tbody>\n",
       "</table>\n",
       "</div>"
      ]
     },
     "metadata": {},
     "execution_count": 15
    }
   ],
   "metadata": {}
  },
  {
   "cell_type": "code",
   "execution_count": 16,
   "source": [
    "plt.figure(figsize=(8,4), tight_layout=True)\r\n",
    "colors = sns.color_palette(\"pastel\")\r\n",
    "plt.barh(dframe_job_title_type['Job Title Type'], dframe_job_title_type['Qty'], color=colors)\r\n",
    "plt.xlabel('Quantidade de vagas')\r\n",
    "plt.ylabel('Tipo de cargo')\r\n",
    "plt.title('Vagas - por tipo de cargo', loc='left')\r\n",
    "plt.show()"
   ],
   "outputs": [
    {
     "output_type": "display_data",
     "data": {
      "text/plain": [
       "<Figure size 800x400 with 1 Axes>"
      ],
      "image/png": "[encoded data removed]"
     },
     "metadata": {}
    }
   ],
   "metadata": {}
  },
  {
   "cell_type": "code",
   "execution_count": 17,
   "source": [
    "dframe_job_lang = dframe.groupby(['job_main_responsabilities_lang'],as_index=False)['job_extraction_timestamp'].count()\r\n",
    "dframe_job_lang.columns = ['Language of the job posted','Qty']\r\n",
    "dframe_job_lang = dframe_job_lang.sort_values('Qty',ascending=False).reset_index()"
   ],
   "outputs": [],
   "metadata": {}
  },
  {
   "cell_type": "code",
   "execution_count": 18,
   "source": [
    "dframe_job_lang"
   ],
   "outputs": [
    {
     "output_type": "execute_result",
     "data": {
      "text/plain": [
       "   index Language of the job posted  Qty\n",
       "0      2                         pt   58\n",
       "1      0                         en   41\n",
       "2      1                         es    1"
      ],
      "text/html": [
       "<div>\n",
       "<style scoped>\n",
       "    .dataframe tbody tr th:only-of-type {\n",
       "        vertical-align: middle;\n",
       "    }\n",
       "\n",
       "    .dataframe tbody tr th {\n",
       "        vertical-align: top;\n",
       "    }\n",
       "\n",
       "    .dataframe thead th {\n",
       "        text-align: right;\n",
       "    }\n",
       "</style>\n",
       "<table border=\"1\" class=\"dataframe\">\n",
       "  <thead>\n",
       "    <tr style=\"text-align: right;\">\n",
       "      <th></th>\n",
       "      <th>index</th>\n",
       "      <th>Language of the job posted</th>\n",
       "      <th>Qty</th>\n",
       "    </tr>\n",
       "  </thead>\n",
       "  <tbody>\n",
       "    <tr>\n",
       "      <th>0</th>\n",
       "      <td>2</td>\n",
       "      <td>pt</td>\n",
       "      <td>58</td>\n",
       "    </tr>\n",
       "    <tr>\n",
       "      <th>1</th>\n",
       "      <td>0</td>\n",
       "      <td>en</td>\n",
       "      <td>41</td>\n",
       "    </tr>\n",
       "    <tr>\n",
       "      <th>2</th>\n",
       "      <td>1</td>\n",
       "      <td>es</td>\n",
       "      <td>1</td>\n",
       "    </tr>\n",
       "  </tbody>\n",
       "</table>\n",
       "</div>"
      ]
     },
     "metadata": {},
     "execution_count": 18
    }
   ],
   "metadata": {}
  },
  {
   "cell_type": "code",
   "execution_count": 19,
   "source": [
    "colors = sns.color_palette('pastel')\r\n",
    "plt.figure(figsize=(7, 6), tight_layout=True)\r\n",
    "plt.pie(dframe_job_lang['Qty'], pctdistance=.7, autopct='%.0f %%',\r\n",
    "          colors=colors, shadow=True)\r\n",
    "plt.title('Vagas - por idioma do anúncio', loc='left')\r\n",
    "plt.legend(['pt - português','en - inglês', 'es - espanhol'])\r\n",
    "plt.show()"
   ],
   "outputs": [
    {
     "output_type": "display_data",
     "data": {
      "text/plain": [
       "<Figure size 700x600 with 1 Axes>"
      ],
      "image/png": "[encoded data removed]"
     },
     "metadata": {}
    }
   ],
   "metadata": {}
  },
  {
   "cell_type": "code",
   "execution_count": 20,
   "source": [
    "dframe_macro_job_area = dframe.groupby(['Macro_job_area'],as_index=False)['job_extraction_timestamp'].count()\r\n",
    "dframe_macro_job_area.columns = ['Macro Job Area','Qty']\r\n",
    "dframe_macro_job_area = dframe_macro_job_area.sort_values('Qty',ascending=True).reset_index()"
   ],
   "outputs": [],
   "metadata": {}
  },
  {
   "cell_type": "code",
   "execution_count": 21,
   "source": [
    "dframe_macro_job_area"
   ],
   "outputs": [
    {
     "output_type": "execute_result",
     "data": {
      "text/plain": [
       "   index                     Macro Job Area  Qty\n",
       "0      1                Accounts Receivable    1\n",
       "1      7                           Treasury    1\n",
       "2      3                             Credit    3\n",
       "3      5              Fraud & Investigation    4\n",
       "4      6                              Taxes    5\n",
       "5      2           Audit, Risk & Compliance    9\n",
       "6      0  Accounting, Controllership & FP&A   15\n",
       "7      4                    Finance & Legal   62"
      ],
      "text/html": [
       "<div>\n",
       "<style scoped>\n",
       "    .dataframe tbody tr th:only-of-type {\n",
       "        vertical-align: middle;\n",
       "    }\n",
       "\n",
       "    .dataframe tbody tr th {\n",
       "        vertical-align: top;\n",
       "    }\n",
       "\n",
       "    .dataframe thead th {\n",
       "        text-align: right;\n",
       "    }\n",
       "</style>\n",
       "<table border=\"1\" class=\"dataframe\">\n",
       "  <thead>\n",
       "    <tr style=\"text-align: right;\">\n",
       "      <th></th>\n",
       "      <th>index</th>\n",
       "      <th>Macro Job Area</th>\n",
       "      <th>Qty</th>\n",
       "    </tr>\n",
       "  </thead>\n",
       "  <tbody>\n",
       "    <tr>\n",
       "      <th>0</th>\n",
       "      <td>1</td>\n",
       "      <td>Accounts Receivable</td>\n",
       "      <td>1</td>\n",
       "    </tr>\n",
       "    <tr>\n",
       "      <th>1</th>\n",
       "      <td>7</td>\n",
       "      <td>Treasury</td>\n",
       "      <td>1</td>\n",
       "    </tr>\n",
       "    <tr>\n",
       "      <th>2</th>\n",
       "      <td>3</td>\n",
       "      <td>Credit</td>\n",
       "      <td>3</td>\n",
       "    </tr>\n",
       "    <tr>\n",
       "      <th>3</th>\n",
       "      <td>5</td>\n",
       "      <td>Fraud &amp; Investigation</td>\n",
       "      <td>4</td>\n",
       "    </tr>\n",
       "    <tr>\n",
       "      <th>4</th>\n",
       "      <td>6</td>\n",
       "      <td>Taxes</td>\n",
       "      <td>5</td>\n",
       "    </tr>\n",
       "    <tr>\n",
       "      <th>5</th>\n",
       "      <td>2</td>\n",
       "      <td>Audit, Risk &amp; Compliance</td>\n",
       "      <td>9</td>\n",
       "    </tr>\n",
       "    <tr>\n",
       "      <th>6</th>\n",
       "      <td>0</td>\n",
       "      <td>Accounting, Controllership &amp; FP&amp;A</td>\n",
       "      <td>15</td>\n",
       "    </tr>\n",
       "    <tr>\n",
       "      <th>7</th>\n",
       "      <td>4</td>\n",
       "      <td>Finance &amp; Legal</td>\n",
       "      <td>62</td>\n",
       "    </tr>\n",
       "  </tbody>\n",
       "</table>\n",
       "</div>"
      ]
     },
     "metadata": {},
     "execution_count": 21
    }
   ],
   "metadata": {}
  },
  {
   "cell_type": "code",
   "execution_count": 79,
   "source": [
    "#Plotting all charts together\r\n",
    "fig, ax = plt.subplots(2,2, figsize=(12.5,5))\r\n",
    "\r\n",
    "ax[0,0].barh(dframe_location_and_language['Location'], dframe_location_and_language['Qty'], color=colors)\r\n",
    "ax[0,0].title.set_text('A) Localidade das vagas')\r\n",
    "ax[1,0].pie(dframe_job_lang['Qty'], labels=dframe_job_lang['Language of the job posted'], pctdistance=.7, autopct='%.0f %%',\r\n",
    "          colors=colors, shadow=True)\r\n",
    "ax[1,0].title.set_text('B) Idioma de publicação das vagas')\r\n",
    "ax[0,1].barh(dframe_job_title_type['Job Title Type'], dframe_job_title_type['Qty'], color=colors)\r\n",
    "ax[0,1].title.set_text('C) Natureza e senioridade das vagas')\r\n",
    "ax[1,1].barh(dframe_macro_job_area['Macro Job Area'], dframe_macro_job_area['Qty'], color=colors)\r\n",
    "ax[1,1].title.set_text('D) Departamento das vagas')\r\n",
    "\r\n",
    "plt.tight_layout()\r\n",
    "ax[0,0].grid()\r\n",
    "ax[0,1].grid()\r\n",
    "ax[1,1].grid()\r\n",
    "plt.show()"
   ],
   "outputs": [
    {
     "output_type": "display_data",
     "data": {
      "text/plain": [
       "<Figure size 1250x500 with 4 Axes>"
      ],
      "image/png": "[encoded data removed]"
     },
     "metadata": {}
    }
   ],
   "metadata": {}
  },
  {
   "cell_type": "code",
   "execution_count": null,
   "source": [
    "\"\"\"plt.figure(figsize=(8,4), tight_layout=True)\r\n",
    "colors = sns.color_palette(\"pastel\")\r\n",
    "plt.barh(dframe_macro_job_area['Macro Job Area'], dframe_macro_job_area['Qty'], color=colors)\r\n",
    "plt.xlabel('Quantidade')\r\n",
    "plt.title('Figura 3 - Vagas por área', loc='left')\r\n",
    "\r\n",
    "plt.figure(figsize=(8,4), tight_layout=True)\r\n",
    "colors = sns.color_palette(\"pastel\")\r\n",
    "plt.barh(dframe_job_title_type['Job Title Type'], dframe_job_title_type['Qty'], color=colors)\r\n",
    "plt.xlabel('Quantidade de vagas')\r\n",
    "plt.title('Figura 4 - Vagas por tipo de cargo', loc='left')\r\n",
    "\r\n",
    "colors = sns.color_palette('pastel')\r\n",
    "plt.figure(figsize=(7, 6), tight_layout=True)\r\n",
    "plt.pie(dframe_job_lang['Qty'], pctdistance=.7, autopct='%.0f %%',\r\n",
    "          colors=colors, shadow=True)\r\n",
    "plt.title('Figura 5 - Vagas por idioma do anúncio', loc='left')\r\n",
    "plt.legend(['pt - português','en - inglês', 'es - espanhol'])"
   ],
   "outputs": [],
   "metadata": {}
  },
  {
   "cell_type": "code",
   "execution_count": 122,
   "source": [
    "dframe_tech_skills = pd.read_excel('glossary_tech_manually_reviewed.xlsx', sheet_name='glossary_tech_processed_final')\r\n",
    "dframe_tech_skills['skill_pt_processed_len'] = dframe_tech_skills['skill_pt_processed'].apply(lambda x: len(x.strip()))\r\n",
    "dframe_tech_skills['skill_pt_processed'] = dframe_tech_skills['skill_pt_processed'].apply(lambda x: x.strip())"
   ],
   "outputs": [],
   "metadata": {}
  },
  {
   "cell_type": "code",
   "execution_count": 123,
   "source": [
    "dframe_tech_skills.groupby(by=['category_en'], as_index=False)['skill_en'].count()"
   ],
   "outputs": [
    {
     "output_type": "execute_result",
     "data": {
      "text/plain": [
       "                    category_en  skill_en\n",
       "0  Back-end Technologies Python        26\n",
       "1                  Data Science       109\n",
       "2                     Databases        86\n",
       "3     Development Methodologies        19\n",
       "4            Project Management        26\n",
       "5                         Tools       200"
      ],
      "text/html": [
       "<div>\n",
       "<style scoped>\n",
       "    .dataframe tbody tr th:only-of-type {\n",
       "        vertical-align: middle;\n",
       "    }\n",
       "\n",
       "    .dataframe tbody tr th {\n",
       "        vertical-align: top;\n",
       "    }\n",
       "\n",
       "    .dataframe thead th {\n",
       "        text-align: right;\n",
       "    }\n",
       "</style>\n",
       "<table border=\"1\" class=\"dataframe\">\n",
       "  <thead>\n",
       "    <tr style=\"text-align: right;\">\n",
       "      <th></th>\n",
       "      <th>category_en</th>\n",
       "      <th>skill_en</th>\n",
       "    </tr>\n",
       "  </thead>\n",
       "  <tbody>\n",
       "    <tr>\n",
       "      <th>0</th>\n",
       "      <td>Back-end Technologies Python</td>\n",
       "      <td>26</td>\n",
       "    </tr>\n",
       "    <tr>\n",
       "      <th>1</th>\n",
       "      <td>Data Science</td>\n",
       "      <td>109</td>\n",
       "    </tr>\n",
       "    <tr>\n",
       "      <th>2</th>\n",
       "      <td>Databases</td>\n",
       "      <td>86</td>\n",
       "    </tr>\n",
       "    <tr>\n",
       "      <th>3</th>\n",
       "      <td>Development Methodologies</td>\n",
       "      <td>19</td>\n",
       "    </tr>\n",
       "    <tr>\n",
       "      <th>4</th>\n",
       "      <td>Project Management</td>\n",
       "      <td>26</td>\n",
       "    </tr>\n",
       "    <tr>\n",
       "      <th>5</th>\n",
       "      <td>Tools</td>\n",
       "      <td>200</td>\n",
       "    </tr>\n",
       "  </tbody>\n",
       "</table>\n",
       "</div>"
      ]
     },
     "metadata": {},
     "execution_count": 123
    }
   ],
   "metadata": {}
  },
  {
   "cell_type": "code",
   "execution_count": 124,
   "source": [
    "# For each IT skill, every term is splitted into single words, then all duplicates are removed, eg. apache avro & apache flink became only three single words 'apache', 'avro', and 'flink'\r\n",
    "\"\"\" bag_of_words_back_end_tech_python = list(dict.fromkeys([word for line in dframe_tech_skills.query(\"category_en=='Back-end Technologies Python'\")['skill_pt_processed'].str.strip().to_list() for word in line.split()]))\r\n",
    "bag_of_words_data_science = list(dict.fromkeys([word for line in dframe_tech_skills.query(\"category_en=='Data Science'\")['skill_pt_processed'].str.strip().to_list() for word in line.split()]))\r\n",
    "bag_of_words_databases = list(dict.fromkeys([word for line in dframe_tech_skills.query(\"category_en=='Databases'\")['skill_pt_processed'].str.strip().to_list() for word in line.split()]))\r\n",
    "bag_of_words_dev_metho = list(dict.fromkeys([word for line in dframe_tech_skills.query(\"category_en=='Development Methodologies'\")['skill_pt_processed'].str.strip().to_list() for word in line.split()]))\r\n",
    "bag_of_words_proj_manag = list(dict.fromkeys([word for line in dframe_tech_skills.query(\"category_en=='Project Management'\")['skill_pt_processed'].str.strip().to_list() for word in line.split()]))\r\n",
    "bag_of_words_tools = list(dict.fromkeys([word for line in dframe_tech_skills.query(\"category_en=='Tools'\")['skill_pt_processed'].str.strip().to_list() for word in line.split()])) \"\"\""
   ],
   "outputs": [
    {
     "output_type": "execute_result",
     "data": {
      "text/plain": [
       "' bag_of_words_back_end_tech_python = list(dict.fromkeys([word for line in dframe_tech_skills.query(\"category_en==\\'Back-end Technologies Python\\'\")[\\'skill_pt_processed\\'].str.strip().to_list() for word in line.split()]))\\nbag_of_words_data_science = list(dict.fromkeys([word for line in dframe_tech_skills.query(\"category_en==\\'Data Science\\'\")[\\'skill_pt_processed\\'].str.strip().to_list() for word in line.split()]))\\nbag_of_words_databases = list(dict.fromkeys([word for line in dframe_tech_skills.query(\"category_en==\\'Databases\\'\")[\\'skill_pt_processed\\'].str.strip().to_list() for word in line.split()]))\\nbag_of_words_dev_metho = list(dict.fromkeys([word for line in dframe_tech_skills.query(\"category_en==\\'Development Methodologies\\'\")[\\'skill_pt_processed\\'].str.strip().to_list() for word in line.split()]))\\nbag_of_words_proj_manag = list(dict.fromkeys([word for line in dframe_tech_skills.query(\"category_en==\\'Project Management\\'\")[\\'skill_pt_processed\\'].str.strip().to_list() for word in line.split()]))\\nbag_of_words_tools = list(dict.fromkeys([word for line in dframe_tech_skills.query(\"category_en==\\'Tools\\'\")[\\'skill_pt_processed\\'].str.strip().to_list() for word in line.split()])) '"
      ]
     },
     "metadata": {},
     "execution_count": 124
    }
   ],
   "metadata": {}
  },
  {
   "cell_type": "code",
   "execution_count": 125,
   "source": [
    "# For each IT skill, we use the term without spaces in the beginning or end, considering only terms with len higher than 3 ('sas' and 'causas' issue por example)\r\n",
    "bag_of_words_back_end_tech_python = dframe_tech_skills.query(\"category_en=='Back-end Technologies Python'\")['skill_pt_processed'].str.strip().to_list()\r\n",
    "bag_of_words_data_science = dframe_tech_skills.query(\"category_en=='Data Science'\")['skill_pt_processed'].str.strip().to_list()\r\n",
    "bag_of_words_databases = dframe_tech_skills.query(\"category_en=='Databases'\")['skill_pt_processed'].str.strip().to_list()\r\n",
    "bag_of_words_dev_metho = dframe_tech_skills.query(\"category_en=='Development Methodologies'\")['skill_pt_processed'].str.strip().to_list()\r\n",
    "bag_of_words_proj_manag = dframe_tech_skills.query(\"category_en=='Project Management'\")['skill_pt_processed'].str.strip().to_list()\r\n",
    "bag_of_words_tools = dframe_tech_skills.query(\"category_en=='Tools'\")['skill_pt_processed'].str.strip().to_list()\r\n",
    "bag_of_words_languages = ['inglês','espanhol','chinês','fluente']"
   ],
   "outputs": [],
   "metadata": {}
  },
  {
   "cell_type": "code",
   "execution_count": 227,
   "source": [
    "dframe['techskill_back_end_python'] = dframe['responsabilities_and_other_details'].apply(lambda x: any([k in x for k in bag_of_words_back_end_tech_python]))\r\n",
    "dframe['techskill_back_end_python_qty'] = dframe.responsabilities_and_other_details.str.count(r'\\b{}\\b'.format('|'.join(bag_of_words_back_end_tech_python)))\r\n",
    "dframe['techskill_back_end_python_analytic'] = dframe.responsabilities_and_other_details.str.findall(r'\\b{}\\b'.format('|'.join(bag_of_words_back_end_tech_python)))\r\n",
    "dframe['techskill_back_end_python_analytic'] = dframe['techskill_back_end_python_analytic'].apply(lambda x: list(set(x)))\r\n",
    "dframe['techskill_back_end_python_qty'] = dframe['techskill_back_end_python_analytic'].apply(lambda x: len(list(set(x))))\r\n",
    "\r\n",
    "\r\n",
    "dframe['techskill_data_science'] = dframe['responsabilities_and_other_details'].apply(lambda x: any([k in x for k in bag_of_words_data_science]))\r\n",
    "dframe['techskill_data_science_qty'] = dframe.responsabilities_and_other_details.str.count(r'\\b{}\\b'.format('|'.join(bag_of_words_data_science)))\r\n",
    "dframe['techskill_data_science_analytic'] = dframe.responsabilities_and_other_details.str.findall(r'\\b{}\\b'.format('|'.join(bag_of_words_data_science)))\r\n",
    "dframe['techskill_data_science_analytic'] = dframe['techskill_data_science_analytic'].apply(lambda x: list(set(x)))\r\n",
    "dframe['techskill_data_science_qty'] = dframe['techskill_data_science_analytic'].apply(lambda x: len(list(set(x))))\r\n",
    "\r\n",
    "dframe['techskill_databases'] = dframe['responsabilities_and_other_details'].apply(lambda x: any([k in x for k in bag_of_words_databases]))\r\n",
    "dframe['techskill_databases_qty'] = dframe.responsabilities_and_other_details.str.count(r'\\b{}\\b'.format('|'.join(bag_of_words_databases)))\r\n",
    "dframe['techskill_databases_analytic'] = dframe.responsabilities_and_other_details.str.findall(r'\\b{}\\b'.format('|'.join(bag_of_words_databases)))\r\n",
    "dframe['techskill_databases_analytic'] = dframe['techskill_databases_analytic'].apply(lambda x: list(set(x)))\r\n",
    "dframe['techskill_databases_qty'] = dframe['techskill_databases_analytic'].apply(lambda x: len(list(set(x))))\r\n",
    "\r\n",
    "\r\n",
    "dframe['techskill_devmetho'] = dframe['responsabilities_and_other_details'].apply(lambda x: any([k in x for k in bag_of_words_dev_metho]))\r\n",
    "dframe['techskill_devmetho_qty'] =  dframe.responsabilities_and_other_details.str.count(r'\\b{}\\b'.format('|'.join(bag_of_words_dev_metho)))\r\n",
    "dframe['techskill_devmetho_analytic'] = dframe.responsabilities_and_other_details.str.findall(r'\\b{}\\b'.format('|'.join(bag_of_words_dev_metho)))\r\n",
    "dframe['techskill_devmetho_analytic'] = dframe['techskill_devmetho_analytic'].apply(lambda x: list(set(x)))\r\n",
    "dframe['techskill_devmetho_qty'] = dframe['techskill_devmetho_analytic'].apply(lambda x: len(list(set(x))))\r\n",
    "\r\n",
    "\r\n",
    "dframe['techskill_proj_manag'] = dframe['responsabilities_and_other_details'].apply(lambda x: any([k in x for k in bag_of_words_proj_manag]))\r\n",
    "dframe['techskill_proj_manag_qty'] = dframe.responsabilities_and_other_details.str.count(r'\\b{}\\b'.format('|'.join(bag_of_words_proj_manag)))\r\n",
    "dframe['techskill_proj_manag_analytic'] = dframe.responsabilities_and_other_details.str.findall(r'\\b{}\\b'.format('|'.join(bag_of_words_proj_manag)))\r\n",
    "dframe['techskill_proj_manag_analytic'] = dframe['techskill_proj_manag_analytic'].apply(lambda x: list(set(x)))\r\n",
    "dframe['techskill_proj_manag_qty'] = dframe['techskill_proj_manag_analytic'].apply(lambda x: len(list(set(x))))\r\n",
    "\r\n",
    "\r\n",
    "dframe['techskill_tools'] = dframe['responsabilities_and_other_details'].apply(lambda x: any([k in x for k in bag_of_words_tools]))\r\n",
    "dframe['techskill_tools_qty'] = dframe.responsabilities_and_other_details.str.count(r'\\b{}\\b'.format('|'.join(bag_of_words_tools)))\r\n",
    "dframe['techskill_tools_analytic'] = dframe.responsabilities_and_other_details.str.findall(r'\\b{}\\b'.format('|'.join(bag_of_words_tools)))\r\n",
    "dframe['techskill_tools_analytic'] = dframe['techskill_tools_analytic'].apply(lambda x: list(set(x))) \r\n",
    "dframe['techskill_tools_qty'] = dframe['techskill_tools_analytic'].apply(lambda x: len(list(set(x))))\r\n",
    "\r\n",
    "dframe['languages'] = dframe['responsabilities_and_other_details'].apply(lambda x: any([k in x for k in bag_of_words_languages]))\r\n",
    "dframe['languages_qty'] = dframe.responsabilities_and_other_details.str.count(r'\\b{}\\b'.format('|'.join(bag_of_words_languages)))\r\n",
    "dframe['languages_analytic'] = dframe.responsabilities_and_other_details.str.findall(r'\\b{}\\b'.format('|'.join(bag_of_words_languages)))\r\n",
    "dframe['languages_analytic'] = dframe['languages_analytic'].apply(lambda x: str(list(set(x)))) \r\n",
    "dframe['languages_qty'] = dframe['languages_analytic'].apply(lambda x: len(list(set(x))))"
   ],
   "outputs": [],
   "metadata": {}
  },
  {
   "cell_type": "code",
   "execution_count": 127,
   "source": [
    "print(\"text fragment: '{}'\".format(dframe.iloc[0]['responsabilities_and_other_details'][540:595]))\r\n",
    "print(dframe.iloc[0][['techskill_data_science_qty','techskill_data_science_analytic']])"
   ],
   "outputs": [
    {
     "output_type": "stream",
     "name": "stdout",
     "text": [
      "text fragment: 'ios e impactos financeiros entendimento da raiz causas '\n",
      "techskill_data_science_qty                        2\n",
      "techskill_data_science_analytic    [análise, excel]\n",
      "Name: 0, dtype: object\n"
     ]
    }
   ],
   "metadata": {}
  },
  {
   "cell_type": "markdown",
   "source": [
    "There is a problem with 'sas' for example..."
   ],
   "metadata": {}
  },
  {
   "cell_type": "code",
   "execution_count": 128,
   "source": [
    "dframe.groupby(['techskill_back_end_python'])['company_name'].count()"
   ],
   "outputs": [
    {
     "output_type": "execute_result",
     "data": {
      "text/plain": [
       "techskill_back_end_python\n",
       "False    94\n",
       "True      6\n",
       "Name: company_name, dtype: int64"
      ]
     },
     "metadata": {},
     "execution_count": 128
    }
   ],
   "metadata": {}
  },
  {
   "cell_type": "code",
   "execution_count": 129,
   "source": [
    "dframe.groupby(['techskill_data_science'])['company_name'].count()"
   ],
   "outputs": [
    {
     "output_type": "execute_result",
     "data": {
      "text/plain": [
       "techskill_data_science\n",
       "False    20\n",
       "True     80\n",
       "Name: company_name, dtype: int64"
      ]
     },
     "metadata": {},
     "execution_count": 129
    }
   ],
   "metadata": {}
  },
  {
   "cell_type": "code",
   "execution_count": 130,
   "source": [
    "dframe.groupby(['techskill_databases'])['company_name'].count()"
   ],
   "outputs": [
    {
     "output_type": "execute_result",
     "data": {
      "text/plain": [
       "techskill_databases\n",
       "False    73\n",
       "True     27\n",
       "Name: company_name, dtype: int64"
      ]
     },
     "metadata": {},
     "execution_count": 130
    }
   ],
   "metadata": {}
  },
  {
   "cell_type": "code",
   "execution_count": 131,
   "source": [
    "dframe.groupby(['techskill_devmetho'])['company_name'].count()"
   ],
   "outputs": [
    {
     "output_type": "execute_result",
     "data": {
      "text/plain": [
       "techskill_devmetho\n",
       "False    100\n",
       "Name: company_name, dtype: int64"
      ]
     },
     "metadata": {},
     "execution_count": 131
    }
   ],
   "metadata": {}
  },
  {
   "cell_type": "code",
   "execution_count": 132,
   "source": [
    "dframe.groupby(['techskill_proj_manag'])['company_name'].count()"
   ],
   "outputs": [
    {
     "output_type": "execute_result",
     "data": {
      "text/plain": [
       "techskill_proj_manag\n",
       "False    75\n",
       "True     25\n",
       "Name: company_name, dtype: int64"
      ]
     },
     "metadata": {},
     "execution_count": 132
    }
   ],
   "metadata": {}
  },
  {
   "cell_type": "code",
   "execution_count": 133,
   "source": [
    "dframe.groupby(['techskill_tools'])['company_name'].count()"
   ],
   "outputs": [
    {
     "output_type": "execute_result",
     "data": {
      "text/plain": [
       "techskill_tools\n",
       "False    100\n",
       "Name: company_name, dtype: int64"
      ]
     },
     "metadata": {},
     "execution_count": 133
    }
   ],
   "metadata": {}
  },
  {
   "cell_type": "code",
   "execution_count": 228,
   "source": [
    "dframe.groupby(['languages'])['company_name'].count()"
   ],
   "outputs": [
    {
     "output_type": "execute_result",
     "data": {
      "text/plain": [
       "languages\n",
       "False    36\n",
       "True     64\n",
       "Name: company_name, dtype: int64"
      ]
     },
     "metadata": {},
     "execution_count": 228
    }
   ],
   "metadata": {}
  },
  {
   "cell_type": "code",
   "execution_count": 234,
   "source": [
    "dframe.groupby(by=['languages_analytic'], as_index=False)['company_name'].count().sort_values('company_name',ascending=False).to_csv('languages.csv',sep='|',encoding='UTF-16',index=False)"
   ],
   "outputs": [],
   "metadata": {}
  },
  {
   "cell_type": "code",
   "execution_count": 135,
   "source": [
    "dframe.describe()"
   ],
   "outputs": [
    {
     "output_type": "execute_result",
     "data": {
      "text/plain": [
       "       techskill_back_end_python_qty  techskill_data_science_qty  \\\n",
       "count                     100.000000                  100.000000   \n",
       "mean                        0.060000                    1.310000   \n",
       "std                         0.238683                    0.906709   \n",
       "min                         0.000000                    0.000000   \n",
       "25%                         0.000000                    1.000000   \n",
       "50%                         0.000000                    1.000000   \n",
       "75%                         0.000000                    2.000000   \n",
       "max                         1.000000                    4.000000   \n",
       "\n",
       "       techskill_databases_qty  techskill_devmetho_qty  \\\n",
       "count               100.000000                   100.0   \n",
       "mean                  0.270000                     0.0   \n",
       "std                   0.446196                     0.0   \n",
       "min                   0.000000                     0.0   \n",
       "25%                   0.000000                     0.0   \n",
       "50%                   0.000000                     0.0   \n",
       "75%                   1.000000                     0.0   \n",
       "max                   1.000000                     0.0   \n",
       "\n",
       "       techskill_proj_manag_qty  techskill_tools_qty  languages_qty  \n",
       "count                100.000000                100.0     100.000000  \n",
       "mean                   0.250000                  0.0       1.150000  \n",
       "std                    0.435194                  0.0       1.175293  \n",
       "min                    0.000000                  0.0       0.000000  \n",
       "25%                    0.000000                  0.0       0.000000  \n",
       "50%                    0.000000                  0.0       1.000000  \n",
       "75%                    0.250000                  0.0       2.000000  \n",
       "max                    1.000000                  0.0       4.000000  "
      ],
      "text/html": [
       "<div>\n",
       "<style scoped>\n",
       "    .dataframe tbody tr th:only-of-type {\n",
       "        vertical-align: middle;\n",
       "    }\n",
       "\n",
       "    .dataframe tbody tr th {\n",
       "        vertical-align: top;\n",
       "    }\n",
       "\n",
       "    .dataframe thead th {\n",
       "        text-align: right;\n",
       "    }\n",
       "</style>\n",
       "<table border=\"1\" class=\"dataframe\">\n",
       "  <thead>\n",
       "    <tr style=\"text-align: right;\">\n",
       "      <th></th>\n",
       "      <th>techskill_back_end_python_qty</th>\n",
       "      <th>techskill_data_science_qty</th>\n",
       "      <th>techskill_databases_qty</th>\n",
       "      <th>techskill_devmetho_qty</th>\n",
       "      <th>techskill_proj_manag_qty</th>\n",
       "      <th>techskill_tools_qty</th>\n",
       "      <th>languages_qty</th>\n",
       "    </tr>\n",
       "  </thead>\n",
       "  <tbody>\n",
       "    <tr>\n",
       "      <th>count</th>\n",
       "      <td>100.000000</td>\n",
       "      <td>100.000000</td>\n",
       "      <td>100.000000</td>\n",
       "      <td>100.0</td>\n",
       "      <td>100.000000</td>\n",
       "      <td>100.0</td>\n",
       "      <td>100.000000</td>\n",
       "    </tr>\n",
       "    <tr>\n",
       "      <th>mean</th>\n",
       "      <td>0.060000</td>\n",
       "      <td>1.310000</td>\n",
       "      <td>0.270000</td>\n",
       "      <td>0.0</td>\n",
       "      <td>0.250000</td>\n",
       "      <td>0.0</td>\n",
       "      <td>1.150000</td>\n",
       "    </tr>\n",
       "    <tr>\n",
       "      <th>std</th>\n",
       "      <td>0.238683</td>\n",
       "      <td>0.906709</td>\n",
       "      <td>0.446196</td>\n",
       "      <td>0.0</td>\n",
       "      <td>0.435194</td>\n",
       "      <td>0.0</td>\n",
       "      <td>1.175293</td>\n",
       "    </tr>\n",
       "    <tr>\n",
       "      <th>min</th>\n",
       "      <td>0.000000</td>\n",
       "      <td>0.000000</td>\n",
       "      <td>0.000000</td>\n",
       "      <td>0.0</td>\n",
       "      <td>0.000000</td>\n",
       "      <td>0.0</td>\n",
       "      <td>0.000000</td>\n",
       "    </tr>\n",
       "    <tr>\n",
       "      <th>25%</th>\n",
       "      <td>0.000000</td>\n",
       "      <td>1.000000</td>\n",
       "      <td>0.000000</td>\n",
       "      <td>0.0</td>\n",
       "      <td>0.000000</td>\n",
       "      <td>0.0</td>\n",
       "      <td>0.000000</td>\n",
       "    </tr>\n",
       "    <tr>\n",
       "      <th>50%</th>\n",
       "      <td>0.000000</td>\n",
       "      <td>1.000000</td>\n",
       "      <td>0.000000</td>\n",
       "      <td>0.0</td>\n",
       "      <td>0.000000</td>\n",
       "      <td>0.0</td>\n",
       "      <td>1.000000</td>\n",
       "    </tr>\n",
       "    <tr>\n",
       "      <th>75%</th>\n",
       "      <td>0.000000</td>\n",
       "      <td>2.000000</td>\n",
       "      <td>1.000000</td>\n",
       "      <td>0.0</td>\n",
       "      <td>0.250000</td>\n",
       "      <td>0.0</td>\n",
       "      <td>2.000000</td>\n",
       "    </tr>\n",
       "    <tr>\n",
       "      <th>max</th>\n",
       "      <td>1.000000</td>\n",
       "      <td>4.000000</td>\n",
       "      <td>1.000000</td>\n",
       "      <td>0.0</td>\n",
       "      <td>1.000000</td>\n",
       "      <td>0.0</td>\n",
       "      <td>4.000000</td>\n",
       "    </tr>\n",
       "  </tbody>\n",
       "</table>\n",
       "</div>"
      ]
     },
     "metadata": {},
     "execution_count": 135
    }
   ],
   "metadata": {}
  },
  {
   "cell_type": "code",
   "execution_count": 136,
   "source": [
    "#Creating a dframe to evaluate which IT skills were most asked --- Back-end Technologies Python\r\n",
    "df_techskill_back_end_python = pd.DataFrame([[word, sum(dframe.responsabilities_and_other_details.str.contains(word))] for word in bag_of_words_back_end_tech_python], \r\n",
    "                       columns=['techskill', 'skill_count']).sort_values(by=['skill_count'], ascending=False)\r\n",
    "df_techskill_back_end_python['category_en']='Back-end Technologies Python'"
   ],
   "outputs": [
    {
     "output_type": "stream",
     "name": "stderr",
     "text": [
      "C:\\Users\\ivanr\\AppData\\Local\\Programs\\Python\\Python38\\lib\\site-packages\\pandas\\core\\strings\\accessor.py:101: UserWarning: This pattern has match groups. To actually get the groups, use str.extract.\n",
      "  return func(self, *args, **kwargs)\n"
     ]
    }
   ],
   "metadata": {}
  },
  {
   "cell_type": "code",
   "execution_count": 137,
   "source": [
    "#Creating a dframe to evaluate which IT skills were most asked --- Data Science\r\n",
    "df_techskill_data_science = pd.DataFrame([[word, sum(dframe.responsabilities_and_other_details.str.contains(word))] for word in bag_of_words_data_science], \r\n",
    "                       columns=['techskill', 'skill_count']).sort_values(by=['skill_count'], ascending=False)\r\n",
    "df_techskill_data_science['category_en']='Data Science'"
   ],
   "outputs": [],
   "metadata": {}
  },
  {
   "cell_type": "code",
   "execution_count": 138,
   "source": [
    "#Creating a dframe to evaluate which IT skills were most asked --- Databases \r\n",
    "df_techskill_databases = pd.DataFrame([[word, sum(dframe.responsabilities_and_other_details.str.contains(word))] for word in bag_of_words_databases], \r\n",
    "                       columns=['techskill', 'skill_count']).sort_values(by=['skill_count'], ascending=False)\r\n",
    "df_techskill_databases['category_en']='Databases'"
   ],
   "outputs": [],
   "metadata": {}
  },
  {
   "cell_type": "code",
   "execution_count": 139,
   "source": [
    "#Creating a dframe to evaluate which IT skills were most asked --- Development Methodologies\r\n",
    "df_techskill_devmetho = pd.DataFrame([[word, sum(dframe.responsabilities_and_other_details.str.contains(word))] for word in bag_of_words_dev_metho], \r\n",
    "                       columns=['techskill', 'skill_count']).sort_values(by=['skill_count'], ascending=False)\r\n",
    "df_techskill_devmetho['category_en']='Development Methodologies'"
   ],
   "outputs": [],
   "metadata": {}
  },
  {
   "cell_type": "code",
   "execution_count": 140,
   "source": [
    "#Creating a dframe to evaluate which IT skills were most asked --- Project Management\r\n",
    "df_techskill_proj_manag = pd.DataFrame([[word, sum(dframe.responsabilities_and_other_details.str.contains(word))] for word in bag_of_words_proj_manag], \r\n",
    "                       columns=['techskill', 'skill_count']).sort_values(by=['skill_count'], ascending=False)\r\n",
    "df_techskill_proj_manag['category_en']='Project Management'"
   ],
   "outputs": [],
   "metadata": {}
  },
  {
   "cell_type": "code",
   "execution_count": 141,
   "source": [
    "#Creating a dframe to evaluate which IT skills were most asked --- Tools\r\n",
    "df_techskill_tools = pd.DataFrame([[word, sum(dframe.responsabilities_and_other_details.str.contains(word))] for word in bag_of_words_tools], \r\n",
    "                       columns=['techskill', 'skill_count']).sort_values(by=['skill_count'], ascending=False)\r\n",
    "df_techskill_tools['category_en']='Tools'"
   ],
   "outputs": [],
   "metadata": {}
  },
  {
   "cell_type": "code",
   "execution_count": 142,
   "source": [
    "df_all_techskill = pd.concat([df_techskill_back_end_python,\r\n",
    "                                    df_techskill_data_science,\r\n",
    "                                    df_techskill_databases,\r\n",
    "                                    df_techskill_devmetho,\r\n",
    "                                    df_techskill_proj_manag,\r\n",
    "                                    df_techskill_tools],ignore_index=True)"
   ],
   "outputs": [],
   "metadata": {}
  },
  {
   "cell_type": "code",
   "execution_count": 143,
   "source": [
    "df_all_techskill_final = df_all_techskill.query(\"skill_count>0\").sort_values(by=['skill_count'], ascending=False)\r\n",
    "df_all_techskill_final = df_all_techskill_final.merge(dframe_tech_skills, left_on='techskill', right_on='skill_pt_processed')\r\n",
    "df_all_techskill_final = df_all_techskill_final[['techskill','skill_count','category_en_x','skill_en','description_en']]"
   ],
   "outputs": [],
   "metadata": {}
  },
  {
   "cell_type": "code",
   "execution_count": 223,
   "source": [
    "df_all_techskill_final.to_csv(\"techskills_final.csv\",sep='|',encoding='UTF-16',index=False)"
   ],
   "outputs": [],
   "metadata": {}
  },
  {
   "cell_type": "code",
   "execution_count": 229,
   "source": [
    "dframe.columns"
   ],
   "outputs": [
    {
     "output_type": "execute_result",
     "data": {
      "text/plain": [
       "Index(['company_name', 'job_area', 'job_link', 'job_extraction_timestamp',\n",
       "       'job_title', 'job_location', 'job_main_responsabilities',\n",
       "       'job_other_details', 'job_main_responsabilities_lang',\n",
       "       'job_other_details_lang', 'job_main_responsabilities_pt',\n",
       "       'job_other_details_pt', 'job_main_responsabilities_pt_processed',\n",
       "       'job_other_details_pt_processed', 'job_title_type', 'Macro_job_area',\n",
       "       'responsabilities_and_other_details', 'techskill_back_end_python',\n",
       "       'techskill_back_end_python_qty', 'techskill_back_end_python_analytic',\n",
       "       'techskill_data_science', 'techskill_data_science_qty',\n",
       "       'techskill_data_science_analytic', 'techskill_databases',\n",
       "       'techskill_databases_qty', 'techskill_databases_analytic',\n",
       "       'techskill_devmetho', 'techskill_devmetho_qty',\n",
       "       'techskill_devmetho_analytic', 'techskill_proj_manag',\n",
       "       'techskill_proj_manag_qty', 'techskill_proj_manag_analytic',\n",
       "       'techskill_tools', 'techskill_tools_qty', 'techskill_tools_analytic',\n",
       "       'languages', 'languages_qty', 'languages_analytic',\n",
       "       'responsabilities_and_other_details_processed_k&d2008'],\n",
       "      dtype='object')"
      ]
     },
     "metadata": {},
     "execution_count": 229
    }
   ],
   "metadata": {}
  },
  {
   "cell_type": "markdown",
   "source": [
    "Based on Kavanagh and Drennan (2008), table 5, top 10 skills considered most important by employees, let's classify 'jobs_main_responsabilities' + 'other_details' between them."
   ],
   "metadata": {}
  },
  {
   "cell_type": "code",
   "execution_count": 146,
   "source": [
    "# Load the regular expression library\r\n",
    "import re\r\n",
    "# Remove punctuation\r\n",
    "dframe['responsabilities_and_other_details_processed_k&d2008'] = \\\r\n",
    "dframe['responsabilities_and_other_details'].map(lambda x: re.sub('[,\\.!?]', '', x))\r\n",
    "# Convert all the text to lowercase\r\n",
    "dframe['responsabilities_and_other_details_processed_k&d2008'] = \\\r\n",
    "dframe['responsabilities_and_other_details_processed_k&d2008'].map(lambda x: x.lower())\r\n",
    "# Print out the first rows\r\n",
    "dframe['responsabilities_and_other_details_processed_k&d2008'].head()"
   ],
   "outputs": [
    {
     "output_type": "execute_result",
     "data": {
      "text/plain": [
       "0    análise detalhada das variações de p&l versus ...\n",
       "1    avalie o processo financeiro de ponta a ponta ...\n",
       "2    1 orçamento financeiro previsão fechamento con...\n",
       "3    1 orçamento financeiro forecast fechamento con...\n",
       "4    1 orçamento financeiro previsão fechamento con...\n",
       "Name: responsabilities_and_other_details_processed_k&d2008, dtype: object"
      ]
     },
     "metadata": {},
     "execution_count": 146
    }
   ],
   "metadata": {}
  },
  {
   "cell_type": "code",
   "execution_count": 147,
   "source": [
    "# Importing stopwords in Portuguese\r\n",
    "import nltk\r\n",
    "from nltk.tokenize import word_tokenize\r\n",
    "nltk.download('stopwords')\r\n",
    "nltk.download('punkt')\r\n",
    "stopwords = nltk.corpus.stopwords.words('portuguese')"
   ],
   "outputs": [
    {
     "output_type": "stream",
     "name": "stderr",
     "text": [
      "[nltk_data] Downloading package stopwords to\n",
      "[nltk_data]     C:\\Users\\ivanr\\AppData\\Roaming\\nltk_data...\n",
      "[nltk_data]   Package stopwords is already up-to-date!\n",
      "[nltk_data] Downloading package punkt to\n",
      "[nltk_data]     C:\\Users\\ivanr\\AppData\\Roaming\\nltk_data...\n",
      "[nltk_data]   Package punkt is already up-to-date!\n"
     ]
    }
   ],
   "metadata": {}
  },
  {
   "cell_type": "code",
   "execution_count": 148,
   "source": [
    "len(stopwords)"
   ],
   "outputs": [
    {
     "output_type": "execute_result",
     "data": {
      "text/plain": [
       "204"
      ]
     },
     "metadata": {},
     "execution_count": 148
    }
   ],
   "metadata": {}
  },
  {
   "cell_type": "code",
   "execution_count": 149,
   "source": [
    "#Combining all job_description + other_details processed column in a single big text\r\n",
    "all_jobs_text = \" \".join(dframe['responsabilities_and_other_details_processed_k&d2008'])"
   ],
   "outputs": [],
   "metadata": {}
  },
  {
   "cell_type": "code",
   "execution_count": 150,
   "source": [
    "all_jobs_text[:100]"
   ],
   "outputs": [
    {
     "output_type": "execute_result",
     "data": {
      "text/plain": [
       "'análise detalhada das variações de p&l versus previsão orçamento e real compreenda e explique as var'"
      ]
     },
     "metadata": {},
     "execution_count": 150
    }
   ],
   "metadata": {}
  },
  {
   "cell_type": "code",
   "execution_count": 151,
   "source": [
    "#Removing stopwords\r\n",
    "all_jobs_text_tokens = all_jobs_text.split(' ')\r\n",
    "tokens_without_sw = [word for word in all_jobs_text_tokens if not word in stopwords]\r\n",
    "all_jobs_text_no_sw = \" \".join(word for word in tokens_without_sw)"
   ],
   "outputs": [],
   "metadata": {}
  },
  {
   "cell_type": "code",
   "execution_count": 152,
   "source": [
    "all_jobs_text_no_sw[:100]"
   ],
   "outputs": [
    {
     "output_type": "execute_result",
     "data": {
      "text/plain": [
       "'análise detalhada variações p&l versus previsão orçamento real compreenda explique variações lideran'"
      ]
     },
     "metadata": {},
     "execution_count": 152
    }
   ],
   "metadata": {}
  },
  {
   "cell_type": "markdown",
   "source": [
    "Now we are good to go..."
   ],
   "metadata": {}
  },
  {
   "cell_type": "code",
   "execution_count": 153,
   "source": [
    "#Let's plot a WordCloud\r\n",
    "from wordcloud import WordCloud\r\n",
    "wordcloud = WordCloud(width=1600, height=800, background_color=\"black\").generate(all_jobs_text_no_sw)\r\n",
    "plt.figure(figsize=(20,10),facecolor='k')\r\n",
    "plt.imshow(wordcloud)\r\n",
    "plt.axis(\"off\")\r\n",
    "plt.savefig('wordcloud_all.png', facecolor='k', bbox_inches='tight')"
   ],
   "outputs": [],
   "metadata": {}
  },
  {
   "cell_type": "code",
   "execution_count": 154,
   "source": [
    "#Function to return word frequency\r\n",
    "def word_count(str):\r\n",
    "    counts = dict()\r\n",
    "    words = str.split()\r\n",
    "\r\n",
    "    for word in words:\r\n",
    "        if word in counts:\r\n",
    "            counts[word] += 1\r\n",
    "        else:\r\n",
    "            counts[word] = 1\r\n",
    "\r\n",
    "    return counts"
   ],
   "outputs": [],
   "metadata": {}
  },
  {
   "cell_type": "code",
   "execution_count": 155,
   "source": [
    "#Now let's split all text without stopwords in words, counting it's frequency in the text\r\n",
    "import cleantext\r\n",
    "all_jobs_text_no_sw = str(\" \".join(cleantext.clean_words(all_jobs_text_no_sw, all=False, extra_spaces=True, punct=True, stp_lang='portuguese')))\r\n",
    "dict_words = word_count(all_jobs_text_no_sw)\r\n",
    "df_words = pd.DataFrame.from_dict(dict_words, orient='index',\r\n",
    "                       columns=['Palavra'])\r\n",
    "df_words = df_words.reset_index()\r\n",
    "df_words = df_words.sort_values(by='Palavra',ascending=False)\r\n",
    "df_words.columns = ['Palavra','Frequência']"
   ],
   "outputs": [],
   "metadata": {}
  },
  {
   "cell_type": "code",
   "execution_count": 156,
   "source": [
    "df_words.to_csv('all_words.csv',sep='|',encoding='UTF-16',index=False)"
   ],
   "outputs": [],
   "metadata": {}
  },
  {
   "cell_type": "code",
   "execution_count": 157,
   "source": [
    "from sklearn.feature_extraction.text import CountVectorizer\r\n",
    "c_vec = CountVectorizer(stop_words=stopwords, ngram_range=(2,3))\r\n",
    "# matrix of ngrams\r\n",
    "ngrams = c_vec.fit_transform(dframe['responsabilities_and_other_details'])\r\n",
    "# count frequency of ngrams\r\n",
    "count_values = ngrams.toarray().sum(axis=0)\r\n",
    "# list of ngrams\r\n",
    "vocab = c_vec.vocabulary_\r\n",
    "df_ngram = pd.DataFrame(sorted([(count_values[i],k) for k,i in vocab.items()], reverse=True)\r\n",
    "            ).rename(columns={0: 'frequency', 1:'bigram/trigram'})"
   ],
   "outputs": [],
   "metadata": {}
  },
  {
   "cell_type": "code",
   "execution_count": 158,
   "source": [
    "df_ngram.to_csv(\"bigram_trigram.csv\",sep='|',encoding='UTF-16',index=False)"
   ],
   "outputs": [],
   "metadata": {}
  },
  {
   "cell_type": "code",
   "execution_count": 159,
   "source": [
    "dframe.columns"
   ],
   "outputs": [
    {
     "output_type": "execute_result",
     "data": {
      "text/plain": [
       "Index(['company_name', 'job_area', 'job_link', 'job_extraction_timestamp',\n",
       "       'job_title', 'job_location', 'job_main_responsabilities',\n",
       "       'job_other_details', 'job_main_responsabilities_lang',\n",
       "       'job_other_details_lang', 'job_main_responsabilities_pt',\n",
       "       'job_other_details_pt', 'job_main_responsabilities_pt_processed',\n",
       "       'job_other_details_pt_processed', 'job_title_type', 'Macro_job_area',\n",
       "       'responsabilities_and_other_details', 'techskill_back_end_python',\n",
       "       'techskill_back_end_python_qty', 'techskill_back_end_python_analytic',\n",
       "       'techskill_data_science', 'techskill_data_science_qty',\n",
       "       'techskill_data_science_analytic', 'techskill_databases',\n",
       "       'techskill_databases_qty', 'techskill_databases_analytic',\n",
       "       'techskill_devmetho', 'techskill_devmetho_qty',\n",
       "       'techskill_devmetho_analytic', 'techskill_proj_manag',\n",
       "       'techskill_proj_manag_qty', 'techskill_proj_manag_analytic',\n",
       "       'techskill_tools', 'techskill_tools_qty', 'techskill_tools_analytic',\n",
       "       'languages', 'languages_qty', 'languages_analytic',\n",
       "       'responsabilities_and_other_details_processed_k&d2008'],\n",
       "      dtype='object')"
      ]
     },
     "metadata": {},
     "execution_count": 159
    }
   ],
   "metadata": {}
  }
 ],
 "metadata": {
  "interpreter": {
   "hash": "67ec7ba3d9b86346e9fbef625ddb015493eed4412d6f732feacd0f4e49252ef8"
  },
  "kernelspec": {
   "display_name": "Python 3.8.8 64-bit",
   "name": "python3"
  },
  "language_info": {
   "codemirror_mode": {
    "name": "ipython",
    "version": 3
   },
   "file_extension": ".py",
   "mimetype": "text/x-python",
   "name": "python",
   "nbconvert_exporter": "python",
   "pygments_lexer": "ipython3",
   "version": "3.8.8"
  },
  "orig_nbformat": 4
 },
 "nbformat": 4,
 "nbformat_minor": 2
}